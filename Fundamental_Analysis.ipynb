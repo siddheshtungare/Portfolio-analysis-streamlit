{
  "cells": [
    {
      "cell_type": "markdown",
      "metadata": {
        "colab_type": "text",
        "id": "view-in-github"
      },
      "source": [
        "<a href=\"https://colab.research.google.com/github/siddheshtungare/Portfolio-analysis-streamlit/blob/main/Fundamental_Analysis.ipynb\" target=\"_parent\"><img src=\"https://colab.research.google.com/assets/colab-badge.svg\" alt=\"Open In Colab\"/></a>"
      ]
    },
    {
      "cell_type": "markdown",
      "metadata": {},
      "source": [
        "# Fundamentals Evaluation \n",
        "\n",
        "We will run some fundamentals comparison of how the tickers in our portfolio look against the other securities in the whole index"
      ]
    },
    {
      "cell_type": "code",
      "execution_count": 63,
      "metadata": {
        "id": "RJqLn0HMwMGf"
      },
      "outputs": [],
      "source": [
        "import yfinance as yf\n",
        "import pandas as pd\n",
        "import json\n",
        "import hvplot.pandas"
      ]
    },
    {
      "cell_type": "code",
      "execution_count": 64,
      "metadata": {},
      "outputs": [],
      "source": [
        "index_to_run = \"^AXJO\""
      ]
    },
    {
      "cell_type": "markdown",
      "metadata": {},
      "source": [
        "## Step1: Get data for all securities for that index. We have stored them in the `Resources/symbols_list.json` file"
      ]
    },
    {
      "cell_type": "code",
      "execution_count": 65,
      "metadata": {},
      "outputs": [],
      "source": [
        "# Get all tickers for this index\n",
        "with open('Resources/symbols_list.json', 'r') as json_file:\n",
        "    symbols_dict = json.load(json_file)\n",
        "\n",
        "tickers_names = symbols_dict[index_to_run]\n",
        "# The symbols are read in this format: \"NAB.AX: National Australia Bank\". \n",
        "# We will need to split at the : and take the first part as our ticker codes\n",
        "tickers_all = [ticker.split(\":\")[0] for ticker in tickers_names]"
      ]
    },
    {
      "cell_type": "code",
      "execution_count": 66,
      "metadata": {
        "colab": {
          "base_uri": "https://localhost:8080/",
          "height": 35
        },
        "id": "8WFG9WGnIhjy",
        "outputId": "6f945483-22e6-436e-a02e-fd7a08fc0435"
      },
      "outputs": [
        {
          "data": {
            "text/plain": [
              "1399"
            ]
          },
          "execution_count": 66,
          "metadata": {},
          "output_type": "execute_result"
        }
      ],
      "source": [
        "# list_of_tickers = ['MSFT', 'AAPL']\n",
        "\n",
        "string_of_names = \"\"\n",
        "for ticker in tickers_all:\n",
        "    string_of_names += ticker + \" \"\n",
        "\n",
        "string_of_names = string_of_names[:-1]\n",
        "len(string_of_names)"
      ]
    },
    {
      "cell_type": "code",
      "execution_count": 67,
      "metadata": {
        "id": "yHA5Pk09wMTW"
      },
      "outputs": [],
      "source": [
        "tickers = yf.Tickers(string_of_names)"
      ]
    },
    {
      "cell_type": "markdown",
      "metadata": {},
      "source": [
        "Downloading data takes around 1-2 mins"
      ]
    },
    {
      "cell_type": "code",
      "execution_count": 80,
      "metadata": {
        "colab": {
          "base_uri": "https://localhost:8080/"
        },
        "id": "E2FYPJY8M7Fz",
        "outputId": "9b101183-0ef0-4414-d798-e497bba4bdf6"
      },
      "outputs": [
        {
          "data": {
            "text/plain": [
              "200"
            ]
          },
          "execution_count": 80,
          "metadata": {},
          "output_type": "execute_result"
        }
      ],
      "source": [
        "# Download Fundamentals data for all the tickers\n",
        "dict_info = [tickers.tickers[ticker].info for ticker in tickers_all]\n",
        "len(dict_info)"
      ]
    },
    {
      "cell_type": "code",
      "execution_count": 81,
      "metadata": {
        "id": "69uAsapVi6i4"
      },
      "outputs": [],
      "source": [
        "list_of_keys = [\"overallRisk\", \"averageVolume\", \"beta\", \"marketCap\", \"ebitda\", \"forwardPE\", \"totalRevenue\" ]"
      ]
    },
    {
      "cell_type": "code",
      "execution_count": 82,
      "metadata": {
        "id": "-UeGe8APiWMm"
      },
      "outputs": [],
      "source": [
        "whatisit = []\n",
        "for index in range(len(tickers_all)):\n",
        "    records = {\"index\": tickers_all[index]}\n",
        "    records['overallRisk'] = dict_info[index].get('overallRisk')\n",
        "    records['averageVolume'] = dict_info[index].get('averageVolume')\n",
        "    records['beta'] = dict_info[index].get('beta')\n",
        "    records['marketCap'] = dict_info[index].get('marketCap')\n",
        "    records['ebitda'] = dict_info[index].get('ebitda')\n",
        "    records['forwardPE'] = dict_info[index].get('forwardPE')\n",
        "    records['totalRevenue'] = dict_info[index].get('totalRevenue')\n",
        "\n",
        "    whatisit += [records]\n",
        "\n",
        "df_fundamentals = pd.DataFrame(whatisit)"
      ]
    },
    {
      "cell_type": "code",
      "execution_count": 83,
      "metadata": {},
      "outputs": [
        {
          "name": "stdout",
          "output_type": "stream",
          "text": [
            "(200, 8)\n"
          ]
        },
        {
          "data": {
            "text/html": [
              "<div>\n",
              "<style scoped>\n",
              "    .dataframe tbody tr th:only-of-type {\n",
              "        vertical-align: middle;\n",
              "    }\n",
              "\n",
              "    .dataframe tbody tr th {\n",
              "        vertical-align: top;\n",
              "    }\n",
              "\n",
              "    .dataframe thead th {\n",
              "        text-align: right;\n",
              "    }\n",
              "</style>\n",
              "<table border=\"1\" class=\"dataframe\">\n",
              "  <thead>\n",
              "    <tr style=\"text-align: right;\">\n",
              "      <th></th>\n",
              "      <th>index</th>\n",
              "      <th>overallRisk</th>\n",
              "      <th>averageVolume</th>\n",
              "      <th>beta</th>\n",
              "      <th>marketCap</th>\n",
              "      <th>ebitda</th>\n",
              "      <th>forwardPE</th>\n",
              "      <th>totalRevenue</th>\n",
              "    </tr>\n",
              "  </thead>\n",
              "  <tbody>\n",
              "    <tr>\n",
              "      <th>197</th>\n",
              "      <td>UMG.AX</td>\n",
              "      <td>3.0</td>\n",
              "      <td>1756470.0</td>\n",
              "      <td>0.627058</td>\n",
              "      <td>1.471961e+09</td>\n",
              "      <td>62300000.0</td>\n",
              "      <td>25.894737</td>\n",
              "      <td>1.514000e+09</td>\n",
              "    </tr>\n",
              "  </tbody>\n",
              "</table>\n",
              "</div>"
            ],
            "text/plain": [
              "      index  overallRisk  averageVolume      beta     marketCap      ebitda  \\\n",
              "197  UMG.AX          3.0      1756470.0  0.627058  1.471961e+09  62300000.0   \n",
              "\n",
              "     forwardPE  totalRevenue  \n",
              "197  25.894737  1.514000e+09  "
            ]
          },
          "execution_count": 83,
          "metadata": {},
          "output_type": "execute_result"
        }
      ],
      "source": [
        "print(df_fundamentals.shape)\n",
        "df_fundamentals.sample()"
      ]
    },
    {
      "cell_type": "markdown",
      "metadata": {},
      "source": [
        "### Data Cleanup \n",
        "\n",
        "There maybe some NaNs and some more nasty surprises"
      ]
    },
    {
      "cell_type": "markdown",
      "metadata": {},
      "source": [
        "Check NaNs"
      ]
    },
    {
      "cell_type": "code",
      "execution_count": 108,
      "metadata": {
        "colab": {
          "base_uri": "https://localhost:8080/",
          "height": 112
        },
        "id": "LkptJ1JjnKtw",
        "outputId": "ef385e1a-a3ef-439a-c168-caf114a70d07"
      },
      "outputs": [
        {
          "data": {
            "text/plain": [
              "index            0\n",
              "overallRisk      0\n",
              "averageVolume    0\n",
              "beta             0\n",
              "marketCap        0\n",
              "ebitda           0\n",
              "forwardPE        0\n",
              "totalRevenue     0\n",
              "dtype: int64"
            ]
          },
          "execution_count": 108,
          "metadata": {},
          "output_type": "execute_result"
        }
      ],
      "source": [
        "df_fundamentals.isna().sum()"
      ]
    },
    {
      "cell_type": "markdown",
      "metadata": {},
      "source": [
        "NaNs present, we'll need to fill them up with some default values: using the mean of the columns values"
      ]
    },
    {
      "cell_type": "code",
      "execution_count": 85,
      "metadata": {},
      "outputs": [
        {
          "name": "stdout",
          "output_type": "stream",
          "text": [
            "Exception TypeError raised for forwardPE\n"
          ]
        },
        {
          "data": {
            "text/plain": [
              "index            0\n",
              "overallRisk      0\n",
              "averageVolume    0\n",
              "beta             0\n",
              "marketCap        0\n",
              "ebitda           0\n",
              "forwardPE        8\n",
              "totalRevenue     0\n",
              "dtype: int64"
            ]
          },
          "execution_count": 85,
          "metadata": {},
          "output_type": "execute_result"
        }
      ],
      "source": [
        "for col in list_of_keys: \n",
        "\n",
        "    try: \n",
        "        df_fundamentals[col].fillna(df_fundamentals[col].mean(), inplace = True)\n",
        "    except TypeError as err: \n",
        "        print(f\"Exception TypeError raised for {col}\")\n",
        "\n",
        "df_fundamentals.isna().sum()"
      ]
    },
    {
      "cell_type": "markdown",
      "metadata": {},
      "source": [
        "Check dtypes"
      ]
    },
    {
      "cell_type": "code",
      "execution_count": 86,
      "metadata": {},
      "outputs": [
        {
          "data": {
            "text/plain": [
              "index             object\n",
              "overallRisk      float64\n",
              "averageVolume    float64\n",
              "beta             float64\n",
              "marketCap        float64\n",
              "ebitda           float64\n",
              "forwardPE         object\n",
              "totalRevenue     float64\n",
              "dtype: object"
            ]
          },
          "execution_count": 86,
          "metadata": {},
          "output_type": "execute_result"
        }
      ],
      "source": [
        "df_fundamentals.dtypes"
      ]
    },
    {
      "cell_type": "markdown",
      "metadata": {},
      "source": [
        "`forwardPE` shouldnt be an Object. This means there are some junk values in there"
      ]
    },
    {
      "cell_type": "code",
      "execution_count": 87,
      "metadata": {},
      "outputs": [
        {
          "data": {
            "text/plain": [
              "count          192\n",
              "unique         191\n",
              "top       Infinity\n",
              "freq             2\n",
              "Name: forwardPE, dtype: object"
            ]
          },
          "execution_count": 87,
          "metadata": {},
          "output_type": "execute_result"
        }
      ],
      "source": [
        "df_fundamentals.forwardPE.describe()"
      ]
    },
    {
      "cell_type": "code",
      "execution_count": 96,
      "metadata": {},
      "outputs": [
        {
          "data": {
            "text/html": [
              "<div>\n",
              "<style scoped>\n",
              "    .dataframe tbody tr th:only-of-type {\n",
              "        vertical-align: middle;\n",
              "    }\n",
              "\n",
              "    .dataframe tbody tr th {\n",
              "        vertical-align: top;\n",
              "    }\n",
              "\n",
              "    .dataframe thead th {\n",
              "        text-align: right;\n",
              "    }\n",
              "</style>\n",
              "<table border=\"1\" class=\"dataframe\">\n",
              "  <thead>\n",
              "    <tr style=\"text-align: right;\">\n",
              "      <th></th>\n",
              "      <th>index</th>\n",
              "      <th>overallRisk</th>\n",
              "      <th>averageVolume</th>\n",
              "      <th>beta</th>\n",
              "      <th>marketCap</th>\n",
              "      <th>ebitda</th>\n",
              "      <th>forwardPE</th>\n",
              "      <th>totalRevenue</th>\n",
              "    </tr>\n",
              "  </thead>\n",
              "  <tbody>\n",
              "  </tbody>\n",
              "</table>\n",
              "</div>"
            ],
            "text/plain": [
              "Empty DataFrame\n",
              "Columns: [index, overallRisk, averageVolume, beta, marketCap, ebitda, forwardPE, totalRevenue]\n",
              "Index: []"
            ]
          },
          "execution_count": 96,
          "metadata": {},
          "output_type": "execute_result"
        }
      ],
      "source": [
        "df_fundamentals.loc[df_fundamentals.forwardPE == \"Infinity\"]"
      ]
    },
    {
      "cell_type": "markdown",
      "metadata": {},
      "source": [
        "**LOL** Price to Earnings ratio = Infinity 🤣"
      ]
    },
    {
      "cell_type": "markdown",
      "metadata": {},
      "source": [
        "Set the forwardPE ratio to the mean of the column\n",
        "\n",
        "Then replace the null values with the mean of the column "
      ]
    },
    {
      "cell_type": "code",
      "execution_count": 93,
      "metadata": {},
      "outputs": [],
      "source": [
        "mean_forwardPR = df_fundamentals.loc[df_fundamentals.forwardPE != \"Infinity\", \"forwardPE\"].mean()"
      ]
    },
    {
      "cell_type": "code",
      "execution_count": 97,
      "metadata": {},
      "outputs": [],
      "source": [
        "df_fundamentals.loc[df_fundamentals.forwardPE == \"Infinity\", \"forwardPE\"] = mean_forwardPR\n",
        "df_fundamentals['forwardPE'].fillna(df_fundamentals['forwardPE'].mean(), inplace = True)"
      ]
    },
    {
      "cell_type": "markdown",
      "metadata": {},
      "source": [
        "Verify"
      ]
    },
    {
      "cell_type": "code",
      "execution_count": 98,
      "metadata": {},
      "outputs": [
        {
          "data": {
            "text/plain": [
              "count    200.000000\n",
              "mean      17.618580\n",
              "std       29.440167\n",
              "min     -129.000000\n",
              "25%       11.535298\n",
              "50%       14.801282\n",
              "75%       20.188645\n",
              "max      320.571440\n",
              "Name: forwardPE, dtype: float64"
            ]
          },
          "execution_count": 98,
          "metadata": {},
          "output_type": "execute_result"
        }
      ],
      "source": [
        "df_fundamentals.forwardPE.describe()"
      ]
    },
    {
      "cell_type": "markdown",
      "metadata": {},
      "source": [
        "#### Data Cleanup complete\n",
        "\n",
        "Store the cleaned data to a CSV, so that streamlit app can load the DF from it and display the plots"
      ]
    },
    {
      "cell_type": "code",
      "execution_count": 110,
      "metadata": {},
      "outputs": [],
      "source": [
        "df_fundamentals.to_csv(f\"Resources/Fundamentals_data_{index_to_run}.csv\", index=None)"
      ]
    },
    {
      "cell_type": "markdown",
      "metadata": {},
      "source": [
        "## Start exploring some plots"
      ]
    },
    {
      "cell_type": "code",
      "execution_count": 104,
      "metadata": {},
      "outputs": [
        {
          "data": {
            "text/plain": [
              "['overallRisk',\n",
              " 'averageVolume',\n",
              " 'beta',\n",
              " 'marketCap',\n",
              " 'ebitda',\n",
              " 'forwardPE',\n",
              " 'totalRevenue']"
            ]
          },
          "execution_count": 104,
          "metadata": {},
          "output_type": "execute_result"
        }
      ],
      "source": [
        "list_of_keys"
      ]
    },
    {
      "cell_type": "code",
      "execution_count": 111,
      "metadata": {
        "id": "ssfuSnnfHz7J"
      },
      "outputs": [
        {
          "data": {},
          "metadata": {},
          "output_type": "display_data"
        },
        {
          "data": {
            "application/vnd.holoviews_exec.v0+json": "",
            "text/html": [
              "<div id='p5452'>\n",
              "  <div id=\"c915a217-5dbd-4084-a45b-fc369e9306da\" data-root-id=\"p5452\" style=\"display: contents;\"></div>\n",
              "</div>\n",
              "<script type=\"application/javascript\">(function(root) {\n",
              "  var docs_json = {\"1df9617b-6d96-4734-ac88-d4ced4057909\":{\"version\":\"3.1.1\",\"title\":\"Bokeh Application\",\"defs\":[{\"type\":\"model\",\"name\":\"ReactiveHTML1\"},{\"type\":\"model\",\"name\":\"FlexBox1\",\"properties\":[{\"name\":\"align_content\",\"kind\":\"Any\",\"default\":\"flex-start\"},{\"name\":\"align_items\",\"kind\":\"Any\",\"default\":\"flex-start\"},{\"name\":\"flex_direction\",\"kind\":\"Any\",\"default\":\"row\"},{\"name\":\"flex_wrap\",\"kind\":\"Any\",\"default\":\"wrap\"},{\"name\":\"justify_content\",\"kind\":\"Any\",\"default\":\"flex-start\"}]},{\"type\":\"model\",\"name\":\"FloatPanel1\",\"properties\":[{\"name\":\"config\",\"kind\":\"Any\",\"default\":{\"type\":\"map\"}},{\"name\":\"contained\",\"kind\":\"Any\",\"default\":true},{\"name\":\"position\",\"kind\":\"Any\",\"default\":\"right-top\"},{\"name\":\"offsetx\",\"kind\":\"Any\",\"default\":null},{\"name\":\"offsety\",\"kind\":\"Any\",\"default\":null},{\"name\":\"theme\",\"kind\":\"Any\",\"default\":\"primary\"},{\"name\":\"status\",\"kind\":\"Any\",\"default\":\"normalized\"}]},{\"type\":\"model\",\"name\":\"GridStack1\",\"properties\":[{\"name\":\"mode\",\"kind\":\"Any\",\"default\":\"warn\"},{\"name\":\"ncols\",\"kind\":\"Any\",\"default\":null},{\"name\":\"nrows\",\"kind\":\"Any\",\"default\":null},{\"name\":\"allow_resize\",\"kind\":\"Any\",\"default\":true},{\"name\":\"allow_drag\",\"kind\":\"Any\",\"default\":true},{\"name\":\"state\",\"kind\":\"Any\",\"default\":[]}]},{\"type\":\"model\",\"name\":\"drag1\",\"properties\":[{\"name\":\"slider_width\",\"kind\":\"Any\",\"default\":5},{\"name\":\"slider_color\",\"kind\":\"Any\",\"default\":\"black\"},{\"name\":\"value\",\"kind\":\"Any\",\"default\":50}]},{\"type\":\"model\",\"name\":\"click1\",\"properties\":[{\"name\":\"terminal_output\",\"kind\":\"Any\",\"default\":\"\"},{\"name\":\"debug_name\",\"kind\":\"Any\",\"default\":\"\"},{\"name\":\"clears\",\"kind\":\"Any\",\"default\":0}]},{\"type\":\"model\",\"name\":\"FastWrapper1\",\"properties\":[{\"name\":\"object\",\"kind\":\"Any\",\"default\":null},{\"name\":\"style\",\"kind\":\"Any\",\"default\":null}]},{\"type\":\"model\",\"name\":\"NotificationAreaBase1\",\"properties\":[{\"name\":\"position\",\"kind\":\"Any\",\"default\":\"bottom-right\"},{\"name\":\"_clear\",\"kind\":\"Any\",\"default\":0}]},{\"type\":\"model\",\"name\":\"NotificationArea1\",\"properties\":[{\"name\":\"notifications\",\"kind\":\"Any\",\"default\":[]},{\"name\":\"position\",\"kind\":\"Any\",\"default\":\"bottom-right\"},{\"name\":\"_clear\",\"kind\":\"Any\",\"default\":0},{\"name\":\"types\",\"kind\":\"Any\",\"default\":[{\"type\":\"map\",\"entries\":[[\"type\",\"warning\"],[\"background\",\"#ffc107\"],[\"icon\",{\"type\":\"map\",\"entries\":[[\"className\",\"fas fa-exclamation-triangle\"],[\"tagName\",\"i\"],[\"color\",\"white\"]]}]]},{\"type\":\"map\",\"entries\":[[\"type\",\"info\"],[\"background\",\"#007bff\"],[\"icon\",{\"type\":\"map\",\"entries\":[[\"className\",\"fas fa-info-circle\"],[\"tagName\",\"i\"],[\"color\",\"white\"]]}]]}]}]},{\"type\":\"model\",\"name\":\"Notification\",\"properties\":[{\"name\":\"background\",\"kind\":\"Any\",\"default\":null},{\"name\":\"duration\",\"kind\":\"Any\",\"default\":3000},{\"name\":\"icon\",\"kind\":\"Any\",\"default\":null},{\"name\":\"message\",\"kind\":\"Any\",\"default\":\"\"},{\"name\":\"notification_type\",\"kind\":\"Any\",\"default\":null},{\"name\":\"_destroyed\",\"kind\":\"Any\",\"default\":false}]},{\"type\":\"model\",\"name\":\"TemplateActions1\",\"properties\":[{\"name\":\"open_modal\",\"kind\":\"Any\",\"default\":0},{\"name\":\"close_modal\",\"kind\":\"Any\",\"default\":0}]},{\"type\":\"model\",\"name\":\"BootstrapTemplateActions1\",\"properties\":[{\"name\":\"open_modal\",\"kind\":\"Any\",\"default\":0},{\"name\":\"close_modal\",\"kind\":\"Any\",\"default\":0}]},{\"type\":\"model\",\"name\":\"MaterialTemplateActions1\",\"properties\":[{\"name\":\"open_modal\",\"kind\":\"Any\",\"default\":0},{\"name\":\"close_modal\",\"kind\":\"Any\",\"default\":0}]}],\"roots\":[{\"type\":\"object\",\"name\":\"Row\",\"id\":\"p5452\",\"attributes\":{\"name\":\"Row09278\",\"tags\":[\"embedded\"],\"stylesheets\":[\"\\n:host(.pn-loading.pn-arc):before, .pn-loading.pn-arc:before {\\n  background-image: url(\\\"data:image/svg+xml;base64,PHN2ZyB4bWxucz0iaHR0cDovL3d3dy53My5vcmcvMjAwMC9zdmciIHN0eWxlPSJtYXJnaW46IGF1dG87IGJhY2tncm91bmQ6IG5vbmU7IGRpc3BsYXk6IGJsb2NrOyBzaGFwZS1yZW5kZXJpbmc6IGF1dG87IiB2aWV3Qm94PSIwIDAgMTAwIDEwMCIgcHJlc2VydmVBc3BlY3RSYXRpbz0ieE1pZFlNaWQiPiAgPGNpcmNsZSBjeD0iNTAiIGN5PSI1MCIgZmlsbD0ibm9uZSIgc3Ryb2tlPSIjYzNjM2MzIiBzdHJva2Utd2lkdGg9IjEwIiByPSIzNSIgc3Ryb2tlLWRhc2hhcnJheT0iMTY0LjkzMzYxNDMxMzQ2NDE1IDU2Ljk3Nzg3MTQzNzgyMTM4Ij4gICAgPGFuaW1hdGVUcmFuc2Zvcm0gYXR0cmlidXRlTmFtZT0idHJhbnNmb3JtIiB0eXBlPSJyb3RhdGUiIHJlcGVhdENvdW50PSJpbmRlZmluaXRlIiBkdXI9IjFzIiB2YWx1ZXM9IjAgNTAgNTA7MzYwIDUwIDUwIiBrZXlUaW1lcz0iMDsxIj48L2FuaW1hdGVUcmFuc2Zvcm0+ICA8L2NpcmNsZT48L3N2Zz4=\\\");\\n  background-size: auto calc(min(50%, 400px));\\n}\",{\"type\":\"object\",\"name\":\"ImportedStyleSheet\",\"id\":\"p5455\",\"attributes\":{\"url\":\"https://cdn.holoviz.org/panel/1.1.0/dist/css/loading.css\"}},{\"type\":\"object\",\"name\":\"ImportedStyleSheet\",\"id\":\"p5544\",\"attributes\":{\"url\":\"https://cdn.holoviz.org/panel/1.1.0/dist/css/listpanel.css\"}},{\"type\":\"object\",\"name\":\"ImportedStyleSheet\",\"id\":\"p5453\",\"attributes\":{\"url\":\"https://cdn.holoviz.org/panel/1.1.0/dist/bundled/theme/default.css\"}},{\"type\":\"object\",\"name\":\"ImportedStyleSheet\",\"id\":\"p5454\",\"attributes\":{\"url\":\"https://cdn.holoviz.org/panel/1.1.0/dist/bundled/theme/native.css\"}}],\"min_width\":0,\"margin\":0,\"sizing_mode\":\"stretch_width\",\"align\":\"start\",\"children\":[{\"type\":\"object\",\"name\":\"Spacer\",\"id\":\"p5456\",\"attributes\":{\"name\":\"HSpacer09289\",\"stylesheets\":[\"\\n:host(.pn-loading.pn-arc):before, .pn-loading.pn-arc:before {\\n  background-image: url(\\\"data:image/svg+xml;base64,PHN2ZyB4bWxucz0iaHR0cDovL3d3dy53My5vcmcvMjAwMC9zdmciIHN0eWxlPSJtYXJnaW46IGF1dG87IGJhY2tncm91bmQ6IG5vbmU7IGRpc3BsYXk6IGJsb2NrOyBzaGFwZS1yZW5kZXJpbmc6IGF1dG87IiB2aWV3Qm94PSIwIDAgMTAwIDEwMCIgcHJlc2VydmVBc3BlY3RSYXRpbz0ieE1pZFlNaWQiPiAgPGNpcmNsZSBjeD0iNTAiIGN5PSI1MCIgZmlsbD0ibm9uZSIgc3Ryb2tlPSIjYzNjM2MzIiBzdHJva2Utd2lkdGg9IjEwIiByPSIzNSIgc3Ryb2tlLWRhc2hhcnJheT0iMTY0LjkzMzYxNDMxMzQ2NDE1IDU2Ljk3Nzg3MTQzNzgyMTM4Ij4gICAgPGFuaW1hdGVUcmFuc2Zvcm0gYXR0cmlidXRlTmFtZT0idHJhbnNmb3JtIiB0eXBlPSJyb3RhdGUiIHJlcGVhdENvdW50PSJpbmRlZmluaXRlIiBkdXI9IjFzIiB2YWx1ZXM9IjAgNTAgNTA7MzYwIDUwIDUwIiBrZXlUaW1lcz0iMDsxIj48L2FuaW1hdGVUcmFuc2Zvcm0+ICA8L2NpcmNsZT48L3N2Zz4=\\\");\\n  background-size: auto calc(min(50%, 400px));\\n}\",{\"id\":\"p5455\"},{\"id\":\"p5453\"},{\"id\":\"p5454\"}],\"margin\":0,\"sizing_mode\":\"stretch_width\",\"align\":\"start\"}},{\"type\":\"object\",\"name\":\"Figure\",\"id\":\"p5460\",\"attributes\":{\"width\":700,\"height\":300,\"margin\":[5,10],\"sizing_mode\":\"fixed\",\"align\":\"start\",\"x_range\":{\"type\":\"object\",\"name\":\"Range1d\",\"id\":\"p5457\",\"attributes\":{\"tags\":[[[\"marketCap\",\"marketCap\",null]]],\"start\":-28993983052.117706,\"end\":250457475556.1177,\"reset_start\":-28993983052.117706,\"reset_end\":250457475556.1177}},\"y_range\":{\"type\":\"object\",\"name\":\"Range1d\",\"id\":\"p5458\",\"attributes\":{\"tags\":[[[\"marketCap_density\",\"Density\",null]]],\"end\":3.614604890251287e-11,\"reset_start\":0.0,\"reset_end\":3.614604890251287e-11}},\"x_scale\":{\"type\":\"object\",\"name\":\"LinearScale\",\"id\":\"p5472\"},\"y_scale\":{\"type\":\"object\",\"name\":\"LinearScale\",\"id\":\"p5474\"},\"title\":{\"type\":\"object\",\"name\":\"Title\",\"id\":\"p5463\",\"attributes\":{\"text\":\"Normal Distribution\",\"text_color\":\"black\",\"text_font_size\":\"12pt\"}},\"renderers\":[{\"type\":\"object\",\"name\":\"GlyphRenderer\",\"id\":\"p5514\",\"attributes\":{\"data_source\":{\"type\":\"object\",\"name\":\"ColumnDataSource\",\"id\":\"p5504\",\"attributes\":{\"selected\":{\"type\":\"object\",\"name\":\"Selection\",\"id\":\"p5505\",\"attributes\":{\"indices\":[],\"line_indices\":[]}},\"selection_policy\":{\"type\":\"object\",\"name\":\"UnionRenderers\",\"id\":\"p5506\"},\"data\":{\"type\":\"map\",\"entries\":[[\"x\",{\"type\":\"ndarray\",\"array\":{\"type\":\"bytes\",\"data\":\"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\"},\"shape\":[200],\"dtype\":\"float64\",\"order\":\"little\"}],[\"y\",{\"type\":\"ndarray\",\"array\":{\"type\":\"bytes\",\"data\":\"AAAAAAAAAAAAAAAAAAAAAAAAAAAAAAAAAAAAAAAAAAAAAAAAAAAAAAAAAAAAAAAAAAAAAAAAAAAAAAAAAAAAAAAAAAAAAAAAAAAAAAAAAAAAAAAAAAAAAAAAAAAAAAAAAAAAAAAAAAAAAAAAAAAAAAAAAAAAAAAAAAAAAAAAAAAAAAAAAAAAAAAAAAAAAAAAAAAAAAAAAAAAAAAAAAAAAAAAAAAAAAAAAAAAAAAAAAAAAAAAAAAAAAAAAAAAAAAAAAAAAAAAAAAAAAAAAAAAAAAAAAAAAAAAAAAAAAAAAAAAAAAAAAAAAAAAAAAAAAAAAAAAAAAAAAAAAAAAAAAAAAAAAAAAAAAAAAAAAAAAAAAAAAAAAAAAAAAAAAAAAAAAAAAAAAAAAAAAAAAAAAAAAAAAAAAAAAAAAAAAAAAAAAAAAAAAAAAAAAAAAAAAAAAAAAAAAAAAAAAAAAAAAAAAAAAAAAAAAAAAAAAAAAAAAAAAAAAAAAAAAAAAAAAAAAAAAAAAAAAAAAAAAAAAAAAAAAAAAAAAAAAAAAAAAAAAAAAAAAAAAAAAAAAAAAAAAAAAAAAAAAAAAAAAAAAAAAAAAAAAAAAAAAAAAAAAAAAAAAAAAAAAAAAAAAAAAAAAAAAAAAAAAAAAAAAAAAAAAAAAAAAAAAAAAAAAAAAAAAAAAAAAAAAAAAAAAAAAAAAAAAAAAAAAAAAAAAAAAAAAAAAAAAAAAAAAAAAAAAAAAAAAAAAAAAAAAAAAAAAAAAAAAAAAAAAAAAAAAAAAAAAAAAAAAAAAAAAAAAAAAAAAAAAAAAAAAAAAAAAAAAAAAAAAAAAAAAAAAAAAAAAAAAAAAAAAAAAAAAAAAAAAAAAAAAAAAAAAAAAAAAAAAAAAAAAAAAAAAAAAAAAAAAAAAAAAAAAAAAAAAAAAAAAAAAAAAAAAAAAAAAAAAAAAAAAAAAAAAAAAAAAAAAAAAAAAAAAAAAAAAAAAAAAAAAAAAAAAAAAAAAAAAAAAAAAAAAAAAAAAAAAAAAAAAAAAAAAAAAAAAAAAAAAAAAAAAAAAAAAAAAAAAADAHcIrB5XkPD5p98ogn/c8Dd3EwlLoCD38cAq4OyEYPXeAOUEyeiU9JwLqsTyQMT1EYe2NVmQ6PUXAGNPjN0I9bnAaAfQbRz0wyQ6j3O5KPf8X8mAY2Ew92rUjVytlTD3bSKYbwLhJPdW36lpLgkU9yO48DIDEQD1eGdggZhM5PX0iaI/ZUDM9KM8RFZBQMT2p54feHoAzPdnBuLYYtzk92BtfTP6eQT3c/kkKo21HPfZbuUTtf0097aTkHFeGUT3cxpRLDLtTPYhKBV8IMVU9HrfBjGLYVT3uqEoa765VPRv6dUnFtFQ9MGUObEfvUj09BHLBundQPRazsNAzD0s9uMACxVjsRD07Jty9xJo+PecCjAO/xjU9AuMzBiJWMD3lMLxEy5ItPchTDStDLzE9O1tmEfgiNz0vsvS/cLc/PQa88CJ2tEQ9TZGKcMUfST21cucOWxxMPSfvIvSt7kw9HeyMo/NgSz2ZcUTfV9ZHPdwAGum0JkM9k5mEZFmtPD3fIQ8DuaE0PWVq1Awd9i49E0YlHMX5Kz2QKeEIin4wPYhszw7qCzc9fDe+SZO6QD0OGbKooq5HPYD0QDmbGFA9kV3wuRMYVT3IAf5iQOhaPRamSrin12A9LZ+vCHLCZD1ydLQ28SFpPZkzsDPitm093yJNUgIOcT3SCW3k9vByPTIXa2yHWXQ99xJ9nIM3dT3wkd3kZpl1PQTHgtmbpnU9SQ+gOPGSdT1BO2O9oY91PYGri8rBv3U9QG1XeYE3dj0mNc6MfAx3PQiIQH3gdng9aCIv+O75ej3QHaN2+4R/PZHKNma4wIM9JXK12Q1mij3K+HZLe2eSPaOqx8gzGJo9mS4Y4CBroj1og6MtnX+pPfwC47Z3HrE9Qy1VNnkZtj3yeIMU4ji7PTZfg7Z2yb89FLKev2h+wT2o4C5bqxDCPdDoWppLb8E96fK/7JJavz18O2/YnDO6PTBze/1ET7Q9LOpPZoIorT3492X0GVyjPTextsUZwZc9d8dSndLoij275GIgLCB8PUQ/X3C7G2s9qZUCnEgVWD29dl39y7ZDPQ==\"},\"shape\":[200],\"dtype\":\"float64\",\"order\":\"little\"}]]}}},\"view\":{\"type\":\"object\",\"name\":\"CDSView\",\"id\":\"p5515\",\"attributes\":{\"filter\":{\"type\":\"object\",\"name\":\"AllIndices\",\"id\":\"p5516\"}}},\"glyph\":{\"type\":\"object\",\"name\":\"Patch\",\"id\":\"p5511\",\"attributes\":{\"tags\":[\"apply_ranges\"],\"x\":{\"type\":\"field\",\"field\":\"x\"},\"y\":{\"type\":\"field\",\"field\":\"y\"},\"fill_color\":\"#30a2da\",\"fill_alpha\":0.5,\"hatch_color\":\"#30a2da\"}},\"selection_glyph\":{\"type\":\"object\",\"name\":\"Patch\",\"id\":\"p5517\",\"attributes\":{\"tags\":[\"apply_ranges\"],\"x\":{\"type\":\"field\",\"field\":\"x\"},\"y\":{\"type\":\"field\",\"field\":\"y\"},\"fill_color\":\"#30a2da\",\"fill_alpha\":0.5,\"hatch_color\":\"#30a2da\"}},\"nonselection_glyph\":{\"type\":\"object\",\"name\":\"Patch\",\"id\":\"p5512\",\"attributes\":{\"tags\":[\"apply_ranges\"],\"x\":{\"type\":\"field\",\"field\":\"x\"},\"y\":{\"type\":\"field\",\"field\":\"y\"},\"line_alpha\":1,\"fill_color\":\"#30a2da\",\"fill_alpha\":0.5,\"hatch_color\":\"#30a2da\",\"hatch_alpha\":0.1}},\"muted_glyph\":{\"type\":\"object\",\"name\":\"Patch\",\"id\":\"p5513\",\"attributes\":{\"tags\":[\"apply_ranges\"],\"x\":{\"type\":\"field\",\"field\":\"x\"},\"y\":{\"type\":\"field\",\"field\":\"y\"},\"line_alpha\":0.2,\"fill_color\":\"#30a2da\",\"fill_alpha\":0.2,\"hatch_color\":\"#30a2da\",\"hatch_alpha\":0.2}}}}],\"toolbar\":{\"type\":\"object\",\"name\":\"Toolbar\",\"id\":\"p5465\",\"attributes\":{\"tools\":[{\"type\":\"object\",\"name\":\"HoverTool\",\"id\":\"p5459\",\"attributes\":{\"tags\":[\"hv_created\"],\"renderers\":[{\"id\":\"p5514\"}],\"tooltips\":[[\"marketCap\",\"@{marketCap}\"],[\"Density\",\"@{marketCap_density}\"]]}},{\"type\":\"object\",\"name\":\"SaveTool\",\"id\":\"p5490\"},{\"type\":\"object\",\"name\":\"PanTool\",\"id\":\"p5491\"},{\"type\":\"object\",\"name\":\"WheelZoomTool\",\"id\":\"p5492\"},{\"type\":\"object\",\"name\":\"BoxZoomTool\",\"id\":\"p5493\",\"attributes\":{\"overlay\":{\"type\":\"object\",\"name\":\"BoxAnnotation\",\"id\":\"p5494\",\"attributes\":{\"syncable\":false,\"level\":\"overlay\",\"visible\":false,\"left_units\":\"canvas\",\"right_units\":\"canvas\",\"bottom_units\":\"canvas\",\"top_units\":\"canvas\",\"line_color\":\"black\",\"line_alpha\":1.0,\"line_width\":2,\"line_dash\":[4,4],\"fill_color\":\"lightgrey\",\"fill_alpha\":0.5}}}},{\"type\":\"object\",\"name\":\"ResetTool\",\"id\":\"p5495\"}],\"active_drag\":{\"id\":\"p5491\"},\"active_scroll\":{\"id\":\"p5492\"}}},\"left\":[{\"type\":\"object\",\"name\":\"LinearAxis\",\"id\":\"p5483\",\"attributes\":{\"ticker\":{\"type\":\"object\",\"name\":\"BasicTicker\",\"id\":\"p5486\",\"attributes\":{\"mantissas\":[1,2,5]}},\"formatter\":{\"type\":\"object\",\"name\":\"BasicTickFormatter\",\"id\":\"p5484\"},\"axis_label\":\"Density\",\"major_label_policy\":{\"type\":\"object\",\"name\":\"AllLabels\",\"id\":\"p5485\"}}}],\"below\":[{\"type\":\"object\",\"name\":\"LinearAxis\",\"id\":\"p5476\",\"attributes\":{\"ticker\":{\"type\":\"object\",\"name\":\"BasicTicker\",\"id\":\"p5479\",\"attributes\":{\"mantissas\":[1,2,5]}},\"formatter\":{\"type\":\"object\",\"name\":\"BasicTickFormatter\",\"id\":\"p5477\"},\"axis_label\":\"marketCap\",\"major_label_policy\":{\"type\":\"object\",\"name\":\"AllLabels\",\"id\":\"p5478\"}}}],\"center\":[{\"type\":\"object\",\"name\":\"Grid\",\"id\":\"p5482\",\"attributes\":{\"axis\":{\"id\":\"p5476\"},\"grid_line_color\":null}},{\"type\":\"object\",\"name\":\"Grid\",\"id\":\"p5489\",\"attributes\":{\"dimension\":1,\"axis\":{\"id\":\"p5483\"},\"grid_line_color\":null}}],\"min_border_top\":10,\"min_border_bottom\":10,\"min_border_left\":10,\"min_border_right\":10,\"output_backend\":\"webgl\"}},{\"type\":\"object\",\"name\":\"Spacer\",\"id\":\"p5542\",\"attributes\":{\"name\":\"HSpacer09292\",\"stylesheets\":[\"\\n:host(.pn-loading.pn-arc):before, .pn-loading.pn-arc:before {\\n  background-image: url(\\\"data:image/svg+xml;base64,PHN2ZyB4bWxucz0iaHR0cDovL3d3dy53My5vcmcvMjAwMC9zdmciIHN0eWxlPSJtYXJnaW46IGF1dG87IGJhY2tncm91bmQ6IG5vbmU7IGRpc3BsYXk6IGJsb2NrOyBzaGFwZS1yZW5kZXJpbmc6IGF1dG87IiB2aWV3Qm94PSIwIDAgMTAwIDEwMCIgcHJlc2VydmVBc3BlY3RSYXRpbz0ieE1pZFlNaWQiPiAgPGNpcmNsZSBjeD0iNTAiIGN5PSI1MCIgZmlsbD0ibm9uZSIgc3Ryb2tlPSIjYzNjM2MzIiBzdHJva2Utd2lkdGg9IjEwIiByPSIzNSIgc3Ryb2tlLWRhc2hhcnJheT0iMTY0LjkzMzYxNDMxMzQ2NDE1IDU2Ljk3Nzg3MTQzNzgyMTM4Ij4gICAgPGFuaW1hdGVUcmFuc2Zvcm0gYXR0cmlidXRlTmFtZT0idHJhbnNmb3JtIiB0eXBlPSJyb3RhdGUiIHJlcGVhdENvdW50PSJpbmRlZmluaXRlIiBkdXI9IjFzIiB2YWx1ZXM9IjAgNTAgNTA7MzYwIDUwIDUwIiBrZXlUaW1lcz0iMDsxIj48L2FuaW1hdGVUcmFuc2Zvcm0+ICA8L2NpcmNsZT48L3N2Zz4=\\\");\\n  background-size: auto calc(min(50%, 400px));\\n}\",{\"id\":\"p5455\"},{\"id\":\"p5453\"},{\"id\":\"p5454\"}],\"margin\":0,\"sizing_mode\":\"stretch_width\",\"align\":\"start\"}}]}}],\"callbacks\":{\"type\":\"map\"}}};\n",
              "  var render_items = [{\"docid\":\"1df9617b-6d96-4734-ac88-d4ced4057909\",\"roots\":{\"p5452\":\"c915a217-5dbd-4084-a45b-fc369e9306da\"},\"root_ids\":[\"p5452\"]}];\n",
              "  var docs = Object.values(docs_json)\n",
              "  if (!docs) {\n",
              "    return\n",
              "  }\n",
              "  const py_version = docs[0].version.replace('rc', '-rc.')\n",
              "  const is_dev = py_version.indexOf(\"+\") !== -1 || py_version.indexOf(\"-\") !== -1\n",
              "  function embed_document(root) {\n",
              "    var Bokeh = get_bokeh(root)\n",
              "    Bokeh.embed.embed_items_notebook(docs_json, render_items);\n",
              "    for (const render_item of render_items) {\n",
              "      for (const root_id of render_item.root_ids) {\n",
              "\tconst id_el = document.getElementById(root_id)\n",
              "\tif (id_el.children.length && (id_el.children[0].className === 'bk-root')) {\n",
              "\t  const root_el = id_el.children[0]\n",
              "\t  root_el.id = root_el.id + '-rendered'\n",
              "\t}\n",
              "      }\n",
              "    }\n",
              "  }\n",
              "  function get_bokeh(root) {\n",
              "    if (root.Bokeh === undefined) {\n",
              "      return null\n",
              "    } else if (root.Bokeh.version !== py_version && !is_dev) {\n",
              "      if (root.Bokeh.versions === undefined || !root.Bokeh.versions.has(py_version)) {\n",
              "\treturn null\n",
              "      }\n",
              "      return root.Bokeh.versions.get(py_version);\n",
              "    } else if (root.Bokeh.version === py_version) {\n",
              "      return root.Bokeh\n",
              "    }\n",
              "    return null\n",
              "  }\n",
              "  function is_loaded(root) {\n",
              "    var Bokeh = get_bokeh(root)\n",
              "    return (Bokeh != null && Bokeh.Panel !== undefined)\n",
              "  }\n",
              "  if (is_loaded(root)) {\n",
              "    embed_document(root);\n",
              "  } else {\n",
              "    var attempts = 0;\n",
              "    var timer = setInterval(function(root) {\n",
              "      if (is_loaded(root)) {\n",
              "        clearInterval(timer);\n",
              "        embed_document(root);\n",
              "      } else if (document.readyState == \"complete\") {\n",
              "        attempts++;\n",
              "        if (attempts > 200) {\n",
              "          clearInterval(timer);\n",
              "\t  var Bokeh = get_bokeh(root)\n",
              "\t  if (Bokeh == null || Bokeh.Panel == null) {\n",
              "            console.warn(\"Panel: ERROR: Unable to run Panel code because Bokeh or Panel library is missing\");\n",
              "\t  } else {\n",
              "\t    console.warn(\"Panel: WARNING: Attempting to render but not all required libraries could be resolved.\")\n",
              "\t    embed_document(root)\n",
              "\t  }\n",
              "        }\n",
              "      }\n",
              "    }, 25, root)\n",
              "  }\n",
              "})(window);</script>"
            ],
            "text/plain": [
              ":Distribution   [marketCap]   (Density)"
            ]
          },
          "execution_count": 111,
          "metadata": {
            "application/vnd.holoviews_exec.v0+json": {
              "id": "p5452"
            }
          },
          "output_type": "execute_result"
        }
      ],
      "source": [
        "plot = df_fundamentals.hvplot.kde(\"marketCap\", title=\"Normal Distribution\")\n",
        "\n",
        "plot"
      ]
    },
    {
      "cell_type": "code",
      "execution_count": 115,
      "metadata": {},
      "outputs": [
        {
          "data": {},
          "metadata": {},
          "output_type": "display_data"
        },
        {
          "data": {
            "application/vnd.holoviews_exec.v0+json": "",
            "text/html": [
              "<div id='p5600'>\n",
              "  <div id=\"f325b1f5-fc60-4c7e-898e-31b86898fc8d\" data-root-id=\"p5600\" style=\"display: contents;\"></div>\n",
              "</div>\n",
              "<script type=\"application/javascript\">(function(root) {\n",
              "  var docs_json = {\"8439ac56-c342-42fa-9674-52fc43b00ce7\":{\"version\":\"3.1.1\",\"title\":\"Bokeh Application\",\"defs\":[{\"type\":\"model\",\"name\":\"ReactiveHTML1\"},{\"type\":\"model\",\"name\":\"FlexBox1\",\"properties\":[{\"name\":\"align_content\",\"kind\":\"Any\",\"default\":\"flex-start\"},{\"name\":\"align_items\",\"kind\":\"Any\",\"default\":\"flex-start\"},{\"name\":\"flex_direction\",\"kind\":\"Any\",\"default\":\"row\"},{\"name\":\"flex_wrap\",\"kind\":\"Any\",\"default\":\"wrap\"},{\"name\":\"justify_content\",\"kind\":\"Any\",\"default\":\"flex-start\"}]},{\"type\":\"model\",\"name\":\"FloatPanel1\",\"properties\":[{\"name\":\"config\",\"kind\":\"Any\",\"default\":{\"type\":\"map\"}},{\"name\":\"contained\",\"kind\":\"Any\",\"default\":true},{\"name\":\"position\",\"kind\":\"Any\",\"default\":\"right-top\"},{\"name\":\"offsetx\",\"kind\":\"Any\",\"default\":null},{\"name\":\"offsety\",\"kind\":\"Any\",\"default\":null},{\"name\":\"theme\",\"kind\":\"Any\",\"default\":\"primary\"},{\"name\":\"status\",\"kind\":\"Any\",\"default\":\"normalized\"}]},{\"type\":\"model\",\"name\":\"GridStack1\",\"properties\":[{\"name\":\"mode\",\"kind\":\"Any\",\"default\":\"warn\"},{\"name\":\"ncols\",\"kind\":\"Any\",\"default\":null},{\"name\":\"nrows\",\"kind\":\"Any\",\"default\":null},{\"name\":\"allow_resize\",\"kind\":\"Any\",\"default\":true},{\"name\":\"allow_drag\",\"kind\":\"Any\",\"default\":true},{\"name\":\"state\",\"kind\":\"Any\",\"default\":[]}]},{\"type\":\"model\",\"name\":\"drag1\",\"properties\":[{\"name\":\"slider_width\",\"kind\":\"Any\",\"default\":5},{\"name\":\"slider_color\",\"kind\":\"Any\",\"default\":\"black\"},{\"name\":\"value\",\"kind\":\"Any\",\"default\":50}]},{\"type\":\"model\",\"name\":\"click1\",\"properties\":[{\"name\":\"terminal_output\",\"kind\":\"Any\",\"default\":\"\"},{\"name\":\"debug_name\",\"kind\":\"Any\",\"default\":\"\"},{\"name\":\"clears\",\"kind\":\"Any\",\"default\":0}]},{\"type\":\"model\",\"name\":\"FastWrapper1\",\"properties\":[{\"name\":\"object\",\"kind\":\"Any\",\"default\":null},{\"name\":\"style\",\"kind\":\"Any\",\"default\":null}]},{\"type\":\"model\",\"name\":\"NotificationAreaBase1\",\"properties\":[{\"name\":\"position\",\"kind\":\"Any\",\"default\":\"bottom-right\"},{\"name\":\"_clear\",\"kind\":\"Any\",\"default\":0}]},{\"type\":\"model\",\"name\":\"NotificationArea1\",\"properties\":[{\"name\":\"notifications\",\"kind\":\"Any\",\"default\":[]},{\"name\":\"position\",\"kind\":\"Any\",\"default\":\"bottom-right\"},{\"name\":\"_clear\",\"kind\":\"Any\",\"default\":0},{\"name\":\"types\",\"kind\":\"Any\",\"default\":[{\"type\":\"map\",\"entries\":[[\"type\",\"warning\"],[\"background\",\"#ffc107\"],[\"icon\",{\"type\":\"map\",\"entries\":[[\"className\",\"fas fa-exclamation-triangle\"],[\"tagName\",\"i\"],[\"color\",\"white\"]]}]]},{\"type\":\"map\",\"entries\":[[\"type\",\"info\"],[\"background\",\"#007bff\"],[\"icon\",{\"type\":\"map\",\"entries\":[[\"className\",\"fas fa-info-circle\"],[\"tagName\",\"i\"],[\"color\",\"white\"]]}]]}]}]},{\"type\":\"model\",\"name\":\"Notification\",\"properties\":[{\"name\":\"background\",\"kind\":\"Any\",\"default\":null},{\"name\":\"duration\",\"kind\":\"Any\",\"default\":3000},{\"name\":\"icon\",\"kind\":\"Any\",\"default\":null},{\"name\":\"message\",\"kind\":\"Any\",\"default\":\"\"},{\"name\":\"notification_type\",\"kind\":\"Any\",\"default\":null},{\"name\":\"_destroyed\",\"kind\":\"Any\",\"default\":false}]},{\"type\":\"model\",\"name\":\"TemplateActions1\",\"properties\":[{\"name\":\"open_modal\",\"kind\":\"Any\",\"default\":0},{\"name\":\"close_modal\",\"kind\":\"Any\",\"default\":0}]},{\"type\":\"model\",\"name\":\"BootstrapTemplateActions1\",\"properties\":[{\"name\":\"open_modal\",\"kind\":\"Any\",\"default\":0},{\"name\":\"close_modal\",\"kind\":\"Any\",\"default\":0}]},{\"type\":\"model\",\"name\":\"MaterialTemplateActions1\",\"properties\":[{\"name\":\"open_modal\",\"kind\":\"Any\",\"default\":0},{\"name\":\"close_modal\",\"kind\":\"Any\",\"default\":0}]}],\"roots\":[{\"type\":\"object\",\"name\":\"Row\",\"id\":\"p5600\",\"attributes\":{\"name\":\"Row09462\",\"tags\":[\"embedded\"],\"stylesheets\":[\"\\n:host(.pn-loading.pn-arc):before, .pn-loading.pn-arc:before {\\n  background-image: url(\\\"data:image/svg+xml;base64,PHN2ZyB4bWxucz0iaHR0cDovL3d3dy53My5vcmcvMjAwMC9zdmciIHN0eWxlPSJtYXJnaW46IGF1dG87IGJhY2tncm91bmQ6IG5vbmU7IGRpc3BsYXk6IGJsb2NrOyBzaGFwZS1yZW5kZXJpbmc6IGF1dG87IiB2aWV3Qm94PSIwIDAgMTAwIDEwMCIgcHJlc2VydmVBc3BlY3RSYXRpbz0ieE1pZFlNaWQiPiAgPGNpcmNsZSBjeD0iNTAiIGN5PSI1MCIgZmlsbD0ibm9uZSIgc3Ryb2tlPSIjYzNjM2MzIiBzdHJva2Utd2lkdGg9IjEwIiByPSIzNSIgc3Ryb2tlLWRhc2hhcnJheT0iMTY0LjkzMzYxNDMxMzQ2NDE1IDU2Ljk3Nzg3MTQzNzgyMTM4Ij4gICAgPGFuaW1hdGVUcmFuc2Zvcm0gYXR0cmlidXRlTmFtZT0idHJhbnNmb3JtIiB0eXBlPSJyb3RhdGUiIHJlcGVhdENvdW50PSJpbmRlZmluaXRlIiBkdXI9IjFzIiB2YWx1ZXM9IjAgNTAgNTA7MzYwIDUwIDUwIiBrZXlUaW1lcz0iMDsxIj48L2FuaW1hdGVUcmFuc2Zvcm0+ICA8L2NpcmNsZT48L3N2Zz4=\\\");\\n  background-size: auto calc(min(50%, 400px));\\n}\",{\"type\":\"object\",\"name\":\"ImportedStyleSheet\",\"id\":\"p5603\",\"attributes\":{\"url\":\"https://cdn.holoviz.org/panel/1.1.0/dist/css/loading.css\"}},{\"type\":\"object\",\"name\":\"ImportedStyleSheet\",\"id\":\"p5692\",\"attributes\":{\"url\":\"https://cdn.holoviz.org/panel/1.1.0/dist/css/listpanel.css\"}},{\"type\":\"object\",\"name\":\"ImportedStyleSheet\",\"id\":\"p5601\",\"attributes\":{\"url\":\"https://cdn.holoviz.org/panel/1.1.0/dist/bundled/theme/default.css\"}},{\"type\":\"object\",\"name\":\"ImportedStyleSheet\",\"id\":\"p5602\",\"attributes\":{\"url\":\"https://cdn.holoviz.org/panel/1.1.0/dist/bundled/theme/native.css\"}}],\"min_width\":0,\"margin\":0,\"sizing_mode\":\"stretch_width\",\"align\":\"start\",\"children\":[{\"type\":\"object\",\"name\":\"Spacer\",\"id\":\"p5604\",\"attributes\":{\"name\":\"HSpacer09473\",\"stylesheets\":[\"\\n:host(.pn-loading.pn-arc):before, .pn-loading.pn-arc:before {\\n  background-image: url(\\\"data:image/svg+xml;base64,PHN2ZyB4bWxucz0iaHR0cDovL3d3dy53My5vcmcvMjAwMC9zdmciIHN0eWxlPSJtYXJnaW46IGF1dG87IGJhY2tncm91bmQ6IG5vbmU7IGRpc3BsYXk6IGJsb2NrOyBzaGFwZS1yZW5kZXJpbmc6IGF1dG87IiB2aWV3Qm94PSIwIDAgMTAwIDEwMCIgcHJlc2VydmVBc3BlY3RSYXRpbz0ieE1pZFlNaWQiPiAgPGNpcmNsZSBjeD0iNTAiIGN5PSI1MCIgZmlsbD0ibm9uZSIgc3Ryb2tlPSIjYzNjM2MzIiBzdHJva2Utd2lkdGg9IjEwIiByPSIzNSIgc3Ryb2tlLWRhc2hhcnJheT0iMTY0LjkzMzYxNDMxMzQ2NDE1IDU2Ljk3Nzg3MTQzNzgyMTM4Ij4gICAgPGFuaW1hdGVUcmFuc2Zvcm0gYXR0cmlidXRlTmFtZT0idHJhbnNmb3JtIiB0eXBlPSJyb3RhdGUiIHJlcGVhdENvdW50PSJpbmRlZmluaXRlIiBkdXI9IjFzIiB2YWx1ZXM9IjAgNTAgNTA7MzYwIDUwIDUwIiBrZXlUaW1lcz0iMDsxIj48L2FuaW1hdGVUcmFuc2Zvcm0+ICA8L2NpcmNsZT48L3N2Zz4=\\\");\\n  background-size: auto calc(min(50%, 400px));\\n}\",{\"id\":\"p5603\"},{\"id\":\"p5601\"},{\"id\":\"p5602\"}],\"margin\":0,\"sizing_mode\":\"stretch_width\",\"align\":\"start\"}},{\"type\":\"object\",\"name\":\"Figure\",\"id\":\"p5608\",\"attributes\":{\"width\":700,\"height\":300,\"margin\":[5,10],\"sizing_mode\":\"fixed\",\"align\":\"start\",\"x_range\":{\"type\":\"object\",\"name\":\"Range1d\",\"id\":\"p5605\",\"attributes\":{\"tags\":[[[\"marketCap\",\"marketCap\",null]]],\"start\":-28993983052.117706,\"end\":250457475556.1177,\"reset_start\":-28993983052.117706,\"reset_end\":250457475556.1177}},\"y_range\":{\"type\":\"object\",\"name\":\"Range1d\",\"id\":\"p5606\",\"attributes\":{\"tags\":[[[\"marketCap_density\",\"Density\",null]]],\"end\":3.614604890251287e-11,\"reset_start\":0.0,\"reset_end\":3.614604890251287e-11}},\"x_scale\":{\"type\":\"object\",\"name\":\"LinearScale\",\"id\":\"p5620\"},\"y_scale\":{\"type\":\"object\",\"name\":\"LinearScale\",\"id\":\"p5622\"},\"title\":{\"type\":\"object\",\"name\":\"Title\",\"id\":\"p5611\",\"attributes\":{\"text\":\"Normal Distribution\",\"text_color\":\"black\",\"text_font_size\":\"12pt\"}},\"renderers\":[{\"type\":\"object\",\"name\":\"GlyphRenderer\",\"id\":\"p5662\",\"attributes\":{\"data_source\":{\"type\":\"object\",\"name\":\"ColumnDataSource\",\"id\":\"p5652\",\"attributes\":{\"selected\":{\"type\":\"object\",\"name\":\"Selection\",\"id\":\"p5653\",\"attributes\":{\"indices\":[],\"line_indices\":[]}},\"selection_policy\":{\"type\":\"object\",\"name\":\"UnionRenderers\",\"id\":\"p5654\"},\"data\":{\"type\":\"map\",\"entries\":[[\"x\",{\"type\":\"ndarray\",\"array\":{\"type\":\"bytes\",\"data\":\"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\"},\"shape\":[200],\"dtype\":\"float64\",\"order\":\"little\"}],[\"y\",{\"type\":\"ndarray\",\"array\":{\"type\":\"bytes\",\"data\":\"AAAAAAAAAAAAAAAAAAAAAAAAAAAAAAAAAAAAAAAAAAAAAAAAAAAAAAAAAAAAAAAAAAAAAAAAAAAAAAAAAAAAAAAAAAAAAAAAAAAAAAAAAAAAAAAAAAAAAAAAAAAAAAAAAAAAAAAAAAAAAAAAAAAAAAAAAAAAAAAAAAAAAAAAAAAAAAAAAAAAAAAAAAAAAAAAAAAAAAAAAAAAAAAAAAAAAAAAAAAAAAAAAAAAAAAAAAAAAAAAAAAAAAAAAAAAAAAAAAAAAAAAAAAAAAAAAAAAAAAAAAAAAAAAAAAAAAAAAAAAAAAAAAAAAAAAAAAAAAAAAAAAAAAAAAAAAAAAAAAAAAAAAAAAAAAAAAAAAAAAAAAAAAAAAAAAAAAAAAAAAAAAAAAAAAAAAAAAAAAAAAAAAAAAAAAAAAAAAAAAAAAAAAAAAAAAAAAAAAAAAAAAAAAAAAAAAAAAAAAAAAAAAAAAAAAAAAAAAAAAAAAAAAAAAAAAAAAAAAAAAAAAAAAAAAAAAAAAAAAAAAAAAAAAAAAAAAAAAAAAAAAAAAAAAAAAAAAAAAAAAAAAAAAAAAAAAAAAAAAAAAAAAAAAAAAAAAAAAAAAAAAAAAAAAAAAAAAAAAAAAAAAAAAAAAAAAAAAAAAAAAAAAAAAAAAAAAAAAAAAAAAAAAAAAAAAAAAAAAAAAAAAAAAAAAAAAAAAAAAAAAAAAAAAAAAAAAAAAAAAAAAAAAAAAAAAAAAAAAAAAAAAAAAAAAAAAAAAAAAAAAAAAAAAAAAAAAAAAAAAAAAAAAAAAAAAAAAAAAAAAAAAAAAAAAAAAAAAAAAAAAAAAAAAAAAAAAAAAAAAAAAAAAAAAAAAAAAAAAAAAAAAAAAAAAAAAAAAAAAAAAAAAAAAAAAAAAAAAAAAAAAAAAAAAAAAAAAAAAAAAAAAAAAAAAAAAAAAAAAAAAAAAAAAAAAAAAAAAAAAAAAAAAAAAAAAAAAAAAAAAAAAAAAAAAAAAAAAAAAAAAAAAAAAAAAAAAAAAAAAAAAAAAAAAAAAAAAAAAAAAAAAAAAAAAAAAAAAAAAAAAAAAADAHcIrB5XkPD5p98ogn/c8Dd3EwlLoCD38cAq4OyEYPXeAOUEyeiU9JwLqsTyQMT1EYe2NVmQ6PUXAGNPjN0I9bnAaAfQbRz0wyQ6j3O5KPf8X8mAY2Ew92rUjVytlTD3bSKYbwLhJPdW36lpLgkU9yO48DIDEQD1eGdggZhM5PX0iaI/ZUDM9KM8RFZBQMT2p54feHoAzPdnBuLYYtzk92BtfTP6eQT3c/kkKo21HPfZbuUTtf0097aTkHFeGUT3cxpRLDLtTPYhKBV8IMVU9HrfBjGLYVT3uqEoa765VPRv6dUnFtFQ9MGUObEfvUj09BHLBundQPRazsNAzD0s9uMACxVjsRD07Jty9xJo+PecCjAO/xjU9AuMzBiJWMD3lMLxEy5ItPchTDStDLzE9O1tmEfgiNz0vsvS/cLc/PQa88CJ2tEQ9TZGKcMUfST21cucOWxxMPSfvIvSt7kw9HeyMo/NgSz2ZcUTfV9ZHPdwAGum0JkM9k5mEZFmtPD3fIQ8DuaE0PWVq1Awd9i49E0YlHMX5Kz2QKeEIin4wPYhszw7qCzc9fDe+SZO6QD0OGbKooq5HPYD0QDmbGFA9kV3wuRMYVT3IAf5iQOhaPRamSrin12A9LZ+vCHLCZD1ydLQ28SFpPZkzsDPitm093yJNUgIOcT3SCW3k9vByPTIXa2yHWXQ99xJ9nIM3dT3wkd3kZpl1PQTHgtmbpnU9SQ+gOPGSdT1BO2O9oY91PYGri8rBv3U9QG1XeYE3dj0mNc6MfAx3PQiIQH3gdng9aCIv+O75ej3QHaN2+4R/PZHKNma4wIM9JXK12Q1mij3K+HZLe2eSPaOqx8gzGJo9mS4Y4CBroj1og6MtnX+pPfwC47Z3HrE9Qy1VNnkZtj3yeIMU4ji7PTZfg7Z2yb89FLKev2h+wT2o4C5bqxDCPdDoWppLb8E96fK/7JJavz18O2/YnDO6PTBze/1ET7Q9LOpPZoIorT3492X0GVyjPTextsUZwZc9d8dSndLoij275GIgLCB8PUQ/X3C7G2s9qZUCnEgVWD29dl39y7ZDPQ==\"},\"shape\":[200],\"dtype\":\"float64\",\"order\":\"little\"}]]}}},\"view\":{\"type\":\"object\",\"name\":\"CDSView\",\"id\":\"p5663\",\"attributes\":{\"filter\":{\"type\":\"object\",\"name\":\"AllIndices\",\"id\":\"p5664\"}}},\"glyph\":{\"type\":\"object\",\"name\":\"Patch\",\"id\":\"p5659\",\"attributes\":{\"tags\":[\"apply_ranges\"],\"x\":{\"type\":\"field\",\"field\":\"x\"},\"y\":{\"type\":\"field\",\"field\":\"y\"},\"fill_color\":\"#30a2da\",\"fill_alpha\":0.5,\"hatch_color\":\"#30a2da\"}},\"selection_glyph\":{\"type\":\"object\",\"name\":\"Patch\",\"id\":\"p5665\",\"attributes\":{\"tags\":[\"apply_ranges\"],\"x\":{\"type\":\"field\",\"field\":\"x\"},\"y\":{\"type\":\"field\",\"field\":\"y\"},\"fill_color\":\"#30a2da\",\"fill_alpha\":0.5,\"hatch_color\":\"#30a2da\"}},\"nonselection_glyph\":{\"type\":\"object\",\"name\":\"Patch\",\"id\":\"p5660\",\"attributes\":{\"tags\":[\"apply_ranges\"],\"x\":{\"type\":\"field\",\"field\":\"x\"},\"y\":{\"type\":\"field\",\"field\":\"y\"},\"line_alpha\":1,\"fill_color\":\"#30a2da\",\"fill_alpha\":0.5,\"hatch_color\":\"#30a2da\",\"hatch_alpha\":0.1}},\"muted_glyph\":{\"type\":\"object\",\"name\":\"Patch\",\"id\":\"p5661\",\"attributes\":{\"tags\":[\"apply_ranges\"],\"x\":{\"type\":\"field\",\"field\":\"x\"},\"y\":{\"type\":\"field\",\"field\":\"y\"},\"line_alpha\":0.2,\"fill_color\":\"#30a2da\",\"fill_alpha\":0.2,\"hatch_color\":\"#30a2da\",\"hatch_alpha\":0.2}}}}],\"toolbar\":{\"type\":\"object\",\"name\":\"Toolbar\",\"id\":\"p5613\",\"attributes\":{\"tools\":[{\"type\":\"object\",\"name\":\"HoverTool\",\"id\":\"p5607\",\"attributes\":{\"tags\":[\"hv_created\"],\"renderers\":[{\"id\":\"p5662\"}],\"tooltips\":[[\"marketCap\",\"@{marketCap}\"],[\"Density\",\"@{marketCap_density}\"]]}},{\"type\":\"object\",\"name\":\"SaveTool\",\"id\":\"p5638\"},{\"type\":\"object\",\"name\":\"PanTool\",\"id\":\"p5639\"},{\"type\":\"object\",\"name\":\"WheelZoomTool\",\"id\":\"p5640\"},{\"type\":\"object\",\"name\":\"BoxZoomTool\",\"id\":\"p5641\",\"attributes\":{\"overlay\":{\"type\":\"object\",\"name\":\"BoxAnnotation\",\"id\":\"p5642\",\"attributes\":{\"syncable\":false,\"level\":\"overlay\",\"visible\":false,\"left_units\":\"canvas\",\"right_units\":\"canvas\",\"bottom_units\":\"canvas\",\"top_units\":\"canvas\",\"line_color\":\"black\",\"line_alpha\":1.0,\"line_width\":2,\"line_dash\":[4,4],\"fill_color\":\"lightgrey\",\"fill_alpha\":0.5}}}},{\"type\":\"object\",\"name\":\"ResetTool\",\"id\":\"p5643\"}],\"active_drag\":{\"id\":\"p5639\"},\"active_scroll\":{\"id\":\"p5640\"}}},\"left\":[{\"type\":\"object\",\"name\":\"LinearAxis\",\"id\":\"p5631\",\"attributes\":{\"ticker\":{\"type\":\"object\",\"name\":\"BasicTicker\",\"id\":\"p5634\",\"attributes\":{\"mantissas\":[1,2,5]}},\"formatter\":{\"type\":\"object\",\"name\":\"BasicTickFormatter\",\"id\":\"p5632\"},\"axis_label\":\"Density\",\"major_label_policy\":{\"type\":\"object\",\"name\":\"AllLabels\",\"id\":\"p5633\"}}}],\"below\":[{\"type\":\"object\",\"name\":\"LinearAxis\",\"id\":\"p5624\",\"attributes\":{\"ticker\":{\"type\":\"object\",\"name\":\"BasicTicker\",\"id\":\"p5627\",\"attributes\":{\"mantissas\":[1,2,5]}},\"formatter\":{\"type\":\"object\",\"name\":\"BasicTickFormatter\",\"id\":\"p5625\"},\"axis_label\":\"marketCap\",\"major_label_policy\":{\"type\":\"object\",\"name\":\"AllLabels\",\"id\":\"p5626\"}}}],\"center\":[{\"type\":\"object\",\"name\":\"Grid\",\"id\":\"p5630\",\"attributes\":{\"axis\":{\"id\":\"p5624\"},\"grid_line_color\":null}},{\"type\":\"object\",\"name\":\"Grid\",\"id\":\"p5637\",\"attributes\":{\"dimension\":1,\"axis\":{\"id\":\"p5631\"},\"grid_line_color\":null}}],\"min_border_top\":10,\"min_border_bottom\":10,\"min_border_left\":10,\"min_border_right\":10,\"output_backend\":\"webgl\"}},{\"type\":\"object\",\"name\":\"Spacer\",\"id\":\"p5690\",\"attributes\":{\"name\":\"HSpacer09476\",\"stylesheets\":[\"\\n:host(.pn-loading.pn-arc):before, .pn-loading.pn-arc:before {\\n  background-image: url(\\\"data:image/svg+xml;base64,PHN2ZyB4bWxucz0iaHR0cDovL3d3dy53My5vcmcvMjAwMC9zdmciIHN0eWxlPSJtYXJnaW46IGF1dG87IGJhY2tncm91bmQ6IG5vbmU7IGRpc3BsYXk6IGJsb2NrOyBzaGFwZS1yZW5kZXJpbmc6IGF1dG87IiB2aWV3Qm94PSIwIDAgMTAwIDEwMCIgcHJlc2VydmVBc3BlY3RSYXRpbz0ieE1pZFlNaWQiPiAgPGNpcmNsZSBjeD0iNTAiIGN5PSI1MCIgZmlsbD0ibm9uZSIgc3Ryb2tlPSIjYzNjM2MzIiBzdHJva2Utd2lkdGg9IjEwIiByPSIzNSIgc3Ryb2tlLWRhc2hhcnJheT0iMTY0LjkzMzYxNDMxMzQ2NDE1IDU2Ljk3Nzg3MTQzNzgyMTM4Ij4gICAgPGFuaW1hdGVUcmFuc2Zvcm0gYXR0cmlidXRlTmFtZT0idHJhbnNmb3JtIiB0eXBlPSJyb3RhdGUiIHJlcGVhdENvdW50PSJpbmRlZmluaXRlIiBkdXI9IjFzIiB2YWx1ZXM9IjAgNTAgNTA7MzYwIDUwIDUwIiBrZXlUaW1lcz0iMDsxIj48L2FuaW1hdGVUcmFuc2Zvcm0+ICA8L2NpcmNsZT48L3N2Zz4=\\\");\\n  background-size: auto calc(min(50%, 400px));\\n}\",{\"id\":\"p5603\"},{\"id\":\"p5601\"},{\"id\":\"p5602\"}],\"margin\":0,\"sizing_mode\":\"stretch_width\",\"align\":\"start\"}}]}}],\"callbacks\":{\"type\":\"map\"}}};\n",
              "  var render_items = [{\"docid\":\"8439ac56-c342-42fa-9674-52fc43b00ce7\",\"roots\":{\"p5600\":\"f325b1f5-fc60-4c7e-898e-31b86898fc8d\"},\"root_ids\":[\"p5600\"]}];\n",
              "  var docs = Object.values(docs_json)\n",
              "  if (!docs) {\n",
              "    return\n",
              "  }\n",
              "  const py_version = docs[0].version.replace('rc', '-rc.')\n",
              "  const is_dev = py_version.indexOf(\"+\") !== -1 || py_version.indexOf(\"-\") !== -1\n",
              "  function embed_document(root) {\n",
              "    var Bokeh = get_bokeh(root)\n",
              "    Bokeh.embed.embed_items_notebook(docs_json, render_items);\n",
              "    for (const render_item of render_items) {\n",
              "      for (const root_id of render_item.root_ids) {\n",
              "\tconst id_el = document.getElementById(root_id)\n",
              "\tif (id_el.children.length && (id_el.children[0].className === 'bk-root')) {\n",
              "\t  const root_el = id_el.children[0]\n",
              "\t  root_el.id = root_el.id + '-rendered'\n",
              "\t}\n",
              "      }\n",
              "    }\n",
              "  }\n",
              "  function get_bokeh(root) {\n",
              "    if (root.Bokeh === undefined) {\n",
              "      return null\n",
              "    } else if (root.Bokeh.version !== py_version && !is_dev) {\n",
              "      if (root.Bokeh.versions === undefined || !root.Bokeh.versions.has(py_version)) {\n",
              "\treturn null\n",
              "      }\n",
              "      return root.Bokeh.versions.get(py_version);\n",
              "    } else if (root.Bokeh.version === py_version) {\n",
              "      return root.Bokeh\n",
              "    }\n",
              "    return null\n",
              "  }\n",
              "  function is_loaded(root) {\n",
              "    var Bokeh = get_bokeh(root)\n",
              "    return (Bokeh != null && Bokeh.Panel !== undefined)\n",
              "  }\n",
              "  if (is_loaded(root)) {\n",
              "    embed_document(root);\n",
              "  } else {\n",
              "    var attempts = 0;\n",
              "    var timer = setInterval(function(root) {\n",
              "      if (is_loaded(root)) {\n",
              "        clearInterval(timer);\n",
              "        embed_document(root);\n",
              "      } else if (document.readyState == \"complete\") {\n",
              "        attempts++;\n",
              "        if (attempts > 200) {\n",
              "          clearInterval(timer);\n",
              "\t  var Bokeh = get_bokeh(root)\n",
              "\t  if (Bokeh == null || Bokeh.Panel == null) {\n",
              "            console.warn(\"Panel: ERROR: Unable to run Panel code because Bokeh or Panel library is missing\");\n",
              "\t  } else {\n",
              "\t    console.warn(\"Panel: WARNING: Attempting to render but not all required libraries could be resolved.\")\n",
              "\t    embed_document(root)\n",
              "\t  }\n",
              "        }\n",
              "      }\n",
              "    }, 25, root)\n",
              "  }\n",
              "})(window);</script>"
            ],
            "text/plain": [
              ":Distribution   [marketCap]   (Density)"
            ]
          },
          "execution_count": 115,
          "metadata": {
            "application/vnd.holoviews_exec.v0+json": {
              "id": "p5600"
            }
          },
          "output_type": "execute_result"
        }
      ],
      "source": [
        "plot = df_fundamentals.hvplot.kde(\"marketCap\", title=\"Normal Distribution\")\n",
        "\n",
        "plot\n"
      ]
    },
    {
      "cell_type": "code",
      "execution_count": 131,
      "metadata": {},
      "outputs": [
        {
          "data": {
            "application/vnd.plotly.v1+json": {
              "config": {
                "plotlyServerURL": "https://plot.ly"
              },
              "data": [
                {
                  "legendgroup": "ebitda",
                  "marker": {
                    "color": "rgb(31, 119, 180)"
                  },
                  "mode": "lines",
                  "name": "ebitda",
                  "showlegend": true,
                  "type": "scatter",
                  "x": [
                    -77870000,
                    -25494261.792000003,
                    26881476.415999994,
                    79257214.62400001,
                    131632952.83199999,
                    184008691.04,
                    236384429.24800003,
                    288760167.456,
                    341135905.664,
                    393511643.872,
                    445887382.08,
                    498263120.288,
                    550638858.496,
                    603014596.704,
                    655390334.912,
                    707766073.12,
                    760141811.328,
                    812517549.536,
                    864893287.744,
                    917269025.952,
                    969644764.16,
                    1022020502.368,
                    1074396240.576,
                    1126771978.784,
                    1179147716.992,
                    1231523455.2,
                    1283899193.408,
                    1336274931.616,
                    1388650669.824,
                    1441026408.032,
                    1493402146.24,
                    1545777884.448,
                    1598153622.656,
                    1650529360.864,
                    1702905099.072,
                    1755280837.28,
                    1807656575.488,
                    1860032313.696,
                    1912408051.904,
                    1964783790.112,
                    2017159528.32,
                    2069535266.528,
                    2121911004.736,
                    2174286742.944,
                    2226662481.152,
                    2279038219.36,
                    2331413957.568,
                    2383789695.776,
                    2436165433.984,
                    2488541172.192,
                    2540916910.4,
                    2593292648.608,
                    2645668386.816,
                    2698044125.024,
                    2750419863.232,
                    2802795601.44,
                    2855171339.648,
                    2907547077.856,
                    2959922816.064,
                    3012298554.272,
                    3064674292.48,
                    3117050030.688,
                    3169425768.896,
                    3221801507.104,
                    3274177245.312,
                    3326552983.52,
                    3378928721.728,
                    3431304459.936,
                    3483680198.144,
                    3536055936.352,
                    3588431674.56,
                    3640807412.768,
                    3693183150.976,
                    3745558889.184,
                    3797934627.392,
                    3850310365.6,
                    3902686103.808,
                    3955061842.016,
                    4007437580.224,
                    4059813318.432,
                    4112189056.64,
                    4164564794.848,
                    4216940533.056,
                    4269316271.264,
                    4321692009.472,
                    4374067747.68,
                    4426443485.888,
                    4478819224.096,
                    4531194962.304,
                    4583570700.512,
                    4635946438.72,
                    4688322176.928,
                    4740697915.136,
                    4793073653.344,
                    4845449391.552,
                    4897825129.76,
                    4950200867.968,
                    5002576606.176,
                    5054952344.384,
                    5107328082.592,
                    5159703820.8,
                    5212079559.008,
                    5264455297.216,
                    5316831035.424,
                    5369206773.632,
                    5421582511.84,
                    5473958250.048,
                    5526333988.256,
                    5578709726.464,
                    5631085464.672,
                    5683461202.88,
                    5735836941.088,
                    5788212679.296,
                    5840588417.504,
                    5892964155.712,
                    5945339893.92,
                    5997715632.128,
                    6050091370.336,
                    6102467108.544,
                    6154842846.752,
                    6207218584.96,
                    6259594323.168,
                    6311970061.376,
                    6364345799.584,
                    6416721537.792,
                    6469097276,
                    6521473014.208,
                    6573848752.416,
                    6626224490.624,
                    6678600228.832,
                    6730975967.04,
                    6783351705.248,
                    6835727443.456,
                    6888103181.664,
                    6940478919.872,
                    6992854658.08,
                    7045230396.288,
                    7097606134.496,
                    7149981872.704,
                    7202357610.912,
                    7254733349.12,
                    7307109087.328,
                    7359484825.536,
                    7411860563.744,
                    7464236301.952,
                    7516612040.16,
                    7568987778.368,
                    7621363516.576,
                    7673739254.784,
                    7726114992.992,
                    7778490731.2,
                    7830866469.408,
                    7883242207.616,
                    7935617945.824,
                    7987993684.032,
                    8040369422.24,
                    8092745160.448,
                    8145120898.656,
                    8197496636.864,
                    8249872375.072,
                    8302248113.28,
                    8354623851.488,
                    8406999589.696,
                    8459375327.904,
                    8511751066.112,
                    8564126804.32,
                    8616502542.528,
                    8668878280.736,
                    8721254018.944,
                    8773629757.152,
                    8826005495.36,
                    8878381233.568,
                    8930756971.776,
                    8983132709.984,
                    9035508448.192,
                    9087884186.4,
                    9140259924.608,
                    9192635662.816,
                    9245011401.024,
                    9297387139.232,
                    9349762877.44,
                    9402138615.648,
                    9454514353.856,
                    9506890092.064,
                    9559265830.272,
                    9611641568.48,
                    9664017306.688,
                    9716393044.896,
                    9768768783.104,
                    9821144521.312,
                    9873520259.52,
                    9925895997.728,
                    9978271735.936,
                    10030647474.144,
                    10083023212.352,
                    10135398950.56,
                    10187774688.768,
                    10240150426.976,
                    10292526165.184,
                    10344901903.392,
                    10397277641.6,
                    10449653379.808,
                    10502029118.016,
                    10554404856.224,
                    10606780594.432,
                    10659156332.64,
                    10711532070.848,
                    10763907809.056,
                    10816283547.264,
                    10868659285.472,
                    10921035023.68,
                    10973410761.888,
                    11025786500.096,
                    11078162238.304,
                    11130537976.512,
                    11182913714.72,
                    11235289452.928,
                    11287665191.136,
                    11340040929.344,
                    11392416667.552,
                    11444792405.76,
                    11497168143.968,
                    11549543882.176,
                    11601919620.384,
                    11654295358.592,
                    11706671096.8,
                    11759046835.008,
                    11811422573.216,
                    11863798311.424,
                    11916174049.632,
                    11968549787.84,
                    12020925526.048,
                    12073301264.256,
                    12125677002.464,
                    12178052740.672,
                    12230428478.88,
                    12282804217.088,
                    12335179955.296,
                    12387555693.504,
                    12439931431.712,
                    12492307169.92,
                    12544682908.128,
                    12597058646.336,
                    12649434384.544,
                    12701810122.752,
                    12754185860.96,
                    12806561599.168,
                    12858937337.376,
                    12911313075.584,
                    12963688813.792,
                    13016064552,
                    13068440290.208,
                    13120816028.416,
                    13173191766.624,
                    13225567504.832,
                    13277943243.04,
                    13330318981.248,
                    13382694719.456,
                    13435070457.664,
                    13487446195.872,
                    13539821934.08,
                    13592197672.288,
                    13644573410.496,
                    13696949148.704,
                    13749324886.912,
                    13801700625.12,
                    13854076363.328,
                    13906452101.536,
                    13958827839.744,
                    14011203577.952,
                    14063579316.16,
                    14115955054.368,
                    14168330792.576,
                    14220706530.784,
                    14273082268.992,
                    14325458007.2,
                    14377833745.408,
                    14430209483.616,
                    14482585221.824,
                    14534960960.032,
                    14587336698.24,
                    14639712436.448,
                    14692088174.656,
                    14744463912.864,
                    14796839651.072,
                    14849215389.28,
                    14901591127.488,
                    14953966865.696,
                    15006342603.904,
                    15058718342.112,
                    15111094080.32,
                    15163469818.528,
                    15215845556.736,
                    15268221294.944,
                    15320597033.152,
                    15372972771.36,
                    15425348509.568,
                    15477724247.776,
                    15530099985.984,
                    15582475724.192,
                    15634851462.4,
                    15687227200.608,
                    15739602938.816,
                    15791978677.024,
                    15844354415.232,
                    15896730153.44,
                    15949105891.648,
                    16001481629.856,
                    16053857368.064,
                    16106233106.272,
                    16158608844.48,
                    16210984582.688,
                    16263360320.896,
                    16315736059.104,
                    16368111797.312,
                    16420487535.52,
                    16472863273.728,
                    16525239011.936,
                    16577614750.144,
                    16629990488.352,
                    16682366226.56,
                    16734741964.768,
                    16787117702.976,
                    16839493441.184,
                    16891869179.392,
                    16944244917.6,
                    16996620655.808,
                    17048996394.016,
                    17101372132.224,
                    17153747870.432,
                    17206123608.64,
                    17258499346.848,
                    17310875085.056,
                    17363250823.264,
                    17415626561.472,
                    17468002299.68,
                    17520378037.888,
                    17572753776.096,
                    17625129514.304,
                    17677505252.512,
                    17729880990.72,
                    17782256728.928,
                    17834632467.136,
                    17887008205.344,
                    17939383943.552,
                    17991759681.76,
                    18044135419.968,
                    18096511158.176,
                    18148886896.384,
                    18201262634.592,
                    18253638372.8,
                    18306014111.008,
                    18358389849.216,
                    18410765587.424,
                    18463141325.632,
                    18515517063.84,
                    18567892802.048,
                    18620268540.256,
                    18672644278.464,
                    18725020016.672,
                    18777395754.88,
                    18829771493.088,
                    18882147231.296,
                    18934522969.504,
                    18986898707.712,
                    19039274445.92,
                    19091650184.128,
                    19144025922.336,
                    19196401660.544,
                    19248777398.752,
                    19301153136.96,
                    19353528875.168,
                    19405904613.376,
                    19458280351.584,
                    19510656089.792,
                    19563031828,
                    19615407566.208,
                    19667783304.416,
                    19720159042.624,
                    19772534780.832,
                    19824910519.04,
                    19877286257.248,
                    19929661995.456,
                    19982037733.664,
                    20034413471.872,
                    20086789210.08,
                    20139164948.288,
                    20191540686.496,
                    20243916424.704,
                    20296292162.912,
                    20348667901.12,
                    20401043639.328,
                    20453419377.536,
                    20505795115.744,
                    20558170853.952,
                    20610546592.16,
                    20662922330.368,
                    20715298068.576,
                    20767673806.784,
                    20820049544.992,
                    20872425283.2,
                    20924801021.408,
                    20977176759.616,
                    21029552497.824,
                    21081928236.032,
                    21134303974.24,
                    21186679712.448,
                    21239055450.656,
                    21291431188.864,
                    21343806927.072,
                    21396182665.28,
                    21448558403.488,
                    21500934141.696,
                    21553309879.904,
                    21605685618.112,
                    21658061356.32,
                    21710437094.528,
                    21762812832.736,
                    21815188570.944,
                    21867564309.152,
                    21919940047.36,
                    21972315785.568,
                    22024691523.776,
                    22077067261.984,
                    22129443000.192,
                    22181818738.4,
                    22234194476.608,
                    22286570214.816,
                    22338945953.024,
                    22391321691.232,
                    22443697429.44,
                    22496073167.648,
                    22548448905.856,
                    22600824644.064,
                    22653200382.272,
                    22705576120.48,
                    22757951858.688,
                    22810327596.896,
                    22862703335.104,
                    22915079073.312,
                    22967454811.52,
                    23019830549.728,
                    23072206287.936,
                    23124582026.144,
                    23176957764.352,
                    23229333502.56,
                    23281709240.768,
                    23334084978.976,
                    23386460717.184,
                    23438836455.392,
                    23491212193.6,
                    23543587931.808,
                    23595963670.016,
                    23648339408.224,
                    23700715146.432,
                    23753090884.64,
                    23805466622.848,
                    23857842361.056,
                    23910218099.264,
                    23962593837.472,
                    24014969575.68,
                    24067345313.888,
                    24119721052.096,
                    24172096790.304,
                    24224472528.512,
                    24276848266.72,
                    24329224004.928,
                    24381599743.136,
                    24433975481.344,
                    24486351219.552,
                    24538726957.76,
                    24591102695.968,
                    24643478434.176,
                    24695854172.384,
                    24748229910.592,
                    24800605648.8,
                    24852981387.008,
                    24905357125.216,
                    24957732863.424,
                    25010108601.632,
                    25062484339.84,
                    25114860078.048,
                    25167235816.256,
                    25219611554.464,
                    25271987292.672,
                    25324363030.88,
                    25376738769.088,
                    25429114507.296,
                    25481490245.504,
                    25533865983.712,
                    25586241721.92,
                    25638617460.128,
                    25690993198.336,
                    25743368936.544,
                    25795744674.752,
                    25848120412.96,
                    25900496151.168,
                    25952871889.376,
                    26005247627.584,
                    26057623365.792
                  ],
                  "xaxis": "x",
                  "y": [
                    3.008170016620992e-10,
                    3.0956591757612435e-10,
                    3.176798478647276e-10,
                    3.2510308604797433e-10,
                    3.317850351043795e-10,
                    3.3768081473935454e-10,
                    3.4275178786441254e-10,
                    3.4696599743312457e-10,
                    3.5029850670716547e-10,
                    3.527316380928567e-10,
                    3.542551078360675e-10,
                    3.5486605603097376e-10,
                    3.5456897352657407e-10,
                    3.5337552934749617e-10,
                    3.513043041310071e-10,
                    3.483804367748503e-10,
                    3.446351929531078e-10,
                    3.401054653606385e-10,
                    3.348332164710163e-10,
                    3.2886487522773714e-10,
                    3.2225069943253757e-10,
                    3.1504411565525966e-10,
                    3.073010482821203e-10,
                    2.990792488655022e-10,
                    2.904376362662651e-10,
                    2.814356572210537e-10,
                    2.721326759571543e-10,
                    2.625874003526871e-10,
                    2.528573509371106e-10,
                    2.4299837778215694e-10,
                    2.3306422908031086e-10,
                    2.2310617397805016e-10,
                    2.131726810518738e-10,
                    2.033091527104057e-10,
                    1.9355771479492808e-10,
                    1.83957059748623e-10,
                    1.7454234094216723e-10,
                    1.653451150866145e-10,
                    1.563933291362407e-10,
                    1.477113476832166e-10,
                    1.3932001656854036e-10,
                    1.3123675827287508e-10,
                    1.234756945979204e-10,
                    1.1604779219317022e-10,
                    1.0896102661260526e-10,
                    1.0222056078852267e-10,
                    9.582893407237895e-11,
                    8.978625830228052e-11,
                    8.40904177009121e-11,
                    7.873726977411802e-11,
                    7.37208447576643e-11,
                    6.903354153748878e-11,
                    6.466631833764048e-11,
                    6.060887682198943e-11,
                    5.6849838583763647e-11,
                    5.337691329549588e-11,
                    5.017705805682015e-11,
                    4.7236627705842465e-11,
                    4.454151604991468e-11,
                    4.207728812318456e-11,
                    3.9829303692046285e-11,
                    3.778283230736274e-11,
                    3.592316024682329e-11,
                    3.423568970552645e-11,
                    3.270603058197658e-11,
                    3.132008517477323e-11,
                    3.006412605724242e-11,
                    2.892486733816915e-11,
                    2.78895294516364e-11,
                    2.6945897552584338e-11,
                    2.608237353155348e-11,
                    2.5288021606186767e-11,
                    2.455260740186682e-11,
                    2.386663040213235e-11,
                    2.3221349633290018e-11,
                    2.2608802448177542e-11,
                    2.2021816291839208e-11,
                    2.145401336666959e-11,
                    2.0899808165370933e-11,
                    2.0354397905200803e-11,
                    1.9813745974240356e-11,
                    1.9274558587087998e-11,
                    1.8734254940434136e-11,
                    1.819093125511168e-11,
                    1.7643319187058245e-11,
                    1.7090739181795525e-11,
                    1.6533049432298245e-11,
                    1.597059117551391e-11,
                    1.5404131125662994e-11,
                    1.4834801890606775e-11,
                    1.4264041249299421e-11,
                    1.369353118247571e-11,
                    1.3125137544656995e-11,
                    1.2560851243238269e-11,
                    1.20027317503573e-11,
                    1.1452853716457742e-11,
                    1.0913257382434486e-11,
                    1.0385903401876447e-11,
                    9.87263258843051e-12,
                    9.375130998173323e-12,
                    8.894900645749642e-12,
                    8.433236038653417e-12,
                    7.991206599135806e-12,
                    7.569644930498753e-12,
                    7.169140776505053e-12,
                    6.790040421636301e-12,
                    6.4324511880317705e-12,
                    6.0962506039125844e-12,
                    5.781099749581276e-12,
                    5.486460231766103e-12,
                    5.211614195873711e-12,
                    4.9556867589751144e-12,
                    4.717670234065241e-12,
                    4.496449517956733e-12,
                    4.2908280304167424e-12,
                    4.099553619867654e-12,
                    3.9213438899268116e-12,
                    3.754910449818755e-12,
                    3.5989816486457476e-12,
                    3.4523234169074388e-12,
                    3.31375790670036e-12,
                    3.1821796928453682e-12,
                    3.0565693689462983e-12,
                    2.9360044432905068e-12,
                    2.8196675078785876e-12,
                    2.7068517181719667e-12,
                    2.5969636800033687e-12,
                    2.489523892341318e-12,
                    2.3841649392972585e-12,
                    2.2806276612202858e-12,
                    2.1787555625020996e-12,
                    2.078487732634327e-12,
                    1.979850567196662e-12,
                    1.882948577124342e-12,
                    1.7879545683495996e-12,
                    1.6950994604752646e-12,
                    1.6046619934330958e-12,
                    1.5169585461539298e-12,
                    1.4323332622809356e-12,
                    1.3511486461016022e-12,
                    1.2737767583901628e-12,
                    1.2005911079534869e-12,
                    1.1319593015182809e-12,
                    1.0682364832550576e-12,
                    1.009759566652413e-12,
                    9.568422364374353e-13,
                    9.097706774202897e-13,
                    8.687999709801197e-13,
                    8.341510886717206e-13,
                    8.060084061949718e-13,
                    7.845176596203339e-13,
                    7.697842690161463e-13,
                    7.618719620262326e-13,
                    7.60801640906762e-13,
                    7.665504503375372e-13,
                    7.790510191719029e-13,
                    7.981908663160314e-13,
                    8.23811978236651e-13,
                    8.557105822917756e-13,
                    8.93637155299699e-13,
                    9.372967197095313e-13,
                    9.863494897053342e-13,
                    1.040411935977442e-12,
                    1.0990583402800024e-12,
                    1.1618229089722892e-12,
                    1.2282025083920516e-12,
                    1.2976600741882612e-12,
                    1.3696287318828753e-12,
                    1.4435166473447211e-12,
                    1.5187126041135894e-12,
                    1.5945922803247588e-12,
                    1.6705251721909314e-12,
                    1.7458820845334852e-12,
                    1.8200430827126625e-12,
                    1.892405775511485e-12,
                    1.9623937760947184e-12,
                    2.0294651690604973e-12,
                    2.0931207967126844e-12,
                    2.1529121677724868e-12,
                    2.2084487874346084e-12,
                    2.2594047093958264e-12,
                    2.305524118484749e-12,
                    2.346625766831769e-12,
                    2.382606106950983e-12,
                    2.413440991257952e-12,
                    2.4391858388078156e-12,
                    2.4599742056062635e-12,
                    2.4760147337534033e-12,
                    2.4875864958234947e-12,
                    2.495032793056925e-12,
                    2.498753507877978e-12,
                    2.4991961516670318e-12,
                    2.496845786345382e-12,
                    2.492214031977745e-12,
                    2.485827401169168e-12,
                    2.4782152235803226e-12,
                    2.4698974396321234e-12,
                    2.461372550842762e-12,
                    2.453106014882624e-12,
                    2.4455193662230667e-12,
                    2.438980328308853e-12,
                    2.4337941608509414e-12,
                    2.4301964566907827e-12,
                    2.4283475675104673e-12,
                    2.428328797420197e-12,
                    2.430140459264438e-12,
                    2.4337018415899213e-12,
                    2.4388530859337666e-12,
                    2.445358925781983e-12,
                    2.4529141915816576e-12,
                    2.4611509418880453e-12,
                    2.4696470403330625e-12,
                    2.4779359627388273e-12,
                    2.4855175893403907e-12,
                    2.4918697145156334e-12,
                    2.49645999123169e-12,
                    2.498758019967779e-12,
                    2.498247292292425e-12,
                    2.4944367074516325e-12,
                    2.4868713959252274e-12,
                    2.4751426063744426e-12,
                    2.4588964409783925e-12,
                    2.4378412579106024e-12,
                    2.4117535975673355e-12,
                    2.380482529949595e-12,
                    2.343952363076464e-12,
                    2.30216369520011e-12,
                    2.255192835650481e-12,
                    2.203189659166319e-12,
                    2.146373995470121e-12,
                    2.085030688649458e-12,
                    2.019503488806023e-12,
                    1.950187960797971e-12,
                    1.877523611299085e-12,
                    1.8019854456029644e-12,
                    1.7240751695898475e-12,
                    1.6443122502243535e-12,
                    1.5632250402240727e-12,
                    1.4813421596552938e-12,
                    1.3991843098345326e-12,
                    1.3172566738127853e-12,
                    1.2360420337392248e-12,
                    1.155994709430928e-12,
                    1.0775353954128413e-12,
                    1.0010469464127856e-12,
                    9.268711346233083e-13,
                    8.553063767224115e-13,
                    7.866064053271838e-13,
                    7.209798387734688e-13,
                    6.5859058528233e-13,
                    5.995590029730494e-13,
                    5.439637259670902e-13,
                    4.918440590295751e-13,
                    4.432028387323803e-13,
                    3.980096578134723e-13,
                    3.5620435098364757e-13,
                    3.1770064455972744e-13,
                    2.823898785992874e-13,
                    2.501447182623571e-13,
                    2.2082278050352877e-13,
                    1.9427011248099227e-13,
                    1.703244688522217e-13,
                    1.488183460352662e-13,
                    1.2958174221556533e-13,
                    1.1244462208372692e-13,
                    9.723907476419485e-14,
                    8.380116195582244e-14,
                    7.197246082385299e-14,
                    6.160131258012098e-14,
                    5.254379293253745e-14,
                    4.4664424685929174e-14,
                    3.783665577914744e-14,
                    3.1943128022244545e-14,
                    2.6875762848682428e-14,
                    2.2535690632934798e-14,
                    1.883304966472427e-14,
                    1.5686679842558915e-14,
                    1.3023734675047696e-14,
                    1.0779233377212661e-14,
                    8.895572830645175e-15,
                    7.32201703968438e-15,
                    6.014179546986739e-15,
                    4.9335121432207924e-15,
                    4.046811175508795e-15,
                    3.325750872035792e-15,
                    2.746451387113622e-15,
                    2.2890877507012416e-15,
                    1.937544586505215e-15,
                    1.679120340950028e-15,
                    1.504283830527352e-15,
                    1.406485149068662e-15,
                    1.3820223551300188e-15,
                    1.4299648540174203e-15,
                    1.5521339665609965e-15,
                    1.7531408026842382e-15,
                    2.0404811958488378e-15,
                    2.4246870679688813e-15,
                    2.919533147410837e-15,
                    3.5422974209407124e-15,
                    4.3140730323948915e-15,
                    5.260128518767232e-15,
                    6.410312275696195e-15,
                    7.799495952726066e-15,
                    9.468050085543411e-15,
                    1.146234367799532e-14,
                    1.3835257661701864e-14,
                    1.6646700207635455e-14,
                    1.9964109776936486e-14,
                    2.3862929625643086e-14,
                    2.8427035282076353e-14,
                    3.374909437237685e-14,
                    3.9930836168636475e-14,
                    4.7083206476912364e-14,
                    5.532638208123632e-14,
                    6.478961803422727e-14,
                    7.561090075885869e-14,
                    8.793638032297511e-14,
                    1.01919556486441e-13,
                    1.1772019530761e-13,
                    1.3550295632089362e-13,
                    1.5543571462650398e-13,
                    1.7768756770252856e-13,
                    2.024265233569812e-13,
                    2.298168729398386e-13,
                    2.6001626264141815e-13,
                    2.93172485272937e-13,
                    3.294200251643604e-13,
                    3.688763994796469e-13,
                    4.116383500466853e-13,
                    4.577779503925692e-13,
                    5.073387026922765e-13,
                    5.603317083834046e-13,
                    6.167320038625775e-13,
                    6.764751585537439e-13,
                    7.394542363379326e-13,
                    8.055172225070494e-13,
                    8.744650167553241e-13,
                    9.460500880256778e-13,
                    1.019975879148276e-12,
                    1.0958970381086392e-12,
                    1.173420538538978e-12,
                    1.2521077348342226e-12,
                    1.3314773774683338e-12,
                    1.41100959206172e-12,
                    1.4901508020705152e-12,
                    1.5683195502743894e-12,
                    1.6449131492515586e-12,
                    1.7193150665235805e-12,
                    1.790902926832744e-12,
                    1.8590569928872725e-12,
                    1.9231689676463235e-12,
                    1.9826509465294413e-12,
                    2.0369443374406277e-12,
                    2.0855285606921498e-12,
                    2.1279293401498673e-12,
                    2.16372640138795e-12,
                    2.19256040234938e-12,
                    2.214138936789985e-12,
                    2.228241470289061e-12,
                    2.234723092319612e-12,
                    2.2335169951123786e-12,
                    2.2246356200163305e-12,
                    2.208170443848458e-12,
                    2.1842904103634676e-12,
                    2.1532390444535586e-12,
                    2.11533031800991e-12,
                    2.0709433655842948e-12,
                    2.0205161742045315e-12,
                    1.9645383941548872e-12,
                    1.9035434356053135e-12,
                    1.8381000291938518e-12,
                    1.7688034367412751e-12,
                    1.6962665010941927e-12,
                    1.6211107217208632e-12,
                    1.543957535363756e-12,
                    1.4654199691846473e-12,
                    1.3860948179582334e-12,
                    1.3065554776291738e-12,
                    1.2273455456787855e-12,
                    1.1489732750373053e-12,
                    1.0719069435348105e-12,
                    9.965711759065093e-13,
                    9.233442309177505e-13,
                    8.525562429482593e-13,
                    7.844883859857054e-13,
                    7.193729089374441e-13,
                    6.573939748726764e-13,
                    5.98689223533754e-13,
                    5.433519663620193e-13,
                    4.914339164099396e-13,
                    4.4294835178934015e-13,
                    3.978736105686564e-13,
                    3.5615681703136693e-13,
                    3.177177436283862e-13,
                    2.824527194345257e-13,
                    2.50238504058453e-13,
                    2.2093605534782478e-13,
                    1.9439412946940533e-13,
                    1.7045266263803154e-13,
                    1.4894589455599775e-13,
                    1.297052041823858e-13,
                    1.1256163850158205e-13,
                    9.734812427287474e-14,
                    8.390136114202235e-14,
                    7.20634018554808e-14,
                    6.168293156308947e-14,
                    5.261626329516052e-14,
                    4.4728070665883614e-14,
                    3.78918817321565e-14,
                    3.19903597992188e-14,
                    2.6915397907497832e-14,
                    2.2568053869954363e-14,
                    1.8858352176133027e-14,
                    1.5704977962203508e-14,
                    1.303488668832091e-14,
                    1.0782851283405797e-14,
                    8.890966422252919e-15,
                    7.308127389233715e-15,
                    5.98949874290665e-15,
                    4.8959857993601944e-15,
                    3.9937198583114485e-15,
                    3.253566150715684e-15,
                    2.6506617230599008e-15,
                    2.1639889130565655e-15,
                    1.7759887249746704e-15,
                    1.4722172819407923e-15,
                    1.2410476108411621e-15,
                    1.073418289918755e-15,
                    9.626299413055082e-16,
                    9.041901577224317e-16,
                    8.957071882272124e-16,
                    9.3683254347823e-16,
                    1.0292525860237508e-15,
                    1.176729113968351e-15,
                    1.3851888947689607e-15,
                    1.6628620275382144e-15,
                    2.020468875169814e-15,
                    2.4714550808948793e-15,
                    3.0322738381309538e-15,
                    3.722714090546665e-15,
                    4.566272677048362e-15,
                    5.5905675837975804e-15,
                    6.827788407359473e-15,
                    8.315178860852542e-15,
                    1.0095544667236125e-14,
                    1.2217778488162717e-14,
                    1.4737391650795027e-14,
                    1.7717040387666875e-14,
                    2.1227032137433907e-14,
                    2.5345795221809982e-14,
                    3.0160292984233654e-14,
                    3.576636133048188e-14,
                    4.226894664494648e-14,
                    4.978221937447327e-14,
                    5.842953728965675e-14,
                    6.834323167287023e-14,
                    7.966418956714739e-14,
                    9.254120587255278e-14,
                    1.0713008061172314e-13,
                    1.2359243920546762e-13,
                    1.4209425718487995e-13,
                    1.6280407547412171e-13,
                    1.8589089823133338e-13,
                    2.115217722184671e-13,
                    2.3985905472458647e-13,
                    2.7105738608360437e-13,
                    3.0526039264723095e-13,
                    3.4259715648636403e-13,
                    3.831784988373711e-13,
                    4.270931350748282e-13,
                    4.744037694298801e-13,
                    5.251432074011228e-13,
                    5.793105724207634e-13,
                    6.368677204322295e-13,
                    6.977359512048988e-13,
                    7.617931180805121e-13,
                    8.288712380799946e-13,
                    8.987547016251278e-13,
                    9.711791753510223e-13,
                    1.0458312824981416e-12,
                    1.1223491331792853e-12,
                    1.2003237615327496e-12,
                    1.279301508634982e-12,
                    1.3587873694107297e-12,
                    1.4382492991188447e-12,
                    1.5171234508873435e-12,
                    1.5948202908916492e-12,
                    1.6707315128579214e-12,
                    1.7442376494174737e-12,
                    1.8147162552468384e-12,
                    1.881550516699137e-12,
                    1.9441381255205773e-12,
                    2.0019002409337785e-12,
                    2.0542903554359155e-12,
                    2.1008028755533448e-12,
                    2.1409812298137113e-12,
                    2.1744253224699564e-12,
                    2.2007981629886277e-12,
                    2.219831517766213e-12,
                    2.231330451552465e-12
                  ],
                  "yaxis": "y"
                },
                {
                  "legendgroup": "ebitda",
                  "marker": {
                    "color": "rgb(31, 119, 180)",
                    "symbol": "line-ns-open"
                  },
                  "mode": "markers",
                  "name": "ebitda",
                  "showlegend": false,
                  "type": "scatter",
                  "x": [
                    1093452732.6971428,
                    26109999104,
                    3876000000,
                    1093452732.6971428,
                    1093452732.6971428,
                    9594999808,
                    1093452732.6971428,
                    1093452732.6971428,
                    676300032,
                    4012000000,
                    4208000000,
                    6231000064,
                    18742999040,
                    11566999552,
                    2095000064,
                    -10593000,
                    1758000000,
                    2276999936,
                    1093452732.6971428,
                    2862000128,
                    1964000000,
                    3572999936,
                    2622000128,
                    1919000064,
                    409500000,
                    447900000,
                    765600000,
                    4574000128,
                    1169400064,
                    1991000064,
                    575000000,
                    1551000064,
                    1721140992,
                    447700000,
                    2045900032,
                    1664999936,
                    575299968,
                    552600000,
                    401200000,
                    266687008,
                    1009555968,
                    235000000,
                    745100032,
                    575000000,
                    4176000000,
                    536700000,
                    858628992,
                    867000000,
                    431200000,
                    743400000,
                    981100032,
                    138000000,
                    1213803008,
                    550200000,
                    702000000,
                    1352000000,
                    359500000,
                    983299968,
                    865438016,
                    105702000,
                    1542300032,
                    415000000,
                    1384000000,
                    299328992,
                    233367008,
                    912000000,
                    565400000,
                    75425000,
                    1904000000,
                    1093452732.6971428,
                    360000000,
                    1093452732.6971428,
                    1292097024,
                    378500000,
                    434000000,
                    1119000064,
                    254200000,
                    355555008,
                    1093452732.6971428,
                    337200000,
                    1517400064,
                    3919973888,
                    448300000,
                    213939008,
                    543945984,
                    249200000,
                    191910000,
                    347500000,
                    181919008,
                    816000000,
                    412000000,
                    1029200000,
                    91315000,
                    251580000,
                    138348992,
                    454184992,
                    1093452732.6971428,
                    746800000,
                    163572000,
                    101029000,
                    942200000,
                    243500000,
                    123089000,
                    1093452732.6971428,
                    1093452732.6971428,
                    260500000,
                    500912992,
                    76421000,
                    1677299968,
                    1093452732.6971428,
                    202368000,
                    1093452732.6971428,
                    392179008,
                    139800000,
                    291100000,
                    84365000,
                    317400000,
                    408376992,
                    1093452732.6971428,
                    821800000,
                    463600000,
                    511800000,
                    154300000,
                    54446000,
                    119425000,
                    150200000,
                    219272000,
                    1093452732.6971428,
                    1093452732.6971428,
                    612000000,
                    174083008,
                    469300000,
                    77900000,
                    214100000,
                    96742000,
                    1093452732.6971428,
                    353094016,
                    1093452732.6971428,
                    103293000,
                    106703000,
                    212100000,
                    1093452732.6971428,
                    77500000,
                    1093452732.6971428,
                    182332000,
                    79856000,
                    207708000,
                    96947000,
                    140556000,
                    501200000,
                    44523576,
                    204100000,
                    217184992,
                    151880992,
                    1093452732.6971428,
                    3316631040,
                    186256000,
                    21944000,
                    13771000,
                    594899968,
                    191559008,
                    288864992,
                    202544000,
                    1182000000,
                    163287008,
                    898928000,
                    1093452732.6971428,
                    -18284258,
                    -30475096,
                    -12733000,
                    -69369000,
                    167614000,
                    721571008,
                    -11858576,
                    -11639552,
                    1251000064,
                    185328000,
                    1093452732.6971428,
                    35973000,
                    -38520656,
                    37836000,
                    -33232684,
                    -20888000,
                    45000,
                    2071613056,
                    323432192,
                    -54517044,
                    -77870000,
                    -17804000,
                    7501000,
                    788566976,
                    826054016,
                    242431008,
                    248828992,
                    26172000,
                    676700032,
                    33209000,
                    62300000,
                    1093452732.6971428,
                    162348992
                  ],
                  "xaxis": "x",
                  "y": [
                    "ebitda",
                    "ebitda",
                    "ebitda",
                    "ebitda",
                    "ebitda",
                    "ebitda",
                    "ebitda",
                    "ebitda",
                    "ebitda",
                    "ebitda",
                    "ebitda",
                    "ebitda",
                    "ebitda",
                    "ebitda",
                    "ebitda",
                    "ebitda",
                    "ebitda",
                    "ebitda",
                    "ebitda",
                    "ebitda",
                    "ebitda",
                    "ebitda",
                    "ebitda",
                    "ebitda",
                    "ebitda",
                    "ebitda",
                    "ebitda",
                    "ebitda",
                    "ebitda",
                    "ebitda",
                    "ebitda",
                    "ebitda",
                    "ebitda",
                    "ebitda",
                    "ebitda",
                    "ebitda",
                    "ebitda",
                    "ebitda",
                    "ebitda",
                    "ebitda",
                    "ebitda",
                    "ebitda",
                    "ebitda",
                    "ebitda",
                    "ebitda",
                    "ebitda",
                    "ebitda",
                    "ebitda",
                    "ebitda",
                    "ebitda",
                    "ebitda",
                    "ebitda",
                    "ebitda",
                    "ebitda",
                    "ebitda",
                    "ebitda",
                    "ebitda",
                    "ebitda",
                    "ebitda",
                    "ebitda",
                    "ebitda",
                    "ebitda",
                    "ebitda",
                    "ebitda",
                    "ebitda",
                    "ebitda",
                    "ebitda",
                    "ebitda",
                    "ebitda",
                    "ebitda",
                    "ebitda",
                    "ebitda",
                    "ebitda",
                    "ebitda",
                    "ebitda",
                    "ebitda",
                    "ebitda",
                    "ebitda",
                    "ebitda",
                    "ebitda",
                    "ebitda",
                    "ebitda",
                    "ebitda",
                    "ebitda",
                    "ebitda",
                    "ebitda",
                    "ebitda",
                    "ebitda",
                    "ebitda",
                    "ebitda",
                    "ebitda",
                    "ebitda",
                    "ebitda",
                    "ebitda",
                    "ebitda",
                    "ebitda",
                    "ebitda",
                    "ebitda",
                    "ebitda",
                    "ebitda",
                    "ebitda",
                    "ebitda",
                    "ebitda",
                    "ebitda",
                    "ebitda",
                    "ebitda",
                    "ebitda",
                    "ebitda",
                    "ebitda",
                    "ebitda",
                    "ebitda",
                    "ebitda",
                    "ebitda",
                    "ebitda",
                    "ebitda",
                    "ebitda",
                    "ebitda",
                    "ebitda",
                    "ebitda",
                    "ebitda",
                    "ebitda",
                    "ebitda",
                    "ebitda",
                    "ebitda",
                    "ebitda",
                    "ebitda",
                    "ebitda",
                    "ebitda",
                    "ebitda",
                    "ebitda",
                    "ebitda",
                    "ebitda",
                    "ebitda",
                    "ebitda",
                    "ebitda",
                    "ebitda",
                    "ebitda",
                    "ebitda",
                    "ebitda",
                    "ebitda",
                    "ebitda",
                    "ebitda",
                    "ebitda",
                    "ebitda",
                    "ebitda",
                    "ebitda",
                    "ebitda",
                    "ebitda",
                    "ebitda",
                    "ebitda",
                    "ebitda",
                    "ebitda",
                    "ebitda",
                    "ebitda",
                    "ebitda",
                    "ebitda",
                    "ebitda",
                    "ebitda",
                    "ebitda",
                    "ebitda",
                    "ebitda",
                    "ebitda",
                    "ebitda",
                    "ebitda",
                    "ebitda",
                    "ebitda",
                    "ebitda",
                    "ebitda",
                    "ebitda",
                    "ebitda",
                    "ebitda",
                    "ebitda",
                    "ebitda",
                    "ebitda",
                    "ebitda",
                    "ebitda",
                    "ebitda",
                    "ebitda",
                    "ebitda",
                    "ebitda",
                    "ebitda",
                    "ebitda",
                    "ebitda",
                    "ebitda",
                    "ebitda",
                    "ebitda",
                    "ebitda",
                    "ebitda",
                    "ebitda",
                    "ebitda",
                    "ebitda",
                    "ebitda",
                    "ebitda",
                    "ebitda",
                    "ebitda",
                    "ebitda",
                    "ebitda",
                    "ebitda",
                    "ebitda",
                    "ebitda"
                  ],
                  "yaxis": "y2"
                },
                {
                  "alignmentgroup": "True",
                  "bingroup": "x",
                  "hovertemplate": "ebitda=%{x}<br>count=%{y}<extra></extra>",
                  "legendgroup": "",
                  "marker": {
                    "color": "#636efa",
                    "pattern": {
                      "shape": ""
                    }
                  },
                  "name": "histogram",
                  "offsetgroup": "",
                  "orientation": "v",
                  "showlegend": false,
                  "type": "histogram",
                  "x": [
                    1093452732.6971428,
                    26109999104,
                    3876000000,
                    1093452732.6971428,
                    1093452732.6971428,
                    9594999808,
                    1093452732.6971428,
                    1093452732.6971428,
                    676300032,
                    4012000000,
                    4208000000,
                    6231000064,
                    18742999040,
                    11566999552,
                    2095000064,
                    -10593000,
                    1758000000,
                    2276999936,
                    1093452732.6971428,
                    2862000128,
                    1964000000,
                    3572999936,
                    2622000128,
                    1919000064,
                    409500000,
                    447900000,
                    765600000,
                    4574000128,
                    1169400064,
                    1991000064,
                    575000000,
                    1551000064,
                    1721140992,
                    447700000,
                    2045900032,
                    1664999936,
                    575299968,
                    552600000,
                    401200000,
                    266687008,
                    1009555968,
                    235000000,
                    745100032,
                    575000000,
                    4176000000,
                    536700000,
                    858628992,
                    867000000,
                    431200000,
                    743400000,
                    981100032,
                    138000000,
                    1213803008,
                    550200000,
                    702000000,
                    1352000000,
                    359500000,
                    983299968,
                    865438016,
                    105702000,
                    1542300032,
                    415000000,
                    1384000000,
                    299328992,
                    233367008,
                    912000000,
                    565400000,
                    75425000,
                    1904000000,
                    1093452732.6971428,
                    360000000,
                    1093452732.6971428,
                    1292097024,
                    378500000,
                    434000000,
                    1119000064,
                    254200000,
                    355555008,
                    1093452732.6971428,
                    337200000,
                    1517400064,
                    3919973888,
                    448300000,
                    213939008,
                    543945984,
                    249200000,
                    191910000,
                    347500000,
                    181919008,
                    816000000,
                    412000000,
                    1029200000,
                    91315000,
                    251580000,
                    138348992,
                    454184992,
                    1093452732.6971428,
                    746800000,
                    163572000,
                    101029000,
                    942200000,
                    243500000,
                    123089000,
                    1093452732.6971428,
                    1093452732.6971428,
                    260500000,
                    500912992,
                    76421000,
                    1677299968,
                    1093452732.6971428,
                    202368000,
                    1093452732.6971428,
                    392179008,
                    139800000,
                    291100000,
                    84365000,
                    317400000,
                    408376992,
                    1093452732.6971428,
                    821800000,
                    463600000,
                    511800000,
                    154300000,
                    54446000,
                    119425000,
                    150200000,
                    219272000,
                    1093452732.6971428,
                    1093452732.6971428,
                    612000000,
                    174083008,
                    469300000,
                    77900000,
                    214100000,
                    96742000,
                    1093452732.6971428,
                    353094016,
                    1093452732.6971428,
                    103293000,
                    106703000,
                    212100000,
                    1093452732.6971428,
                    77500000,
                    1093452732.6971428,
                    182332000,
                    79856000,
                    207708000,
                    96947000,
                    140556000,
                    501200000,
                    44523576,
                    204100000,
                    217184992,
                    151880992,
                    1093452732.6971428,
                    3316631040,
                    186256000,
                    21944000,
                    13771000,
                    594899968,
                    191559008,
                    288864992,
                    202544000,
                    1182000000,
                    163287008,
                    898928000,
                    1093452732.6971428,
                    -18284258,
                    -30475096,
                    -12733000,
                    -69369000,
                    167614000,
                    721571008,
                    -11858576,
                    -11639552,
                    1251000064,
                    185328000,
                    1093452732.6971428,
                    35973000,
                    -38520656,
                    37836000,
                    -33232684,
                    -20888000,
                    45000,
                    2071613056,
                    323432192,
                    -54517044,
                    -77870000,
                    -17804000,
                    7501000,
                    788566976,
                    826054016,
                    242431008,
                    248828992,
                    26172000,
                    676700032,
                    33209000,
                    62300000,
                    1093452732.6971428,
                    162348992
                  ],
                  "xaxis": "x",
                  "yaxis": "y3"
                }
              ],
              "layout": {
                "barmode": "overlay",
                "hovermode": "closest",
                "legend": {
                  "traceorder": "reversed"
                },
                "showlegend": false,
                "template": {
                  "data": {
                    "bar": [
                      {
                        "error_x": {
                          "color": "#2a3f5f"
                        },
                        "error_y": {
                          "color": "#2a3f5f"
                        },
                        "marker": {
                          "line": {
                            "color": "#E5ECF6",
                            "width": 0.5
                          },
                          "pattern": {
                            "fillmode": "overlay",
                            "size": 10,
                            "solidity": 0.2
                          }
                        },
                        "type": "bar"
                      }
                    ],
                    "barpolar": [
                      {
                        "marker": {
                          "line": {
                            "color": "#E5ECF6",
                            "width": 0.5
                          },
                          "pattern": {
                            "fillmode": "overlay",
                            "size": 10,
                            "solidity": 0.2
                          }
                        },
                        "type": "barpolar"
                      }
                    ],
                    "carpet": [
                      {
                        "aaxis": {
                          "endlinecolor": "#2a3f5f",
                          "gridcolor": "white",
                          "linecolor": "white",
                          "minorgridcolor": "white",
                          "startlinecolor": "#2a3f5f"
                        },
                        "baxis": {
                          "endlinecolor": "#2a3f5f",
                          "gridcolor": "white",
                          "linecolor": "white",
                          "minorgridcolor": "white",
                          "startlinecolor": "#2a3f5f"
                        },
                        "type": "carpet"
                      }
                    ],
                    "choropleth": [
                      {
                        "colorbar": {
                          "outlinewidth": 0,
                          "ticks": ""
                        },
                        "type": "choropleth"
                      }
                    ],
                    "contour": [
                      {
                        "colorbar": {
                          "outlinewidth": 0,
                          "ticks": ""
                        },
                        "colorscale": [
                          [
                            0,
                            "#0d0887"
                          ],
                          [
                            0.1111111111111111,
                            "#46039f"
                          ],
                          [
                            0.2222222222222222,
                            "#7201a8"
                          ],
                          [
                            0.3333333333333333,
                            "#9c179e"
                          ],
                          [
                            0.4444444444444444,
                            "#bd3786"
                          ],
                          [
                            0.5555555555555556,
                            "#d8576b"
                          ],
                          [
                            0.6666666666666666,
                            "#ed7953"
                          ],
                          [
                            0.7777777777777778,
                            "#fb9f3a"
                          ],
                          [
                            0.8888888888888888,
                            "#fdca26"
                          ],
                          [
                            1,
                            "#f0f921"
                          ]
                        ],
                        "type": "contour"
                      }
                    ],
                    "contourcarpet": [
                      {
                        "colorbar": {
                          "outlinewidth": 0,
                          "ticks": ""
                        },
                        "type": "contourcarpet"
                      }
                    ],
                    "heatmap": [
                      {
                        "colorbar": {
                          "outlinewidth": 0,
                          "ticks": ""
                        },
                        "colorscale": [
                          [
                            0,
                            "#0d0887"
                          ],
                          [
                            0.1111111111111111,
                            "#46039f"
                          ],
                          [
                            0.2222222222222222,
                            "#7201a8"
                          ],
                          [
                            0.3333333333333333,
                            "#9c179e"
                          ],
                          [
                            0.4444444444444444,
                            "#bd3786"
                          ],
                          [
                            0.5555555555555556,
                            "#d8576b"
                          ],
                          [
                            0.6666666666666666,
                            "#ed7953"
                          ],
                          [
                            0.7777777777777778,
                            "#fb9f3a"
                          ],
                          [
                            0.8888888888888888,
                            "#fdca26"
                          ],
                          [
                            1,
                            "#f0f921"
                          ]
                        ],
                        "type": "heatmap"
                      }
                    ],
                    "heatmapgl": [
                      {
                        "colorbar": {
                          "outlinewidth": 0,
                          "ticks": ""
                        },
                        "colorscale": [
                          [
                            0,
                            "#0d0887"
                          ],
                          [
                            0.1111111111111111,
                            "#46039f"
                          ],
                          [
                            0.2222222222222222,
                            "#7201a8"
                          ],
                          [
                            0.3333333333333333,
                            "#9c179e"
                          ],
                          [
                            0.4444444444444444,
                            "#bd3786"
                          ],
                          [
                            0.5555555555555556,
                            "#d8576b"
                          ],
                          [
                            0.6666666666666666,
                            "#ed7953"
                          ],
                          [
                            0.7777777777777778,
                            "#fb9f3a"
                          ],
                          [
                            0.8888888888888888,
                            "#fdca26"
                          ],
                          [
                            1,
                            "#f0f921"
                          ]
                        ],
                        "type": "heatmapgl"
                      }
                    ],
                    "histogram": [
                      {
                        "marker": {
                          "pattern": {
                            "fillmode": "overlay",
                            "size": 10,
                            "solidity": 0.2
                          }
                        },
                        "type": "histogram"
                      }
                    ],
                    "histogram2d": [
                      {
                        "colorbar": {
                          "outlinewidth": 0,
                          "ticks": ""
                        },
                        "colorscale": [
                          [
                            0,
                            "#0d0887"
                          ],
                          [
                            0.1111111111111111,
                            "#46039f"
                          ],
                          [
                            0.2222222222222222,
                            "#7201a8"
                          ],
                          [
                            0.3333333333333333,
                            "#9c179e"
                          ],
                          [
                            0.4444444444444444,
                            "#bd3786"
                          ],
                          [
                            0.5555555555555556,
                            "#d8576b"
                          ],
                          [
                            0.6666666666666666,
                            "#ed7953"
                          ],
                          [
                            0.7777777777777778,
                            "#fb9f3a"
                          ],
                          [
                            0.8888888888888888,
                            "#fdca26"
                          ],
                          [
                            1,
                            "#f0f921"
                          ]
                        ],
                        "type": "histogram2d"
                      }
                    ],
                    "histogram2dcontour": [
                      {
                        "colorbar": {
                          "outlinewidth": 0,
                          "ticks": ""
                        },
                        "colorscale": [
                          [
                            0,
                            "#0d0887"
                          ],
                          [
                            0.1111111111111111,
                            "#46039f"
                          ],
                          [
                            0.2222222222222222,
                            "#7201a8"
                          ],
                          [
                            0.3333333333333333,
                            "#9c179e"
                          ],
                          [
                            0.4444444444444444,
                            "#bd3786"
                          ],
                          [
                            0.5555555555555556,
                            "#d8576b"
                          ],
                          [
                            0.6666666666666666,
                            "#ed7953"
                          ],
                          [
                            0.7777777777777778,
                            "#fb9f3a"
                          ],
                          [
                            0.8888888888888888,
                            "#fdca26"
                          ],
                          [
                            1,
                            "#f0f921"
                          ]
                        ],
                        "type": "histogram2dcontour"
                      }
                    ],
                    "mesh3d": [
                      {
                        "colorbar": {
                          "outlinewidth": 0,
                          "ticks": ""
                        },
                        "type": "mesh3d"
                      }
                    ],
                    "parcoords": [
                      {
                        "line": {
                          "colorbar": {
                            "outlinewidth": 0,
                            "ticks": ""
                          }
                        },
                        "type": "parcoords"
                      }
                    ],
                    "pie": [
                      {
                        "automargin": true,
                        "type": "pie"
                      }
                    ],
                    "scatter": [
                      {
                        "fillpattern": {
                          "fillmode": "overlay",
                          "size": 10,
                          "solidity": 0.2
                        },
                        "type": "scatter"
                      }
                    ],
                    "scatter3d": [
                      {
                        "line": {
                          "colorbar": {
                            "outlinewidth": 0,
                            "ticks": ""
                          }
                        },
                        "marker": {
                          "colorbar": {
                            "outlinewidth": 0,
                            "ticks": ""
                          }
                        },
                        "type": "scatter3d"
                      }
                    ],
                    "scattercarpet": [
                      {
                        "marker": {
                          "colorbar": {
                            "outlinewidth": 0,
                            "ticks": ""
                          }
                        },
                        "type": "scattercarpet"
                      }
                    ],
                    "scattergeo": [
                      {
                        "marker": {
                          "colorbar": {
                            "outlinewidth": 0,
                            "ticks": ""
                          }
                        },
                        "type": "scattergeo"
                      }
                    ],
                    "scattergl": [
                      {
                        "marker": {
                          "colorbar": {
                            "outlinewidth": 0,
                            "ticks": ""
                          }
                        },
                        "type": "scattergl"
                      }
                    ],
                    "scattermapbox": [
                      {
                        "marker": {
                          "colorbar": {
                            "outlinewidth": 0,
                            "ticks": ""
                          }
                        },
                        "type": "scattermapbox"
                      }
                    ],
                    "scatterpolar": [
                      {
                        "marker": {
                          "colorbar": {
                            "outlinewidth": 0,
                            "ticks": ""
                          }
                        },
                        "type": "scatterpolar"
                      }
                    ],
                    "scatterpolargl": [
                      {
                        "marker": {
                          "colorbar": {
                            "outlinewidth": 0,
                            "ticks": ""
                          }
                        },
                        "type": "scatterpolargl"
                      }
                    ],
                    "scatterternary": [
                      {
                        "marker": {
                          "colorbar": {
                            "outlinewidth": 0,
                            "ticks": ""
                          }
                        },
                        "type": "scatterternary"
                      }
                    ],
                    "surface": [
                      {
                        "colorbar": {
                          "outlinewidth": 0,
                          "ticks": ""
                        },
                        "colorscale": [
                          [
                            0,
                            "#0d0887"
                          ],
                          [
                            0.1111111111111111,
                            "#46039f"
                          ],
                          [
                            0.2222222222222222,
                            "#7201a8"
                          ],
                          [
                            0.3333333333333333,
                            "#9c179e"
                          ],
                          [
                            0.4444444444444444,
                            "#bd3786"
                          ],
                          [
                            0.5555555555555556,
                            "#d8576b"
                          ],
                          [
                            0.6666666666666666,
                            "#ed7953"
                          ],
                          [
                            0.7777777777777778,
                            "#fb9f3a"
                          ],
                          [
                            0.8888888888888888,
                            "#fdca26"
                          ],
                          [
                            1,
                            "#f0f921"
                          ]
                        ],
                        "type": "surface"
                      }
                    ],
                    "table": [
                      {
                        "cells": {
                          "fill": {
                            "color": "#EBF0F8"
                          },
                          "line": {
                            "color": "white"
                          }
                        },
                        "header": {
                          "fill": {
                            "color": "#C8D4E3"
                          },
                          "line": {
                            "color": "white"
                          }
                        },
                        "type": "table"
                      }
                    ]
                  },
                  "layout": {
                    "annotationdefaults": {
                      "arrowcolor": "#2a3f5f",
                      "arrowhead": 0,
                      "arrowwidth": 1
                    },
                    "autotypenumbers": "strict",
                    "coloraxis": {
                      "colorbar": {
                        "outlinewidth": 0,
                        "ticks": ""
                      }
                    },
                    "colorscale": {
                      "diverging": [
                        [
                          0,
                          "#8e0152"
                        ],
                        [
                          0.1,
                          "#c51b7d"
                        ],
                        [
                          0.2,
                          "#de77ae"
                        ],
                        [
                          0.3,
                          "#f1b6da"
                        ],
                        [
                          0.4,
                          "#fde0ef"
                        ],
                        [
                          0.5,
                          "#f7f7f7"
                        ],
                        [
                          0.6,
                          "#e6f5d0"
                        ],
                        [
                          0.7,
                          "#b8e186"
                        ],
                        [
                          0.8,
                          "#7fbc41"
                        ],
                        [
                          0.9,
                          "#4d9221"
                        ],
                        [
                          1,
                          "#276419"
                        ]
                      ],
                      "sequential": [
                        [
                          0,
                          "#0d0887"
                        ],
                        [
                          0.1111111111111111,
                          "#46039f"
                        ],
                        [
                          0.2222222222222222,
                          "#7201a8"
                        ],
                        [
                          0.3333333333333333,
                          "#9c179e"
                        ],
                        [
                          0.4444444444444444,
                          "#bd3786"
                        ],
                        [
                          0.5555555555555556,
                          "#d8576b"
                        ],
                        [
                          0.6666666666666666,
                          "#ed7953"
                        ],
                        [
                          0.7777777777777778,
                          "#fb9f3a"
                        ],
                        [
                          0.8888888888888888,
                          "#fdca26"
                        ],
                        [
                          1,
                          "#f0f921"
                        ]
                      ],
                      "sequentialminus": [
                        [
                          0,
                          "#0d0887"
                        ],
                        [
                          0.1111111111111111,
                          "#46039f"
                        ],
                        [
                          0.2222222222222222,
                          "#7201a8"
                        ],
                        [
                          0.3333333333333333,
                          "#9c179e"
                        ],
                        [
                          0.4444444444444444,
                          "#bd3786"
                        ],
                        [
                          0.5555555555555556,
                          "#d8576b"
                        ],
                        [
                          0.6666666666666666,
                          "#ed7953"
                        ],
                        [
                          0.7777777777777778,
                          "#fb9f3a"
                        ],
                        [
                          0.8888888888888888,
                          "#fdca26"
                        ],
                        [
                          1,
                          "#f0f921"
                        ]
                      ]
                    },
                    "colorway": [
                      "#636efa",
                      "#EF553B",
                      "#00cc96",
                      "#ab63fa",
                      "#FFA15A",
                      "#19d3f3",
                      "#FF6692",
                      "#B6E880",
                      "#FF97FF",
                      "#FECB52"
                    ],
                    "font": {
                      "color": "#2a3f5f"
                    },
                    "geo": {
                      "bgcolor": "white",
                      "lakecolor": "white",
                      "landcolor": "#E5ECF6",
                      "showlakes": true,
                      "showland": true,
                      "subunitcolor": "white"
                    },
                    "hoverlabel": {
                      "align": "left"
                    },
                    "hovermode": "closest",
                    "mapbox": {
                      "style": "light"
                    },
                    "paper_bgcolor": "white",
                    "plot_bgcolor": "#E5ECF6",
                    "polar": {
                      "angularaxis": {
                        "gridcolor": "white",
                        "linecolor": "white",
                        "ticks": ""
                      },
                      "bgcolor": "#E5ECF6",
                      "radialaxis": {
                        "gridcolor": "white",
                        "linecolor": "white",
                        "ticks": ""
                      }
                    },
                    "scene": {
                      "xaxis": {
                        "backgroundcolor": "#E5ECF6",
                        "gridcolor": "white",
                        "gridwidth": 2,
                        "linecolor": "white",
                        "showbackground": true,
                        "ticks": "",
                        "zerolinecolor": "white"
                      },
                      "yaxis": {
                        "backgroundcolor": "#E5ECF6",
                        "gridcolor": "white",
                        "gridwidth": 2,
                        "linecolor": "white",
                        "showbackground": true,
                        "ticks": "",
                        "zerolinecolor": "white"
                      },
                      "zaxis": {
                        "backgroundcolor": "#E5ECF6",
                        "gridcolor": "white",
                        "gridwidth": 2,
                        "linecolor": "white",
                        "showbackground": true,
                        "ticks": "",
                        "zerolinecolor": "white"
                      }
                    },
                    "shapedefaults": {
                      "line": {
                        "color": "#2a3f5f"
                      }
                    },
                    "ternary": {
                      "aaxis": {
                        "gridcolor": "white",
                        "linecolor": "white",
                        "ticks": ""
                      },
                      "baxis": {
                        "gridcolor": "white",
                        "linecolor": "white",
                        "ticks": ""
                      },
                      "bgcolor": "#E5ECF6",
                      "caxis": {
                        "gridcolor": "white",
                        "linecolor": "white",
                        "ticks": ""
                      }
                    },
                    "title": {
                      "x": 0.05
                    },
                    "xaxis": {
                      "automargin": true,
                      "gridcolor": "white",
                      "linecolor": "white",
                      "ticks": "",
                      "title": {
                        "standoff": 15
                      },
                      "zerolinecolor": "white",
                      "zerolinewidth": 2
                    },
                    "yaxis": {
                      "automargin": true,
                      "gridcolor": "white",
                      "linecolor": "white",
                      "ticks": "",
                      "title": {
                        "standoff": 15
                      },
                      "zerolinecolor": "white",
                      "zerolinewidth": 2
                    }
                  }
                },
                "xaxis": {
                  "anchor": "y2",
                  "domain": [
                    0,
                    1
                  ],
                  "zeroline": false
                },
                "yaxis": {
                  "anchor": "free",
                  "domain": [
                    0.35,
                    1
                  ],
                  "position": 0
                },
                "yaxis2": {
                  "anchor": "x",
                  "domain": [
                    0,
                    0.25
                  ],
                  "dtick": 1,
                  "showticklabels": false
                },
                "yaxis3": {
                  "overlaying": "y",
                  "side": "right"
                }
              }
            }
          },
          "metadata": {},
          "output_type": "display_data"
        }
      ],
      "source": [
        "import plotly.figure_factory as ff\n",
        "import plotly.express as px\n",
        "import numpy as np\n",
        "import pandas as pd\n",
        "\n",
        "fig = ff.create_distplot(\n",
        "    [df_fundamentals[\"ebitda\"].tolist()],\n",
        "    group_labels=[\"ebitda\"],\n",
        "    show_hist=False,\n",
        ").add_traces(\n",
        "    px.histogram(df_fundamentals, x=\"ebitda\")\n",
        "    .update_traces(yaxis=\"y3\", name=\"histogram\")\n",
        "    .data\n",
        ").update_layout(yaxis3={\"overlaying\": \"y\", \"side\": \"right\"}, showlegend=False)\n",
        "\n",
        "fig\n"
      ]
    },
    {
      "cell_type": "code",
      "execution_count": 123,
      "metadata": {},
      "outputs": [
        {
          "data": {
            "application/vnd.plotly.v1+json": {
              "config": {
                "plotlyServerURL": "https://plot.ly"
              },
              "data": [
                {
                  "alignmentgroup": "True",
                  "bingroup": "x",
                  "histnorm": "probability density",
                  "hovertemplate": "averageVolume=%{x}<br>probability density=%{y}<extra></extra>",
                  "legendgroup": "",
                  "marker": {
                    "color": "#636efa",
                    "pattern": {
                      "shape": ""
                    }
                  },
                  "name": "",
                  "offsetgroup": "",
                  "orientation": "v",
                  "showlegend": false,
                  "type": "histogram",
                  "x": [
                    2379518,
                    7979777,
                    929608,
                    6291011,
                    6522287,
                    6624714,
                    4740022,
                    867210,
                    3633712,
                    1930154,
                    1614387,
                    23286052,
                    1406606,
                    3828751,
                    4659254,
                    179913,
                    1192915,
                    3065396,
                    11733389,
                    19047473,
                    2243095,
                    3776018,
                    3786477,
                    3375597,
                    397313,
                    157319,
                    556485,
                    7708884,
                    683261,
                    1894815,
                    4646668,
                    7518139,
                    1072780,
                    3282633,
                    1317662,
                    2675421,
                    2835971,
                    172834,
                    602503,
                    398152,
                    1589905,
                    6129638,
                    10646533,
                    11659842,
                    8105982,
                    4763981,
                    6891723,
                    7048732,
                    2120335,
                    6416791,
                    1629206,
                    2943278,
                    345710,
                    831223,
                    1359931,
                    7302866,
                    1782571,
                    985012,
                    3460419,
                    427457,
                    467652,
                    1231387,
                    1351788,
                    976346,
                    1316421,
                    803963,
                    1180778,
                    2583709,
                    4387723,
                    1357787,
                    776622,
                    2544413,
                    2713774,
                    3042352,
                    5705695,
                    3088033,
                    385379,
                    912955,
                    8160927,
                    2662852,
                    7419829,
                    6764910,
                    3385163,
                    2584769,
                    312743,
                    8544113,
                    1585883,
                    2048072,
                    273916,
                    10615055,
                    2451037,
                    1586240,
                    339254,
                    2852311,
                    177871,
                    1390960,
                    3200274.214285714,
                    2007697,
                    1121095,
                    159756,
                    8211387,
                    652802,
                    615452,
                    1713837,
                    2095532,
                    1441036,
                    3071744,
                    1113982,
                    1002844,
                    867465,
                    699284,
                    3200274.214285714,
                    5023290,
                    1392992,
                    2252209,
                    154936,
                    959611,
                    511482,
                    1716214,
                    533468,
                    2311541,
                    3556722,
                    2561621,
                    9272761,
                    796477,
                    408783,
                    1319427,
                    3200274.214285714,
                    1260876,
                    436471,
                    1517561,
                    20112,
                    1315329,
                    998181,
                    826135,
                    242555,
                    923340,
                    1114039,
                    308937,
                    964184,
                    401989,
                    227568,
                    822384,
                    1133692,
                    1078311,
                    307345,
                    268292,
                    414406,
                    534934,
                    761932,
                    67176,
                    1060389,
                    7010571,
                    1715018,
                    52478,
                    24276970,
                    3296381,
                    837827,
                    1755443,
                    810020,
                    3687911,
                    4212415,
                    414777,
                    175348,
                    634529,
                    2875277,
                    814492,
                    0,
                    6005926,
                    999547,
                    2603288,
                    1456381,
                    2329765,
                    17639813,
                    3347068,
                    5131052,
                    145954,
                    2741160,
                    851543,
                    24805631,
                    231853,
                    15512255,
                    9294543,
                    1486441,
                    4976268,
                    9953197,
                    2960995,
                    1420329,
                    12936822,
                    453077,
                    4123773,
                    422697,
                    5650158,
                    1866396,
                    1212009,
                    4757547,
                    2591156,
                    1756470,
                    3200274.214285714,
                    5031597
                  ],
                  "xaxis": "x",
                  "yaxis": "y"
                }
              ],
              "layout": {
                "barmode": "relative",
                "legend": {
                  "tracegroupgap": 0
                },
                "margin": {
                  "t": 60
                },
                "template": {
                  "data": {
                    "bar": [
                      {
                        "error_x": {
                          "color": "#2a3f5f"
                        },
                        "error_y": {
                          "color": "#2a3f5f"
                        },
                        "marker": {
                          "line": {
                            "color": "#E5ECF6",
                            "width": 0.5
                          },
                          "pattern": {
                            "fillmode": "overlay",
                            "size": 10,
                            "solidity": 0.2
                          }
                        },
                        "type": "bar"
                      }
                    ],
                    "barpolar": [
                      {
                        "marker": {
                          "line": {
                            "color": "#E5ECF6",
                            "width": 0.5
                          },
                          "pattern": {
                            "fillmode": "overlay",
                            "size": 10,
                            "solidity": 0.2
                          }
                        },
                        "type": "barpolar"
                      }
                    ],
                    "carpet": [
                      {
                        "aaxis": {
                          "endlinecolor": "#2a3f5f",
                          "gridcolor": "white",
                          "linecolor": "white",
                          "minorgridcolor": "white",
                          "startlinecolor": "#2a3f5f"
                        },
                        "baxis": {
                          "endlinecolor": "#2a3f5f",
                          "gridcolor": "white",
                          "linecolor": "white",
                          "minorgridcolor": "white",
                          "startlinecolor": "#2a3f5f"
                        },
                        "type": "carpet"
                      }
                    ],
                    "choropleth": [
                      {
                        "colorbar": {
                          "outlinewidth": 0,
                          "ticks": ""
                        },
                        "type": "choropleth"
                      }
                    ],
                    "contour": [
                      {
                        "colorbar": {
                          "outlinewidth": 0,
                          "ticks": ""
                        },
                        "colorscale": [
                          [
                            0,
                            "#0d0887"
                          ],
                          [
                            0.1111111111111111,
                            "#46039f"
                          ],
                          [
                            0.2222222222222222,
                            "#7201a8"
                          ],
                          [
                            0.3333333333333333,
                            "#9c179e"
                          ],
                          [
                            0.4444444444444444,
                            "#bd3786"
                          ],
                          [
                            0.5555555555555556,
                            "#d8576b"
                          ],
                          [
                            0.6666666666666666,
                            "#ed7953"
                          ],
                          [
                            0.7777777777777778,
                            "#fb9f3a"
                          ],
                          [
                            0.8888888888888888,
                            "#fdca26"
                          ],
                          [
                            1,
                            "#f0f921"
                          ]
                        ],
                        "type": "contour"
                      }
                    ],
                    "contourcarpet": [
                      {
                        "colorbar": {
                          "outlinewidth": 0,
                          "ticks": ""
                        },
                        "type": "contourcarpet"
                      }
                    ],
                    "heatmap": [
                      {
                        "colorbar": {
                          "outlinewidth": 0,
                          "ticks": ""
                        },
                        "colorscale": [
                          [
                            0,
                            "#0d0887"
                          ],
                          [
                            0.1111111111111111,
                            "#46039f"
                          ],
                          [
                            0.2222222222222222,
                            "#7201a8"
                          ],
                          [
                            0.3333333333333333,
                            "#9c179e"
                          ],
                          [
                            0.4444444444444444,
                            "#bd3786"
                          ],
                          [
                            0.5555555555555556,
                            "#d8576b"
                          ],
                          [
                            0.6666666666666666,
                            "#ed7953"
                          ],
                          [
                            0.7777777777777778,
                            "#fb9f3a"
                          ],
                          [
                            0.8888888888888888,
                            "#fdca26"
                          ],
                          [
                            1,
                            "#f0f921"
                          ]
                        ],
                        "type": "heatmap"
                      }
                    ],
                    "heatmapgl": [
                      {
                        "colorbar": {
                          "outlinewidth": 0,
                          "ticks": ""
                        },
                        "colorscale": [
                          [
                            0,
                            "#0d0887"
                          ],
                          [
                            0.1111111111111111,
                            "#46039f"
                          ],
                          [
                            0.2222222222222222,
                            "#7201a8"
                          ],
                          [
                            0.3333333333333333,
                            "#9c179e"
                          ],
                          [
                            0.4444444444444444,
                            "#bd3786"
                          ],
                          [
                            0.5555555555555556,
                            "#d8576b"
                          ],
                          [
                            0.6666666666666666,
                            "#ed7953"
                          ],
                          [
                            0.7777777777777778,
                            "#fb9f3a"
                          ],
                          [
                            0.8888888888888888,
                            "#fdca26"
                          ],
                          [
                            1,
                            "#f0f921"
                          ]
                        ],
                        "type": "heatmapgl"
                      }
                    ],
                    "histogram": [
                      {
                        "marker": {
                          "pattern": {
                            "fillmode": "overlay",
                            "size": 10,
                            "solidity": 0.2
                          }
                        },
                        "type": "histogram"
                      }
                    ],
                    "histogram2d": [
                      {
                        "colorbar": {
                          "outlinewidth": 0,
                          "ticks": ""
                        },
                        "colorscale": [
                          [
                            0,
                            "#0d0887"
                          ],
                          [
                            0.1111111111111111,
                            "#46039f"
                          ],
                          [
                            0.2222222222222222,
                            "#7201a8"
                          ],
                          [
                            0.3333333333333333,
                            "#9c179e"
                          ],
                          [
                            0.4444444444444444,
                            "#bd3786"
                          ],
                          [
                            0.5555555555555556,
                            "#d8576b"
                          ],
                          [
                            0.6666666666666666,
                            "#ed7953"
                          ],
                          [
                            0.7777777777777778,
                            "#fb9f3a"
                          ],
                          [
                            0.8888888888888888,
                            "#fdca26"
                          ],
                          [
                            1,
                            "#f0f921"
                          ]
                        ],
                        "type": "histogram2d"
                      }
                    ],
                    "histogram2dcontour": [
                      {
                        "colorbar": {
                          "outlinewidth": 0,
                          "ticks": ""
                        },
                        "colorscale": [
                          [
                            0,
                            "#0d0887"
                          ],
                          [
                            0.1111111111111111,
                            "#46039f"
                          ],
                          [
                            0.2222222222222222,
                            "#7201a8"
                          ],
                          [
                            0.3333333333333333,
                            "#9c179e"
                          ],
                          [
                            0.4444444444444444,
                            "#bd3786"
                          ],
                          [
                            0.5555555555555556,
                            "#d8576b"
                          ],
                          [
                            0.6666666666666666,
                            "#ed7953"
                          ],
                          [
                            0.7777777777777778,
                            "#fb9f3a"
                          ],
                          [
                            0.8888888888888888,
                            "#fdca26"
                          ],
                          [
                            1,
                            "#f0f921"
                          ]
                        ],
                        "type": "histogram2dcontour"
                      }
                    ],
                    "mesh3d": [
                      {
                        "colorbar": {
                          "outlinewidth": 0,
                          "ticks": ""
                        },
                        "type": "mesh3d"
                      }
                    ],
                    "parcoords": [
                      {
                        "line": {
                          "colorbar": {
                            "outlinewidth": 0,
                            "ticks": ""
                          }
                        },
                        "type": "parcoords"
                      }
                    ],
                    "pie": [
                      {
                        "automargin": true,
                        "type": "pie"
                      }
                    ],
                    "scatter": [
                      {
                        "fillpattern": {
                          "fillmode": "overlay",
                          "size": 10,
                          "solidity": 0.2
                        },
                        "type": "scatter"
                      }
                    ],
                    "scatter3d": [
                      {
                        "line": {
                          "colorbar": {
                            "outlinewidth": 0,
                            "ticks": ""
                          }
                        },
                        "marker": {
                          "colorbar": {
                            "outlinewidth": 0,
                            "ticks": ""
                          }
                        },
                        "type": "scatter3d"
                      }
                    ],
                    "scattercarpet": [
                      {
                        "marker": {
                          "colorbar": {
                            "outlinewidth": 0,
                            "ticks": ""
                          }
                        },
                        "type": "scattercarpet"
                      }
                    ],
                    "scattergeo": [
                      {
                        "marker": {
                          "colorbar": {
                            "outlinewidth": 0,
                            "ticks": ""
                          }
                        },
                        "type": "scattergeo"
                      }
                    ],
                    "scattergl": [
                      {
                        "marker": {
                          "colorbar": {
                            "outlinewidth": 0,
                            "ticks": ""
                          }
                        },
                        "type": "scattergl"
                      }
                    ],
                    "scattermapbox": [
                      {
                        "marker": {
                          "colorbar": {
                            "outlinewidth": 0,
                            "ticks": ""
                          }
                        },
                        "type": "scattermapbox"
                      }
                    ],
                    "scatterpolar": [
                      {
                        "marker": {
                          "colorbar": {
                            "outlinewidth": 0,
                            "ticks": ""
                          }
                        },
                        "type": "scatterpolar"
                      }
                    ],
                    "scatterpolargl": [
                      {
                        "marker": {
                          "colorbar": {
                            "outlinewidth": 0,
                            "ticks": ""
                          }
                        },
                        "type": "scatterpolargl"
                      }
                    ],
                    "scatterternary": [
                      {
                        "marker": {
                          "colorbar": {
                            "outlinewidth": 0,
                            "ticks": ""
                          }
                        },
                        "type": "scatterternary"
                      }
                    ],
                    "surface": [
                      {
                        "colorbar": {
                          "outlinewidth": 0,
                          "ticks": ""
                        },
                        "colorscale": [
                          [
                            0,
                            "#0d0887"
                          ],
                          [
                            0.1111111111111111,
                            "#46039f"
                          ],
                          [
                            0.2222222222222222,
                            "#7201a8"
                          ],
                          [
                            0.3333333333333333,
                            "#9c179e"
                          ],
                          [
                            0.4444444444444444,
                            "#bd3786"
                          ],
                          [
                            0.5555555555555556,
                            "#d8576b"
                          ],
                          [
                            0.6666666666666666,
                            "#ed7953"
                          ],
                          [
                            0.7777777777777778,
                            "#fb9f3a"
                          ],
                          [
                            0.8888888888888888,
                            "#fdca26"
                          ],
                          [
                            1,
                            "#f0f921"
                          ]
                        ],
                        "type": "surface"
                      }
                    ],
                    "table": [
                      {
                        "cells": {
                          "fill": {
                            "color": "#EBF0F8"
                          },
                          "line": {
                            "color": "white"
                          }
                        },
                        "header": {
                          "fill": {
                            "color": "#C8D4E3"
                          },
                          "line": {
                            "color": "white"
                          }
                        },
                        "type": "table"
                      }
                    ]
                  },
                  "layout": {
                    "annotationdefaults": {
                      "arrowcolor": "#2a3f5f",
                      "arrowhead": 0,
                      "arrowwidth": 1
                    },
                    "autotypenumbers": "strict",
                    "coloraxis": {
                      "colorbar": {
                        "outlinewidth": 0,
                        "ticks": ""
                      }
                    },
                    "colorscale": {
                      "diverging": [
                        [
                          0,
                          "#8e0152"
                        ],
                        [
                          0.1,
                          "#c51b7d"
                        ],
                        [
                          0.2,
                          "#de77ae"
                        ],
                        [
                          0.3,
                          "#f1b6da"
                        ],
                        [
                          0.4,
                          "#fde0ef"
                        ],
                        [
                          0.5,
                          "#f7f7f7"
                        ],
                        [
                          0.6,
                          "#e6f5d0"
                        ],
                        [
                          0.7,
                          "#b8e186"
                        ],
                        [
                          0.8,
                          "#7fbc41"
                        ],
                        [
                          0.9,
                          "#4d9221"
                        ],
                        [
                          1,
                          "#276419"
                        ]
                      ],
                      "sequential": [
                        [
                          0,
                          "#0d0887"
                        ],
                        [
                          0.1111111111111111,
                          "#46039f"
                        ],
                        [
                          0.2222222222222222,
                          "#7201a8"
                        ],
                        [
                          0.3333333333333333,
                          "#9c179e"
                        ],
                        [
                          0.4444444444444444,
                          "#bd3786"
                        ],
                        [
                          0.5555555555555556,
                          "#d8576b"
                        ],
                        [
                          0.6666666666666666,
                          "#ed7953"
                        ],
                        [
                          0.7777777777777778,
                          "#fb9f3a"
                        ],
                        [
                          0.8888888888888888,
                          "#fdca26"
                        ],
                        [
                          1,
                          "#f0f921"
                        ]
                      ],
                      "sequentialminus": [
                        [
                          0,
                          "#0d0887"
                        ],
                        [
                          0.1111111111111111,
                          "#46039f"
                        ],
                        [
                          0.2222222222222222,
                          "#7201a8"
                        ],
                        [
                          0.3333333333333333,
                          "#9c179e"
                        ],
                        [
                          0.4444444444444444,
                          "#bd3786"
                        ],
                        [
                          0.5555555555555556,
                          "#d8576b"
                        ],
                        [
                          0.6666666666666666,
                          "#ed7953"
                        ],
                        [
                          0.7777777777777778,
                          "#fb9f3a"
                        ],
                        [
                          0.8888888888888888,
                          "#fdca26"
                        ],
                        [
                          1,
                          "#f0f921"
                        ]
                      ]
                    },
                    "colorway": [
                      "#636efa",
                      "#EF553B",
                      "#00cc96",
                      "#ab63fa",
                      "#FFA15A",
                      "#19d3f3",
                      "#FF6692",
                      "#B6E880",
                      "#FF97FF",
                      "#FECB52"
                    ],
                    "font": {
                      "color": "#2a3f5f"
                    },
                    "geo": {
                      "bgcolor": "white",
                      "lakecolor": "white",
                      "landcolor": "#E5ECF6",
                      "showlakes": true,
                      "showland": true,
                      "subunitcolor": "white"
                    },
                    "hoverlabel": {
                      "align": "left"
                    },
                    "hovermode": "closest",
                    "mapbox": {
                      "style": "light"
                    },
                    "paper_bgcolor": "white",
                    "plot_bgcolor": "#E5ECF6",
                    "polar": {
                      "angularaxis": {
                        "gridcolor": "white",
                        "linecolor": "white",
                        "ticks": ""
                      },
                      "bgcolor": "#E5ECF6",
                      "radialaxis": {
                        "gridcolor": "white",
                        "linecolor": "white",
                        "ticks": ""
                      }
                    },
                    "scene": {
                      "xaxis": {
                        "backgroundcolor": "#E5ECF6",
                        "gridcolor": "white",
                        "gridwidth": 2,
                        "linecolor": "white",
                        "showbackground": true,
                        "ticks": "",
                        "zerolinecolor": "white"
                      },
                      "yaxis": {
                        "backgroundcolor": "#E5ECF6",
                        "gridcolor": "white",
                        "gridwidth": 2,
                        "linecolor": "white",
                        "showbackground": true,
                        "ticks": "",
                        "zerolinecolor": "white"
                      },
                      "zaxis": {
                        "backgroundcolor": "#E5ECF6",
                        "gridcolor": "white",
                        "gridwidth": 2,
                        "linecolor": "white",
                        "showbackground": true,
                        "ticks": "",
                        "zerolinecolor": "white"
                      }
                    },
                    "shapedefaults": {
                      "line": {
                        "color": "#2a3f5f"
                      }
                    },
                    "ternary": {
                      "aaxis": {
                        "gridcolor": "white",
                        "linecolor": "white",
                        "ticks": ""
                      },
                      "baxis": {
                        "gridcolor": "white",
                        "linecolor": "white",
                        "ticks": ""
                      },
                      "bgcolor": "#E5ECF6",
                      "caxis": {
                        "gridcolor": "white",
                        "linecolor": "white",
                        "ticks": ""
                      }
                    },
                    "title": {
                      "x": 0.05
                    },
                    "xaxis": {
                      "automargin": true,
                      "gridcolor": "white",
                      "linecolor": "white",
                      "ticks": "",
                      "title": {
                        "standoff": 15
                      },
                      "zerolinecolor": "white",
                      "zerolinewidth": 2
                    },
                    "yaxis": {
                      "automargin": true,
                      "gridcolor": "white",
                      "linecolor": "white",
                      "ticks": "",
                      "title": {
                        "standoff": 15
                      },
                      "zerolinecolor": "white",
                      "zerolinewidth": 2
                    }
                  }
                },
                "xaxis": {
                  "anchor": "y",
                  "domain": [
                    0,
                    1
                  ],
                  "title": {
                    "text": "averageVolume"
                  }
                },
                "yaxis": {
                  "anchor": "x",
                  "domain": [
                    0,
                    1
                  ],
                  "title": {
                    "text": "probability density"
                  }
                }
              }
            }
          },
          "metadata": {},
          "output_type": "display_data"
        }
      ],
      "source": [
        "import plotly.express  as px\n",
        "\n",
        "px.histogram(df_fundamentals, x=\"averageVolume\", histnorm='probability density')\n"
      ]
    },
    {
      "cell_type": "code",
      "execution_count": 43,
      "metadata": {},
      "outputs": [
        {
          "data": {},
          "metadata": {},
          "output_type": "display_data"
        },
        {
          "data": {
            "application/vnd.holoviews_exec.v0+json": "",
            "text/html": [
              "<div id='p2556'>\n",
              "  <div id=\"a5dd11e1-1104-460c-b1ed-22ee1a9c7911\" data-root-id=\"p2556\" style=\"display: contents;\"></div>\n",
              "</div>\n",
              "<script type=\"application/javascript\">(function(root) {\n",
              "  var docs_json = {\"abc824cf-d714-42ea-998c-5dca49c3adef\":{\"version\":\"3.1.1\",\"title\":\"Bokeh Application\",\"defs\":[{\"type\":\"model\",\"name\":\"ReactiveHTML1\"},{\"type\":\"model\",\"name\":\"FlexBox1\",\"properties\":[{\"name\":\"align_content\",\"kind\":\"Any\",\"default\":\"flex-start\"},{\"name\":\"align_items\",\"kind\":\"Any\",\"default\":\"flex-start\"},{\"name\":\"flex_direction\",\"kind\":\"Any\",\"default\":\"row\"},{\"name\":\"flex_wrap\",\"kind\":\"Any\",\"default\":\"wrap\"},{\"name\":\"justify_content\",\"kind\":\"Any\",\"default\":\"flex-start\"}]},{\"type\":\"model\",\"name\":\"FloatPanel1\",\"properties\":[{\"name\":\"config\",\"kind\":\"Any\",\"default\":{\"type\":\"map\"}},{\"name\":\"contained\",\"kind\":\"Any\",\"default\":true},{\"name\":\"position\",\"kind\":\"Any\",\"default\":\"right-top\"},{\"name\":\"offsetx\",\"kind\":\"Any\",\"default\":null},{\"name\":\"offsety\",\"kind\":\"Any\",\"default\":null},{\"name\":\"theme\",\"kind\":\"Any\",\"default\":\"primary\"},{\"name\":\"status\",\"kind\":\"Any\",\"default\":\"normalized\"}]},{\"type\":\"model\",\"name\":\"GridStack1\",\"properties\":[{\"name\":\"mode\",\"kind\":\"Any\",\"default\":\"warn\"},{\"name\":\"ncols\",\"kind\":\"Any\",\"default\":null},{\"name\":\"nrows\",\"kind\":\"Any\",\"default\":null},{\"name\":\"allow_resize\",\"kind\":\"Any\",\"default\":true},{\"name\":\"allow_drag\",\"kind\":\"Any\",\"default\":true},{\"name\":\"state\",\"kind\":\"Any\",\"default\":[]}]},{\"type\":\"model\",\"name\":\"drag1\",\"properties\":[{\"name\":\"slider_width\",\"kind\":\"Any\",\"default\":5},{\"name\":\"slider_color\",\"kind\":\"Any\",\"default\":\"black\"},{\"name\":\"value\",\"kind\":\"Any\",\"default\":50}]},{\"type\":\"model\",\"name\":\"click1\",\"properties\":[{\"name\":\"terminal_output\",\"kind\":\"Any\",\"default\":\"\"},{\"name\":\"debug_name\",\"kind\":\"Any\",\"default\":\"\"},{\"name\":\"clears\",\"kind\":\"Any\",\"default\":0}]},{\"type\":\"model\",\"name\":\"FastWrapper1\",\"properties\":[{\"name\":\"object\",\"kind\":\"Any\",\"default\":null},{\"name\":\"style\",\"kind\":\"Any\",\"default\":null}]},{\"type\":\"model\",\"name\":\"NotificationAreaBase1\",\"properties\":[{\"name\":\"position\",\"kind\":\"Any\",\"default\":\"bottom-right\"},{\"name\":\"_clear\",\"kind\":\"Any\",\"default\":0}]},{\"type\":\"model\",\"name\":\"NotificationArea1\",\"properties\":[{\"name\":\"notifications\",\"kind\":\"Any\",\"default\":[]},{\"name\":\"position\",\"kind\":\"Any\",\"default\":\"bottom-right\"},{\"name\":\"_clear\",\"kind\":\"Any\",\"default\":0},{\"name\":\"types\",\"kind\":\"Any\",\"default\":[{\"type\":\"map\",\"entries\":[[\"type\",\"warning\"],[\"background\",\"#ffc107\"],[\"icon\",{\"type\":\"map\",\"entries\":[[\"className\",\"fas fa-exclamation-triangle\"],[\"tagName\",\"i\"],[\"color\",\"white\"]]}]]},{\"type\":\"map\",\"entries\":[[\"type\",\"info\"],[\"background\",\"#007bff\"],[\"icon\",{\"type\":\"map\",\"entries\":[[\"className\",\"fas fa-info-circle\"],[\"tagName\",\"i\"],[\"color\",\"white\"]]}]]}]}]},{\"type\":\"model\",\"name\":\"Notification\",\"properties\":[{\"name\":\"background\",\"kind\":\"Any\",\"default\":null},{\"name\":\"duration\",\"kind\":\"Any\",\"default\":3000},{\"name\":\"icon\",\"kind\":\"Any\",\"default\":null},{\"name\":\"message\",\"kind\":\"Any\",\"default\":\"\"},{\"name\":\"notification_type\",\"kind\":\"Any\",\"default\":null},{\"name\":\"_destroyed\",\"kind\":\"Any\",\"default\":false}]},{\"type\":\"model\",\"name\":\"TemplateActions1\",\"properties\":[{\"name\":\"open_modal\",\"kind\":\"Any\",\"default\":0},{\"name\":\"close_modal\",\"kind\":\"Any\",\"default\":0}]},{\"type\":\"model\",\"name\":\"BootstrapTemplateActions1\",\"properties\":[{\"name\":\"open_modal\",\"kind\":\"Any\",\"default\":0},{\"name\":\"close_modal\",\"kind\":\"Any\",\"default\":0}]},{\"type\":\"model\",\"name\":\"MaterialTemplateActions1\",\"properties\":[{\"name\":\"open_modal\",\"kind\":\"Any\",\"default\":0},{\"name\":\"close_modal\",\"kind\":\"Any\",\"default\":0}]}],\"roots\":[{\"type\":\"object\",\"name\":\"Row\",\"id\":\"p2556\",\"attributes\":{\"name\":\"Row05896\",\"tags\":[\"embedded\"],\"stylesheets\":[\"\\n:host(.pn-loading.pn-arc):before, .pn-loading.pn-arc:before {\\n  background-image: url(\\\"data:image/svg+xml;base64,PHN2ZyB4bWxucz0iaHR0cDovL3d3dy53My5vcmcvMjAwMC9zdmciIHN0eWxlPSJtYXJnaW46IGF1dG87IGJhY2tncm91bmQ6IG5vbmU7IGRpc3BsYXk6IGJsb2NrOyBzaGFwZS1yZW5kZXJpbmc6IGF1dG87IiB2aWV3Qm94PSIwIDAgMTAwIDEwMCIgcHJlc2VydmVBc3BlY3RSYXRpbz0ieE1pZFlNaWQiPiAgPGNpcmNsZSBjeD0iNTAiIGN5PSI1MCIgZmlsbD0ibm9uZSIgc3Ryb2tlPSIjYzNjM2MzIiBzdHJva2Utd2lkdGg9IjEwIiByPSIzNSIgc3Ryb2tlLWRhc2hhcnJheT0iMTY0LjkzMzYxNDMxMzQ2NDE1IDU2Ljk3Nzg3MTQzNzgyMTM4Ij4gICAgPGFuaW1hdGVUcmFuc2Zvcm0gYXR0cmlidXRlTmFtZT0idHJhbnNmb3JtIiB0eXBlPSJyb3RhdGUiIHJlcGVhdENvdW50PSJpbmRlZmluaXRlIiBkdXI9IjFzIiB2YWx1ZXM9IjAgNTAgNTA7MzYwIDUwIDUwIiBrZXlUaW1lcz0iMDsxIj48L2FuaW1hdGVUcmFuc2Zvcm0+ICA8L2NpcmNsZT48L3N2Zz4=\\\");\\n  background-size: auto calc(min(50%, 400px));\\n}\",{\"type\":\"object\",\"name\":\"ImportedStyleSheet\",\"id\":\"p2559\",\"attributes\":{\"url\":\"https://cdn.holoviz.org/panel/1.1.0/dist/css/loading.css\"}},{\"type\":\"object\",\"name\":\"ImportedStyleSheet\",\"id\":\"p2754\",\"attributes\":{\"url\":\"https://cdn.holoviz.org/panel/1.1.0/dist/css/listpanel.css\"}},{\"type\":\"object\",\"name\":\"ImportedStyleSheet\",\"id\":\"p2557\",\"attributes\":{\"url\":\"https://cdn.holoviz.org/panel/1.1.0/dist/bundled/theme/default.css\"}},{\"type\":\"object\",\"name\":\"ImportedStyleSheet\",\"id\":\"p2558\",\"attributes\":{\"url\":\"https://cdn.holoviz.org/panel/1.1.0/dist/bundled/theme/native.css\"}}],\"min_width\":0,\"margin\":0,\"sizing_mode\":\"stretch_width\",\"align\":\"start\",\"children\":[{\"type\":\"object\",\"name\":\"Spacer\",\"id\":\"p2560\",\"attributes\":{\"name\":\"HSpacer05907\",\"stylesheets\":[\"\\n:host(.pn-loading.pn-arc):before, .pn-loading.pn-arc:before {\\n  background-image: url(\\\"data:image/svg+xml;base64,PHN2ZyB4bWxucz0iaHR0cDovL3d3dy53My5vcmcvMjAwMC9zdmciIHN0eWxlPSJtYXJnaW46IGF1dG87IGJhY2tncm91bmQ6IG5vbmU7IGRpc3BsYXk6IGJsb2NrOyBzaGFwZS1yZW5kZXJpbmc6IGF1dG87IiB2aWV3Qm94PSIwIDAgMTAwIDEwMCIgcHJlc2VydmVBc3BlY3RSYXRpbz0ieE1pZFlNaWQiPiAgPGNpcmNsZSBjeD0iNTAiIGN5PSI1MCIgZmlsbD0ibm9uZSIgc3Ryb2tlPSIjYzNjM2MzIiBzdHJva2Utd2lkdGg9IjEwIiByPSIzNSIgc3Ryb2tlLWRhc2hhcnJheT0iMTY0LjkzMzYxNDMxMzQ2NDE1IDU2Ljk3Nzg3MTQzNzgyMTM4Ij4gICAgPGFuaW1hdGVUcmFuc2Zvcm0gYXR0cmlidXRlTmFtZT0idHJhbnNmb3JtIiB0eXBlPSJyb3RhdGUiIHJlcGVhdENvdW50PSJpbmRlZmluaXRlIiBkdXI9IjFzIiB2YWx1ZXM9IjAgNTAgNTA7MzYwIDUwIDUwIiBrZXlUaW1lcz0iMDsxIj48L2FuaW1hdGVUcmFuc2Zvcm0+ICA8L2NpcmNsZT48L3N2Zz4=\\\");\\n  background-size: auto calc(min(50%, 400px));\\n}\",{\"id\":\"p2559\"},{\"id\":\"p2557\"},{\"id\":\"p2558\"}],\"margin\":0,\"sizing_mode\":\"stretch_width\",\"align\":\"start\"}},{\"type\":\"object\",\"name\":\"Figure\",\"id\":\"p2563\",\"attributes\":{\"width\":500,\"height\":400,\"margin\":[5,10],\"sizing_mode\":\"fixed\",\"align\":\"start\",\"x_range\":{\"type\":\"object\",\"name\":\"FactorRange\",\"id\":\"p2561\",\"attributes\":{\"tags\":[[[\"Variable\",\"Variable\",null]]],\"factors\":[\"totalRevenue\",\"marketCap\"]}},\"y_range\":{\"type\":\"object\",\"name\":\"Range1d\",\"id\":\"p2562\",\"attributes\":{\"tags\":[[[\"value\",\"value\",null]]],\"start\":-22237413149.600002,\"end\":243511060645.6,\"reset_start\":-22237413149.600002,\"reset_end\":243511060645.6}},\"x_scale\":{\"type\":\"object\",\"name\":\"CategoricalScale\",\"id\":\"p2575\"},\"y_scale\":{\"type\":\"object\",\"name\":\"LinearScale\",\"id\":\"p2577\"},\"title\":{\"type\":\"object\",\"name\":\"Title\",\"id\":\"p2566\",\"attributes\":{\"text_color\":\"black\",\"text_font_size\":\"12pt\"}},\"renderers\":[{\"type\":\"object\",\"name\":\"GlyphRenderer\",\"id\":\"p2614\",\"attributes\":{\"data_source\":{\"type\":\"object\",\"name\":\"ColumnDataSource\",\"id\":\"p2605\",\"attributes\":{\"selected\":{\"type\":\"object\",\"name\":\"Selection\",\"id\":\"p2606\",\"attributes\":{\"indices\":[],\"line_indices\":[]}},\"selection_policy\":{\"type\":\"object\",\"name\":\"UnionRenderers\",\"id\":\"p2607\"},\"data\":{\"type\":\"map\",\"entries\":[[\"index\",[\"totalRevenue\",\"totalRevenue\",\"totalRevenue\",\"totalRevenue\",\"totalRevenue\",\"totalRevenue\",\"totalRevenue\",\"totalRevenue\",\"totalRevenue\",\"totalRevenue\",\"totalRevenue\",\"totalRevenue\",\"totalRevenue\",\"totalRevenue\",\"totalRevenue\",\"totalRevenue\",\"totalRevenue\",\"totalRevenue\",\"totalRevenue\",\"totalRevenue\",\"totalRevenue\",\"totalRevenue\",\"totalRevenue\",\"totalRevenue\",\"totalRevenue\",\"marketCap\",\"marketCap\",\"marketCap\",\"marketCap\",\"marketCap\",\"marketCap\",\"marketCap\",\"marketCap\",\"marketCap\",\"marketCap\",\"marketCap\",\"marketCap\",\"marketCap\",\"marketCap\",\"marketCap\",\"marketCap\",\"marketCap\",\"marketCap\",\"marketCap\"]],[\"value\",{\"type\":\"ndarray\",\"array\":{\"type\":\"bytes\",\"data\":\"AAAAIO2cGEIAAACAPDspQgAAAOAEbxJCAAAAYL95EkIAAABAuGwPQgAAAKDKMBJCAAAA4JHTEUIAAAAgcfAtQgAAAICQRyRCAAAAIJQkFUIAAADgDGwoQgAAACCSJBFCAAAAoNNWEkIAAAAA0+YiQgAAAEDvFxFCAAAAgOrVDEIAAAAAWN8LQgAAACClXgtCAAAAADbIDkIAAADgWf0QQgAAAKBDdBJCAAAAoEJxIkIAAABglV4KQgAAAAB8vRlCAAAAAKZvDUIAAACAX6tDQgAAAKAzxUlCAAAAgCIfPkIAAACgmzoxQgAAAEAFXjFCAAAAIBl9LEIAAABAXtY0QgAAAOC50i5CAAAA4L2GJEIAAABArIAlQgAAAACtSyxCAAAAgOwyJUIAAACg0ltFQgAAACD3xjBCAAAA4KjOIkIAAADAGtcpQgAAAEB9FxlCAAAAYAWQF0IAAAAg7lEgQg==\"},\"shape\":[44],\"dtype\":\"float64\",\"order\":\"little\"}]]}}},\"view\":{\"type\":\"object\",\"name\":\"CDSView\",\"id\":\"p2615\",\"attributes\":{\"filter\":{\"type\":\"object\",\"name\":\"AllIndices\",\"id\":\"p2616\"}}},\"glyph\":{\"type\":\"object\",\"name\":\"Circle\",\"id\":\"p2611\",\"attributes\":{\"x\":{\"type\":\"field\",\"field\":\"index\"},\"y\":{\"type\":\"field\",\"field\":\"value\"},\"fill_color\":{\"type\":\"value\",\"value\":\"black\"}}},\"selection_glyph\":{\"type\":\"object\",\"name\":\"Circle\",\"id\":\"p2617\",\"attributes\":{\"x\":{\"type\":\"field\",\"field\":\"index\"},\"y\":{\"type\":\"field\",\"field\":\"value\"},\"size\":{\"type\":\"value\",\"value\":4},\"angle\":{\"type\":\"value\",\"value\":0.0},\"line_color\":{\"type\":\"value\",\"value\":\"black\"},\"line_alpha\":{\"type\":\"value\",\"value\":1.0},\"line_width\":{\"type\":\"value\",\"value\":1},\"line_join\":{\"type\":\"value\",\"value\":\"bevel\"},\"line_cap\":{\"type\":\"value\",\"value\":\"butt\"},\"line_dash\":{\"type\":\"value\",\"value\":[]},\"line_dash_offset\":{\"type\":\"value\",\"value\":0},\"fill_color\":{\"type\":\"value\",\"value\":\"black\"},\"fill_alpha\":{\"type\":\"value\",\"value\":1.0},\"hatch_color\":{\"type\":\"value\",\"value\":\"black\"},\"hatch_alpha\":{\"type\":\"value\",\"value\":1.0},\"hatch_scale\":{\"type\":\"value\",\"value\":12.0},\"hatch_pattern\":{\"type\":\"value\",\"value\":null},\"hatch_weight\":{\"type\":\"value\",\"value\":1.0},\"radius\":{\"type\":\"value\",\"value\":null}}},\"nonselection_glyph\":{\"type\":\"object\",\"name\":\"Circle\",\"id\":\"p2612\",\"attributes\":{\"x\":{\"type\":\"field\",\"field\":\"index\"},\"y\":{\"type\":\"field\",\"field\":\"value\"},\"line_alpha\":{\"type\":\"value\",\"value\":0.1},\"fill_color\":{\"type\":\"value\",\"value\":\"black\"},\"fill_alpha\":{\"type\":\"value\",\"value\":0.1},\"hatch_alpha\":{\"type\":\"value\",\"value\":0.1}}},\"muted_glyph\":{\"type\":\"object\",\"name\":\"Circle\",\"id\":\"p2613\",\"attributes\":{\"x\":{\"type\":\"field\",\"field\":\"index\"},\"y\":{\"type\":\"field\",\"field\":\"value\"},\"line_alpha\":{\"type\":\"value\",\"value\":0.2},\"fill_color\":{\"type\":\"value\",\"value\":\"black\"},\"fill_alpha\":{\"type\":\"value\",\"value\":0.2},\"hatch_alpha\":{\"type\":\"value\",\"value\":0.2}}}}},{\"type\":\"object\",\"name\":\"GlyphRenderer\",\"id\":\"p2627\",\"attributes\":{\"data_source\":{\"type\":\"object\",\"name\":\"ColumnDataSource\",\"id\":\"p2618\",\"attributes\":{\"selected\":{\"type\":\"object\",\"name\":\"Selection\",\"id\":\"p2619\",\"attributes\":{\"indices\":[],\"line_indices\":[]}},\"selection_policy\":{\"type\":\"object\",\"name\":\"UnionRenderers\",\"id\":\"p2620\"},\"data\":{\"type\":\"map\",\"entries\":[[\"x0\",[\"totalRevenue\",\"marketCap\"]],[\"y0\",{\"type\":\"ndarray\",\"array\":{\"type\":\"bytes\",\"data\":\"AAAA4LPKCEIAAABABHsVQg==\"},\"shape\":[2],\"dtype\":\"float64\",\"order\":\"little\"}],[\"x1\",[\"totalRevenue\",\"marketCap\"]],[\"y1\",{\"type\":\"ndarray\",\"array\":{\"type\":\"bytes\",\"data\":\"AAAAgFeg9UEAAAAgJtUDQg==\"},\"shape\":[2],\"dtype\":\"float64\",\"order\":\"little\"}]]}}},\"view\":{\"type\":\"object\",\"name\":\"CDSView\",\"id\":\"p2628\",\"attributes\":{\"filter\":{\"type\":\"object\",\"name\":\"AllIndices\",\"id\":\"p2629\"}}},\"glyph\":{\"type\":\"object\",\"name\":\"Segment\",\"id\":\"p2624\",\"attributes\":{\"x0\":{\"type\":\"field\",\"field\":\"x0\"},\"y0\":{\"type\":\"field\",\"field\":\"y0\"},\"x1\":{\"type\":\"field\",\"field\":\"x1\"},\"y1\":{\"type\":\"field\",\"field\":\"y1\"}}},\"selection_glyph\":{\"type\":\"object\",\"name\":\"Segment\",\"id\":\"p2630\",\"attributes\":{\"x0\":{\"type\":\"field\",\"field\":\"x0\"},\"y0\":{\"type\":\"field\",\"field\":\"y0\"},\"x1\":{\"type\":\"field\",\"field\":\"x1\"},\"y1\":{\"type\":\"field\",\"field\":\"y1\"},\"line_color\":{\"type\":\"value\",\"value\":\"black\"},\"line_alpha\":{\"type\":\"value\",\"value\":1.0},\"line_width\":{\"type\":\"value\",\"value\":1},\"line_join\":{\"type\":\"value\",\"value\":\"bevel\"},\"line_cap\":{\"type\":\"value\",\"value\":\"butt\"},\"line_dash\":{\"type\":\"value\",\"value\":[]},\"line_dash_offset\":{\"type\":\"value\",\"value\":0}}},\"nonselection_glyph\":{\"type\":\"object\",\"name\":\"Segment\",\"id\":\"p2625\",\"attributes\":{\"x0\":{\"type\":\"field\",\"field\":\"x0\"},\"y0\":{\"type\":\"field\",\"field\":\"y0\"},\"x1\":{\"type\":\"field\",\"field\":\"x1\"},\"y1\":{\"type\":\"field\",\"field\":\"y1\"},\"line_alpha\":{\"type\":\"value\",\"value\":0.1}}},\"muted_glyph\":{\"type\":\"object\",\"name\":\"Segment\",\"id\":\"p2626\",\"attributes\":{\"x0\":{\"type\":\"field\",\"field\":\"x0\"},\"y0\":{\"type\":\"field\",\"field\":\"y0\"},\"x1\":{\"type\":\"field\",\"field\":\"x1\"},\"y1\":{\"type\":\"field\",\"field\":\"y1\"},\"line_alpha\":{\"type\":\"value\",\"value\":0.2}}}}},{\"type\":\"object\",\"name\":\"GlyphRenderer\",\"id\":\"p2640\",\"attributes\":{\"data_source\":{\"type\":\"object\",\"name\":\"ColumnDataSource\",\"id\":\"p2631\",\"attributes\":{\"selected\":{\"type\":\"object\",\"name\":\"Selection\",\"id\":\"p2632\",\"attributes\":{\"indices\":[],\"line_indices\":[]}},\"selection_policy\":{\"type\":\"object\",\"name\":\"UnionRenderers\",\"id\":\"p2633\"},\"data\":{\"type\":\"map\",\"entries\":[[\"x0\",[\"totalRevenue\",\"marketCap\"]],[\"y0\",{\"type\":\"ndarray\",\"array\":{\"type\":\"bytes\",\"data\":\"AAAA4FndlcEAAABg3mWXQQ==\"},\"shape\":[2],\"dtype\":\"float64\",\"order\":\"little\"}],[\"x1\",[\"totalRevenue\",\"marketCap\"]],[\"y1\",{\"type\":\"ndarray\",\"array\":{\"type\":\"bytes\",\"data\":\"AAAAkL+swkEAAAAQgUbcQQ==\"},\"shape\":[2],\"dtype\":\"float64\",\"order\":\"little\"}]]}}},\"view\":{\"type\":\"object\",\"name\":\"CDSView\",\"id\":\"p2641\",\"attributes\":{\"filter\":{\"type\":\"object\",\"name\":\"AllIndices\",\"id\":\"p2642\"}}},\"glyph\":{\"type\":\"object\",\"name\":\"Segment\",\"id\":\"p2637\",\"attributes\":{\"x0\":{\"type\":\"field\",\"field\":\"x0\"},\"y0\":{\"type\":\"field\",\"field\":\"y0\"},\"x1\":{\"type\":\"field\",\"field\":\"x1\"},\"y1\":{\"type\":\"field\",\"field\":\"y1\"}}},\"selection_glyph\":{\"type\":\"object\",\"name\":\"Segment\",\"id\":\"p2643\",\"attributes\":{\"x0\":{\"type\":\"field\",\"field\":\"x0\"},\"y0\":{\"type\":\"field\",\"field\":\"y0\"},\"x1\":{\"type\":\"field\",\"field\":\"x1\"},\"y1\":{\"type\":\"field\",\"field\":\"y1\"},\"line_color\":{\"type\":\"value\",\"value\":\"black\"},\"line_alpha\":{\"type\":\"value\",\"value\":1.0},\"line_width\":{\"type\":\"value\",\"value\":1},\"line_join\":{\"type\":\"value\",\"value\":\"bevel\"},\"line_cap\":{\"type\":\"value\",\"value\":\"butt\"},\"line_dash\":{\"type\":\"value\",\"value\":[]},\"line_dash_offset\":{\"type\":\"value\",\"value\":0}}},\"nonselection_glyph\":{\"type\":\"object\",\"name\":\"Segment\",\"id\":\"p2638\",\"attributes\":{\"x0\":{\"type\":\"field\",\"field\":\"x0\"},\"y0\":{\"type\":\"field\",\"field\":\"y0\"},\"x1\":{\"type\":\"field\",\"field\":\"x1\"},\"y1\":{\"type\":\"field\",\"field\":\"y1\"},\"line_alpha\":{\"type\":\"value\",\"value\":0.1}}},\"muted_glyph\":{\"type\":\"object\",\"name\":\"Segment\",\"id\":\"p2639\",\"attributes\":{\"x0\":{\"type\":\"field\",\"field\":\"x0\"},\"y0\":{\"type\":\"field\",\"field\":\"y0\"},\"x1\":{\"type\":\"field\",\"field\":\"x1\"},\"y1\":{\"type\":\"field\",\"field\":\"y1\"},\"line_alpha\":{\"type\":\"value\",\"value\":0.2}}}}},{\"type\":\"object\",\"name\":\"GlyphRenderer\",\"id\":\"p2653\",\"attributes\":{\"data_source\":{\"type\":\"object\",\"name\":\"ColumnDataSource\",\"id\":\"p2644\",\"attributes\":{\"selected\":{\"type\":\"object\",\"name\":\"Selection\",\"id\":\"p2645\",\"attributes\":{\"indices\":[],\"line_indices\":[]}},\"selection_policy\":{\"type\":\"object\",\"name\":\"UnionRenderers\",\"id\":\"p2646\"},\"data\":{\"type\":\"map\",\"entries\":[[\"x0\",[[\"totalRevenue\",-0.2],[\"marketCap\",-0.2]]],[\"y0\",[-91707000.0,98138008.0]],[\"x1\",[[\"totalRevenue\",0.2],[\"marketCap\",0.2]]],[\"y1\",[-91707000.0,98138008.0]]]}}},\"view\":{\"type\":\"object\",\"name\":\"CDSView\",\"id\":\"p2654\",\"attributes\":{\"filter\":{\"type\":\"object\",\"name\":\"AllIndices\",\"id\":\"p2655\"}}},\"glyph\":{\"type\":\"object\",\"name\":\"Segment\",\"id\":\"p2650\",\"attributes\":{\"x0\":{\"type\":\"field\",\"field\":\"x0\"},\"y0\":{\"type\":\"field\",\"field\":\"y0\"},\"x1\":{\"type\":\"field\",\"field\":\"x1\"},\"y1\":{\"type\":\"field\",\"field\":\"y1\"}}},\"selection_glyph\":{\"type\":\"object\",\"name\":\"Segment\",\"id\":\"p2656\",\"attributes\":{\"x0\":{\"type\":\"field\",\"field\":\"x0\"},\"y0\":{\"type\":\"field\",\"field\":\"y0\"},\"x1\":{\"type\":\"field\",\"field\":\"x1\"},\"y1\":{\"type\":\"field\",\"field\":\"y1\"},\"line_color\":{\"type\":\"value\",\"value\":\"black\"},\"line_alpha\":{\"type\":\"value\",\"value\":1.0},\"line_width\":{\"type\":\"value\",\"value\":1},\"line_join\":{\"type\":\"value\",\"value\":\"bevel\"},\"line_cap\":{\"type\":\"value\",\"value\":\"butt\"},\"line_dash\":{\"type\":\"value\",\"value\":[]},\"line_dash_offset\":{\"type\":\"value\",\"value\":0}}},\"nonselection_glyph\":{\"type\":\"object\",\"name\":\"Segment\",\"id\":\"p2651\",\"attributes\":{\"x0\":{\"type\":\"field\",\"field\":\"x0\"},\"y0\":{\"type\":\"field\",\"field\":\"y0\"},\"x1\":{\"type\":\"field\",\"field\":\"x1\"},\"y1\":{\"type\":\"field\",\"field\":\"y1\"},\"line_alpha\":{\"type\":\"value\",\"value\":0.1}}},\"muted_glyph\":{\"type\":\"object\",\"name\":\"Segment\",\"id\":\"p2652\",\"attributes\":{\"x0\":{\"type\":\"field\",\"field\":\"x0\"},\"y0\":{\"type\":\"field\",\"field\":\"y0\"},\"x1\":{\"type\":\"field\",\"field\":\"x1\"},\"y1\":{\"type\":\"field\",\"field\":\"y1\"},\"line_alpha\":{\"type\":\"value\",\"value\":0.2}}}}},{\"type\":\"object\",\"name\":\"GlyphRenderer\",\"id\":\"p2666\",\"attributes\":{\"data_source\":{\"type\":\"object\",\"name\":\"ColumnDataSource\",\"id\":\"p2657\",\"attributes\":{\"selected\":{\"type\":\"object\",\"name\":\"Selection\",\"id\":\"p2658\",\"attributes\":{\"indices\":[],\"line_indices\":[]}},\"selection_policy\":{\"type\":\"object\",\"name\":\"UnionRenderers\",\"id\":\"p2659\"},\"data\":{\"type\":\"map\",\"entries\":[[\"x0\",[[\"totalRevenue\",-0.2],[\"marketCap\",-0.2]]],[\"y0\",[13310000128.0,23064547328.0]],[\"x1\",[[\"totalRevenue\",0.2],[\"marketCap\",0.2]]],[\"y1\",[13310000128.0,23064547328.0]]]}}},\"view\":{\"type\":\"object\",\"name\":\"CDSView\",\"id\":\"p2667\",\"attributes\":{\"filter\":{\"type\":\"object\",\"name\":\"AllIndices\",\"id\":\"p2668\"}}},\"glyph\":{\"type\":\"object\",\"name\":\"Segment\",\"id\":\"p2663\",\"attributes\":{\"x0\":{\"type\":\"field\",\"field\":\"x0\"},\"y0\":{\"type\":\"field\",\"field\":\"y0\"},\"x1\":{\"type\":\"field\",\"field\":\"x1\"},\"y1\":{\"type\":\"field\",\"field\":\"y1\"}}},\"selection_glyph\":{\"type\":\"object\",\"name\":\"Segment\",\"id\":\"p2669\",\"attributes\":{\"x0\":{\"type\":\"field\",\"field\":\"x0\"},\"y0\":{\"type\":\"field\",\"field\":\"y0\"},\"x1\":{\"type\":\"field\",\"field\":\"x1\"},\"y1\":{\"type\":\"field\",\"field\":\"y1\"},\"line_color\":{\"type\":\"value\",\"value\":\"black\"},\"line_alpha\":{\"type\":\"value\",\"value\":1.0},\"line_width\":{\"type\":\"value\",\"value\":1},\"line_join\":{\"type\":\"value\",\"value\":\"bevel\"},\"line_cap\":{\"type\":\"value\",\"value\":\"butt\"},\"line_dash\":{\"type\":\"value\",\"value\":[]},\"line_dash_offset\":{\"type\":\"value\",\"value\":0}}},\"nonselection_glyph\":{\"type\":\"object\",\"name\":\"Segment\",\"id\":\"p2664\",\"attributes\":{\"x0\":{\"type\":\"field\",\"field\":\"x0\"},\"y0\":{\"type\":\"field\",\"field\":\"y0\"},\"x1\":{\"type\":\"field\",\"field\":\"x1\"},\"y1\":{\"type\":\"field\",\"field\":\"y1\"},\"line_alpha\":{\"type\":\"value\",\"value\":0.1}}},\"muted_glyph\":{\"type\":\"object\",\"name\":\"Segment\",\"id\":\"p2665\",\"attributes\":{\"x0\":{\"type\":\"field\",\"field\":\"x0\"},\"y0\":{\"type\":\"field\",\"field\":\"y0\"},\"x1\":{\"type\":\"field\",\"field\":\"x1\"},\"y1\":{\"type\":\"field\",\"field\":\"y1\"},\"line_alpha\":{\"type\":\"value\",\"value\":0.2}}}}},{\"type\":\"object\",\"name\":\"GlyphRenderer\",\"id\":\"p2679\",\"attributes\":{\"data_source\":{\"type\":\"object\",\"name\":\"ColumnDataSource\",\"id\":\"p2670\",\"attributes\":{\"selected\":{\"type\":\"object\",\"name\":\"Selection\",\"id\":\"p2671\",\"attributes\":{\"indices\":[],\"line_indices\":[]}},\"selection_policy\":{\"type\":\"object\",\"name\":\"UnionRenderers\",\"id\":\"p2672\"},\"data\":{\"type\":\"map\",\"entries\":[[\"index\",[\"totalRevenue\",\"marketCap\"]],[\"top\",{\"type\":\"ndarray\",\"array\":{\"type\":\"bytes\",\"data\":\"AAAAADBs20EAAACAE6ruQQ==\"},\"shape\":[2],\"dtype\":\"float64\",\"order\":\"little\"}],[\"bottom\",{\"type\":\"ndarray\",\"array\":{\"type\":\"bytes\",\"data\":\"AAAAgFeg9UEAAAAgJtUDQg==\"},\"shape\":[2],\"dtype\":\"float64\",\"order\":\"little\"}]]}}},\"view\":{\"type\":\"object\",\"name\":\"CDSView\",\"id\":\"p2680\",\"attributes\":{\"filter\":{\"type\":\"object\",\"name\":\"AllIndices\",\"id\":\"p2681\"}}},\"glyph\":{\"type\":\"object\",\"name\":\"VBar\",\"id\":\"p2676\",\"attributes\":{\"x\":{\"type\":\"field\",\"field\":\"index\"},\"width\":{\"type\":\"value\",\"value\":0.7},\"bottom\":{\"type\":\"field\",\"field\":\"bottom\"},\"top\":{\"type\":\"field\",\"field\":\"top\"},\"fill_color\":{\"type\":\"value\",\"value\":\"#30a2da\"}}},\"selection_glyph\":{\"type\":\"object\",\"name\":\"VBar\",\"id\":\"p2684\",\"attributes\":{\"x\":{\"type\":\"field\",\"field\":\"index\"},\"width\":{\"type\":\"value\",\"value\":0.7},\"bottom\":{\"type\":\"field\",\"field\":\"bottom\"},\"top\":{\"type\":\"field\",\"field\":\"top\"},\"line_color\":{\"type\":\"value\",\"value\":\"black\"},\"line_alpha\":{\"type\":\"value\",\"value\":1.0},\"line_width\":{\"type\":\"value\",\"value\":1},\"line_join\":{\"type\":\"value\",\"value\":\"bevel\"},\"line_cap\":{\"type\":\"value\",\"value\":\"butt\"},\"line_dash\":{\"type\":\"value\",\"value\":[]},\"line_dash_offset\":{\"type\":\"value\",\"value\":0},\"fill_color\":{\"type\":\"value\",\"value\":\"#30a2da\"},\"fill_alpha\":{\"type\":\"value\",\"value\":1.0},\"hatch_color\":{\"type\":\"value\",\"value\":\"black\"},\"hatch_alpha\":{\"type\":\"value\",\"value\":1.0},\"hatch_scale\":{\"type\":\"value\",\"value\":12.0},\"hatch_pattern\":{\"type\":\"value\",\"value\":null},\"hatch_weight\":{\"type\":\"value\",\"value\":1.0}}},\"nonselection_glyph\":{\"type\":\"object\",\"name\":\"VBar\",\"id\":\"p2677\",\"attributes\":{\"x\":{\"type\":\"field\",\"field\":\"index\"},\"width\":{\"type\":\"value\",\"value\":0.7},\"bottom\":{\"type\":\"field\",\"field\":\"bottom\"},\"top\":{\"type\":\"field\",\"field\":\"top\"},\"line_alpha\":{\"type\":\"value\",\"value\":0.1},\"fill_color\":{\"type\":\"value\",\"value\":\"#30a2da\"},\"fill_alpha\":{\"type\":\"value\",\"value\":0.1},\"hatch_alpha\":{\"type\":\"value\",\"value\":0.1}}},\"muted_glyph\":{\"type\":\"object\",\"name\":\"VBar\",\"id\":\"p2678\",\"attributes\":{\"x\":{\"type\":\"field\",\"field\":\"index\"},\"width\":{\"type\":\"value\",\"value\":0.7},\"bottom\":{\"type\":\"field\",\"field\":\"bottom\"},\"top\":{\"type\":\"field\",\"field\":\"top\"},\"line_alpha\":{\"type\":\"value\",\"value\":0.2},\"fill_color\":{\"type\":\"value\",\"value\":\"#30a2da\"},\"fill_alpha\":{\"type\":\"value\",\"value\":0.2},\"hatch_alpha\":{\"type\":\"value\",\"value\":0.2}}}}},{\"type\":\"object\",\"name\":\"GlyphRenderer\",\"id\":\"p2694\",\"attributes\":{\"data_source\":{\"type\":\"object\",\"name\":\"ColumnDataSource\",\"id\":\"p2685\",\"attributes\":{\"selected\":{\"type\":\"object\",\"name\":\"Selection\",\"id\":\"p2686\",\"attributes\":{\"indices\":[],\"line_indices\":[]}},\"selection_policy\":{\"type\":\"object\",\"name\":\"UnionRenderers\",\"id\":\"p2687\"},\"data\":{\"type\":\"map\",\"entries\":[[\"index\",[\"totalRevenue\",\"marketCap\"]],[\"top\",{\"type\":\"ndarray\",\"array\":{\"type\":\"bytes\",\"data\":\"AAAAkL+swkEAAAAQgUbcQQ==\"},\"shape\":[2],\"dtype\":\"float64\",\"order\":\"little\"}],[\"bottom\",{\"type\":\"ndarray\",\"array\":{\"type\":\"bytes\",\"data\":\"AAAAADBs20EAAACAE6ruQQ==\"},\"shape\":[2],\"dtype\":\"float64\",\"order\":\"little\"}]]}}},\"view\":{\"type\":\"object\",\"name\":\"CDSView\",\"id\":\"p2695\",\"attributes\":{\"filter\":{\"type\":\"object\",\"name\":\"AllIndices\",\"id\":\"p2696\"}}},\"glyph\":{\"type\":\"object\",\"name\":\"VBar\",\"id\":\"p2691\",\"attributes\":{\"x\":{\"type\":\"field\",\"field\":\"index\"},\"width\":{\"type\":\"value\",\"value\":0.7},\"bottom\":{\"type\":\"field\",\"field\":\"bottom\"},\"top\":{\"type\":\"field\",\"field\":\"top\"},\"fill_color\":{\"type\":\"value\",\"value\":\"#30a2da\"}}},\"selection_glyph\":{\"type\":\"object\",\"name\":\"VBar\",\"id\":\"p2697\",\"attributes\":{\"x\":{\"type\":\"field\",\"field\":\"index\"},\"width\":{\"type\":\"value\",\"value\":0.7},\"bottom\":{\"type\":\"field\",\"field\":\"bottom\"},\"top\":{\"type\":\"field\",\"field\":\"top\"},\"line_color\":{\"type\":\"value\",\"value\":\"black\"},\"line_alpha\":{\"type\":\"value\",\"value\":1.0},\"line_width\":{\"type\":\"value\",\"value\":1},\"line_join\":{\"type\":\"value\",\"value\":\"bevel\"},\"line_cap\":{\"type\":\"value\",\"value\":\"butt\"},\"line_dash\":{\"type\":\"value\",\"value\":[]},\"line_dash_offset\":{\"type\":\"value\",\"value\":0},\"fill_color\":{\"type\":\"value\",\"value\":\"#30a2da\"},\"fill_alpha\":{\"type\":\"value\",\"value\":1.0},\"hatch_color\":{\"type\":\"value\",\"value\":\"black\"},\"hatch_alpha\":{\"type\":\"value\",\"value\":1.0},\"hatch_scale\":{\"type\":\"value\",\"value\":12.0},\"hatch_pattern\":{\"type\":\"value\",\"value\":null},\"hatch_weight\":{\"type\":\"value\",\"value\":1.0}}},\"nonselection_glyph\":{\"type\":\"object\",\"name\":\"VBar\",\"id\":\"p2692\",\"attributes\":{\"x\":{\"type\":\"field\",\"field\":\"index\"},\"width\":{\"type\":\"value\",\"value\":0.7},\"bottom\":{\"type\":\"field\",\"field\":\"bottom\"},\"top\":{\"type\":\"field\",\"field\":\"top\"},\"line_alpha\":{\"type\":\"value\",\"value\":0.1},\"fill_color\":{\"type\":\"value\",\"value\":\"#30a2da\"},\"fill_alpha\":{\"type\":\"value\",\"value\":0.1},\"hatch_alpha\":{\"type\":\"value\",\"value\":0.1}}},\"muted_glyph\":{\"type\":\"object\",\"name\":\"VBar\",\"id\":\"p2693\",\"attributes\":{\"x\":{\"type\":\"field\",\"field\":\"index\"},\"width\":{\"type\":\"value\",\"value\":0.7},\"bottom\":{\"type\":\"field\",\"field\":\"bottom\"},\"top\":{\"type\":\"field\",\"field\":\"top\"},\"line_alpha\":{\"type\":\"value\",\"value\":0.2},\"fill_color\":{\"type\":\"value\",\"value\":\"#30a2da\"},\"fill_alpha\":{\"type\":\"value\",\"value\":0.2},\"hatch_alpha\":{\"type\":\"value\",\"value\":0.2}}}}}],\"toolbar\":{\"type\":\"object\",\"name\":\"Toolbar\",\"id\":\"p2568\",\"attributes\":{\"tools\":[{\"type\":\"object\",\"name\":\"SaveTool\",\"id\":\"p2592\"},{\"type\":\"object\",\"name\":\"PanTool\",\"id\":\"p2593\"},{\"type\":\"object\",\"name\":\"WheelZoomTool\",\"id\":\"p2594\"},{\"type\":\"object\",\"name\":\"BoxZoomTool\",\"id\":\"p2595\",\"attributes\":{\"overlay\":{\"type\":\"object\",\"name\":\"BoxAnnotation\",\"id\":\"p2596\",\"attributes\":{\"syncable\":false,\"level\":\"overlay\",\"visible\":false,\"left_units\":\"canvas\",\"right_units\":\"canvas\",\"bottom_units\":\"canvas\",\"top_units\":\"canvas\",\"line_color\":\"black\",\"line_alpha\":1.0,\"line_width\":2,\"line_dash\":[4,4],\"fill_color\":\"lightgrey\",\"fill_alpha\":0.5}}}},{\"type\":\"object\",\"name\":\"ResetTool\",\"id\":\"p2597\"}],\"active_drag\":{\"id\":\"p2593\"},\"active_scroll\":{\"id\":\"p2594\"}}},\"left\":[{\"type\":\"object\",\"name\":\"LinearAxis\",\"id\":\"p2585\",\"attributes\":{\"ticker\":{\"type\":\"object\",\"name\":\"BasicTicker\",\"id\":\"p2588\",\"attributes\":{\"mantissas\":[1,2,5]}},\"formatter\":{\"type\":\"object\",\"name\":\"BasicTickFormatter\",\"id\":\"p2586\"},\"axis_label\":\"\",\"major_label_policy\":{\"type\":\"object\",\"name\":\"AllLabels\",\"id\":\"p2587\"}}}],\"below\":[{\"type\":\"object\",\"name\":\"CategoricalAxis\",\"id\":\"p2579\",\"attributes\":{\"ticker\":{\"type\":\"object\",\"name\":\"CategoricalTicker\",\"id\":\"p2582\"},\"formatter\":{\"type\":\"object\",\"name\":\"CategoricalTickFormatter\",\"id\":\"p2580\"},\"axis_label\":\"Variable\",\"major_label_policy\":{\"type\":\"object\",\"name\":\"AllLabels\",\"id\":\"p2581\"}}}],\"center\":[{\"type\":\"object\",\"name\":\"Grid\",\"id\":\"p2584\",\"attributes\":{\"axis\":{\"id\":\"p2579\"},\"grid_line_color\":null}},{\"type\":\"object\",\"name\":\"Grid\",\"id\":\"p2591\",\"attributes\":{\"dimension\":1,\"axis\":{\"id\":\"p2585\"},\"grid_line_color\":null}},{\"type\":\"object\",\"name\":\"Legend\",\"id\":\"p2682\",\"attributes\":{\"items\":[]}}],\"min_border_top\":10,\"min_border_bottom\":10,\"min_border_left\":10,\"min_border_right\":10,\"output_backend\":\"webgl\"}},{\"type\":\"object\",\"name\":\"Spacer\",\"id\":\"p2752\",\"attributes\":{\"name\":\"HSpacer05910\",\"stylesheets\":[\"\\n:host(.pn-loading.pn-arc):before, .pn-loading.pn-arc:before {\\n  background-image: url(\\\"data:image/svg+xml;base64,PHN2ZyB4bWxucz0iaHR0cDovL3d3dy53My5vcmcvMjAwMC9zdmciIHN0eWxlPSJtYXJnaW46IGF1dG87IGJhY2tncm91bmQ6IG5vbmU7IGRpc3BsYXk6IGJsb2NrOyBzaGFwZS1yZW5kZXJpbmc6IGF1dG87IiB2aWV3Qm94PSIwIDAgMTAwIDEwMCIgcHJlc2VydmVBc3BlY3RSYXRpbz0ieE1pZFlNaWQiPiAgPGNpcmNsZSBjeD0iNTAiIGN5PSI1MCIgZmlsbD0ibm9uZSIgc3Ryb2tlPSIjYzNjM2MzIiBzdHJva2Utd2lkdGg9IjEwIiByPSIzNSIgc3Ryb2tlLWRhc2hhcnJheT0iMTY0LjkzMzYxNDMxMzQ2NDE1IDU2Ljk3Nzg3MTQzNzgyMTM4Ij4gICAgPGFuaW1hdGVUcmFuc2Zvcm0gYXR0cmlidXRlTmFtZT0idHJhbnNmb3JtIiB0eXBlPSJyb3RhdGUiIHJlcGVhdENvdW50PSJpbmRlZmluaXRlIiBkdXI9IjFzIiB2YWx1ZXM9IjAgNTAgNTA7MzYwIDUwIDUwIiBrZXlUaW1lcz0iMDsxIj48L2FuaW1hdGVUcmFuc2Zvcm0+ICA8L2NpcmNsZT48L3N2Zz4=\\\");\\n  background-size: auto calc(min(50%, 400px));\\n}\",{\"id\":\"p2559\"},{\"id\":\"p2557\"},{\"id\":\"p2558\"}],\"margin\":0,\"sizing_mode\":\"stretch_width\",\"align\":\"start\"}}]}}],\"callbacks\":{\"type\":\"map\"}}};\n",
              "  var render_items = [{\"docid\":\"abc824cf-d714-42ea-998c-5dca49c3adef\",\"roots\":{\"p2556\":\"a5dd11e1-1104-460c-b1ed-22ee1a9c7911\"},\"root_ids\":[\"p2556\"]}];\n",
              "  var docs = Object.values(docs_json)\n",
              "  if (!docs) {\n",
              "    return\n",
              "  }\n",
              "  const py_version = docs[0].version.replace('rc', '-rc.')\n",
              "  const is_dev = py_version.indexOf(\"+\") !== -1 || py_version.indexOf(\"-\") !== -1\n",
              "  function embed_document(root) {\n",
              "    var Bokeh = get_bokeh(root)\n",
              "    Bokeh.embed.embed_items_notebook(docs_json, render_items);\n",
              "    for (const render_item of render_items) {\n",
              "      for (const root_id of render_item.root_ids) {\n",
              "\tconst id_el = document.getElementById(root_id)\n",
              "\tif (id_el.children.length && (id_el.children[0].className === 'bk-root')) {\n",
              "\t  const root_el = id_el.children[0]\n",
              "\t  root_el.id = root_el.id + '-rendered'\n",
              "\t}\n",
              "      }\n",
              "    }\n",
              "  }\n",
              "  function get_bokeh(root) {\n",
              "    if (root.Bokeh === undefined) {\n",
              "      return null\n",
              "    } else if (root.Bokeh.version !== py_version && !is_dev) {\n",
              "      if (root.Bokeh.versions === undefined || !root.Bokeh.versions.has(py_version)) {\n",
              "\treturn null\n",
              "      }\n",
              "      return root.Bokeh.versions.get(py_version);\n",
              "    } else if (root.Bokeh.version === py_version) {\n",
              "      return root.Bokeh\n",
              "    }\n",
              "    return null\n",
              "  }\n",
              "  function is_loaded(root) {\n",
              "    var Bokeh = get_bokeh(root)\n",
              "    return (Bokeh != null && Bokeh.Panel !== undefined)\n",
              "  }\n",
              "  if (is_loaded(root)) {\n",
              "    embed_document(root);\n",
              "  } else {\n",
              "    var attempts = 0;\n",
              "    var timer = setInterval(function(root) {\n",
              "      if (is_loaded(root)) {\n",
              "        clearInterval(timer);\n",
              "        embed_document(root);\n",
              "      } else if (document.readyState == \"complete\") {\n",
              "        attempts++;\n",
              "        if (attempts > 200) {\n",
              "          clearInterval(timer);\n",
              "\t  var Bokeh = get_bokeh(root)\n",
              "\t  if (Bokeh == null || Bokeh.Panel == null) {\n",
              "            console.warn(\"Panel: ERROR: Unable to run Panel code because Bokeh or Panel library is missing\");\n",
              "\t  } else {\n",
              "\t    console.warn(\"Panel: WARNING: Attempting to render but not all required libraries could be resolved.\")\n",
              "\t    embed_document(root)\n",
              "\t  }\n",
              "        }\n",
              "      }\n",
              "    }, 25, root)\n",
              "  }\n",
              "})(window);</script>"
            ],
            "text/plain": [
              ":BoxWhisker   [Variable]   (value)"
            ]
          },
          "execution_count": 43,
          "metadata": {
            "application/vnd.holoviews_exec.v0+json": {
              "id": "p2556"
            }
          },
          "output_type": "execute_result"
        }
      ],
      "source": [
        "box_plot = df_fundamentals.hvplot.box(y=['totalRevenue', 'marketCap'], width=500, height=400) #by='totalRevenue', \n",
        "box_plot"
      ]
    },
    {
      "cell_type": "markdown",
      "metadata": {},
      "source": [
        "## New plan - Draw a spider web (radar-chart)\n",
        "\n",
        "y-axis = list_of_keys\n",
        "\n",
        "x-axis = percentile score of a security"
      ]
    },
    {
      "cell_type": "markdown",
      "metadata": {},
      "source": [
        "[https://plotly.com/python/radar-chart/](https://plotly.com/python/radar-chart/)"
      ]
    },
    {
      "cell_type": "markdown",
      "metadata": {},
      "source": []
    }
  ],
  "metadata": {
    "colab": {
      "authorship_tag": "ABX9TyOCGSrazvoSkraotQ1Tuf5C",
      "include_colab_link": true,
      "provenance": []
    },
    "kernelspec": {
      "display_name": "Python 3",
      "name": "python3"
    },
    "language_info": {
      "codemirror_mode": {
        "name": "ipython",
        "version": 3
      },
      "file_extension": ".py",
      "mimetype": "text/x-python",
      "name": "python",
      "nbconvert_exporter": "python",
      "pygments_lexer": "ipython3",
      "version": "3.10.11"
    }
  },
  "nbformat": 4,
  "nbformat_minor": 0
}
